{
 "cells": [
  {
   "cell_type": "code",
   "execution_count": 1,
   "metadata": {},
   "outputs": [],
   "source": [
    "from implementations import *\n",
    "from helpers import *\n",
    "import numpy as np\n",
    "import matplotlib.pyplot as plt"
   ]
  },
  {
   "attachments": {},
   "cell_type": "markdown",
   "metadata": {},
   "source": [
    "## Load the data ###"
   ]
  },
  {
   "cell_type": "code",
   "execution_count": 2,
   "metadata": {},
   "outputs": [],
   "source": [
    "data_path='./dataset_to_release/'\n",
    "train_data_path=\"./dataset_to_release/x_train.csv\"\n",
    "test_data_path=\"./dataset_to_release/x_test.csv\""
   ]
  },
  {
   "cell_type": "code",
   "execution_count": 3,
   "metadata": {},
   "outputs": [],
   "source": [
    "x_train, x_test, y_train, train_ids, test_ids=load_csv_data_all(data_path, sub_sample=False)"
   ]
  },
  {
   "cell_type": "code",
   "execution_count": 4,
   "metadata": {},
   "outputs": [],
   "source": [
    "# change the label -1 by 0\n",
    "y_train=np.where(y_train==-1, 0, y_train)"
   ]
  },
  {
   "attachments": {},
   "cell_type": "markdown",
   "metadata": {},
   "source": [
    "## Data Preprocessing"
   ]
  },
  {
   "cell_type": "code",
   "execution_count": 5,
   "metadata": {},
   "outputs": [],
   "source": [
    "# Handeling the missing values\n",
    "\n",
    "def replace_nan_by_mean(data):\n",
    "    ''' function that handels the missing values by replacing them with the column means'''\n",
    "    nan_indices = np.isnan(data)\n",
    "    column_means = np.nanmean(data, axis=0)\n",
    "    data[nan_indices] = np.take(column_means, np.where(nan_indices)[1])\n",
    "    return data\n",
    "\n",
    "\n",
    "data_train = replace_nan_by_mean(x_train)\n"
   ]
  },
  {
   "cell_type": "code",
   "execution_count": 175,
   "metadata": {},
   "outputs": [],
   "source": [
    "features_to_keep = [\"_AGE80\", \"_AGE65YR\", \"_AGEG5YR\", \"_AGE_G\", \"_AIDTST3\", \"_ASTHMS1\", \"_BMI5\", \"_BMI5CAT\",\n",
    "                     \"_CASTHM1\", \"_CHLDCNT\", \"_CHOLCHK\", \"_DRDXAR1\", \"_DRNKWEK\", \"_FLSHOT6\", \"_FRT16\", \"_FRTLT1\", \"_FRTRESP\", \"_FRUITEX\", \"_FRUTSUM\", \"_HCVU651\",\n",
    "                      \"_LMTACT1\", \"_LMTSCL1\", \"_LMTWRK1\", \"_LTASTH1\", \"_MINAC11\", \"_MINAC21\", \n",
    "                       \"_MISFRTN\", \"_MISVEGN\", \"_PA30021\", \"_PA150R2\", \"_PACAT1\", \"_PAINDX1\", \n",
    "                       \"_PASTAE1\", \"_PASTRNG\", \"_PNEUMO2\",\n",
    "                       \"_RFBING5\", \"_RFBMI5\", \"_RFCHOL\", \"_RFDRHV5\", \"_RFHLTH\", \"_RFHYPE5\", \"_RFSMOK3\", \n",
    "                       \"_SMOKER3\", \"_TOTINDA\", \"_VEG23\", \"_VEGESUM\", \"_VEGETEX\", \"_VEGLT1\", \"_VEGRESP\"]"
   ]
  },
  {
   "cell_type": "code",
   "execution_count": 177,
   "metadata": {},
   "outputs": [
    {
     "data": {
      "text/plain": [
       "49"
      ]
     },
     "execution_count": 177,
     "metadata": {},
     "output_type": "execute_result"
    }
   ],
   "source": [
    "len(features_to_keep)"
   ]
  },
  {
   "cell_type": "code",
   "execution_count": 9,
   "metadata": {},
   "outputs": [],
   "source": [
    "# Secode version of data filtering, remove 9 more columns\n",
    "def filtering(data,data_path):\n",
    "    columns = extract_first_line(data_path).split(',')\n",
    "    columns.pop(0)\n",
    "    filtered_columns = [col for col in columns if col in features_to_keep]\n",
    "    indices_to_keep = [columns.index(c) for c in filtered_columns]\n",
    "    #print(len(indices_to_keep))\n",
    "\n",
    "    data_f = data[:, indices_to_keep]\n",
    "    return(data_f)"
   ]
  },
  {
   "cell_type": "code",
   "execution_count": 87,
   "metadata": {},
   "outputs": [],
   "source": [
    "data_train_filtered=filtering(data_train, train_data_path)"
   ]
  },
  {
   "cell_type": "code",
   "execution_count": 88,
   "metadata": {},
   "outputs": [
    {
     "data": {
      "text/plain": [
       "(328135, 54)"
      ]
     },
     "execution_count": 88,
     "metadata": {},
     "output_type": "execute_result"
    }
   ],
   "source": [
    "data_train_filtered.shape"
   ]
  },
  {
   "cell_type": "code",
   "execution_count": 172,
   "metadata": {},
   "outputs": [
    {
     "data": {
      "text/plain": [
       "array([1.00000000e+00, 7.79554120e-01, 1.50573713e+03, 2.00000000e+00,\n",
       "       1.00000000e+00, 1.00000000e+00, 3.00000000e+00, 1.48864715e+00,\n",
       "       1.00000000e+00, 1.00000000e+00, 3.00000000e+00, 2.00000000e+00,\n",
       "       1.00000000e+00, 5.00000000e+00, 1.00000000e+00, 4.40000000e+01,\n",
       "       3.00000000e+00, 2.21500000e+01, 2.00000000e+00, 1.00000000e+00,\n",
       "       3.00000000e+00, 4.00000000e+00, 1.00000000e+00, 1.00000000e+00,\n",
       "       0.00000000e+00, 1.00000000e+00, 0.00000000e+00, 0.00000000e+00,\n",
       "       1.00000000e+00, 1.00000000e+00, 2.00000000e+00, 2.74000000e+00,\n",
       "       1.00000000e+00, 1.00000000e+00, 1.00000000e+00, 1.00000000e+00,\n",
       "       0.00000000e+00, 0.00000000e+00, 1.00000000e+00, 8.40000000e+02,\n",
       "       2.10000000e+02, 1.00000000e+00, 1.00000000e+00, 1.00000000e+00,\n",
       "       1.00000000e+00, 1.00000000e+00, 2.00000000e+00, 2.00000000e+00,\n",
       "       3.00000000e+00, 3.00000000e+00, 4.00000000e+00, 2.28990981e+00,\n",
       "       2.40679360e+00, 1.00000000e+00])"
      ]
     },
     "execution_count": 172,
     "metadata": {},
     "output_type": "execute_result"
    }
   ],
   "source": [
    "data_train_filtered[15]"
   ]
  },
  {
   "cell_type": "code",
   "execution_count": 170,
   "metadata": {},
   "outputs": [
    {
     "data": {
      "text/plain": [
       "(array([240617.,      0.,      0.,      0.,      0.,      0.,      0.,\n",
       "             0.,      0.,      0.,      0.,      0.,  34419.,      0.,\n",
       "             0.,      0.,      0.,      0.,      0.,      0.,      0.,\n",
       "             0.,      0.,      0.,      0.,  30346.,      0.,      0.,\n",
       "             0.,      0.,      0.,      0.,      0.,      0.,      0.,\n",
       "             0.,      0.,  12905.,      0.,      0.,      0.,      0.,\n",
       "             0.,      0.,      0.,      0.,      0.,      0.,      0.,\n",
       "             0.,   4752.,      0.,      0.,      0.,      0.,      0.,\n",
       "             0.,      0.,      0.,      0.,      0.,      0.,   2369.,\n",
       "             0.,      0.,      0.,      0.,      0.,      0.,      0.,\n",
       "             0.,      0.,      0.,      0.,      0.,      0.,      0.,\n",
       "             0.,      0.,      0.,      0.,      0.,      0.,      0.,\n",
       "             0.,      0.,      0.,      0.,      0.,      0.,      0.,\n",
       "             0.,      0.,      0.,      0.,      0.,      0.,      0.,\n",
       "             0.,   2727.]),\n",
       " array([1.  , 1.08, 1.16, 1.24, 1.32, 1.4 , 1.48, 1.56, 1.64, 1.72, 1.8 ,\n",
       "        1.88, 1.96, 2.04, 2.12, 2.2 , 2.28, 2.36, 2.44, 2.52, 2.6 , 2.68,\n",
       "        2.76, 2.84, 2.92, 3.  , 3.08, 3.16, 3.24, 3.32, 3.4 , 3.48, 3.56,\n",
       "        3.64, 3.72, 3.8 , 3.88, 3.96, 4.04, 4.12, 4.2 , 4.28, 4.36, 4.44,\n",
       "        4.52, 4.6 , 4.68, 4.76, 4.84, 4.92, 5.  , 5.08, 5.16, 5.24, 5.32,\n",
       "        5.4 , 5.48, 5.56, 5.64, 5.72, 5.8 , 5.88, 5.96, 6.04, 6.12, 6.2 ,\n",
       "        6.28, 6.36, 6.44, 6.52, 6.6 , 6.68, 6.76, 6.84, 6.92, 7.  , 7.08,\n",
       "        7.16, 7.24, 7.32, 7.4 , 7.48, 7.56, 7.64, 7.72, 7.8 , 7.88, 7.96,\n",
       "        8.04, 8.12, 8.2 , 8.28, 8.36, 8.44, 8.52, 8.6 , 8.68, 8.76, 8.84,\n",
       "        8.92, 9.  ]),\n",
       " <BarContainer object of 100 artists>)"
      ]
     },
     "execution_count": 170,
     "metadata": {},
     "output_type": "execute_result"
    },
    {
     "data": {
      "image/png": "[encoded data removed]",
      "text/plain": [
       "<Figure size 640x480 with 1 Axes>"
      ]
     },
     "metadata": {},
     "output_type": "display_data"
    }
   ],
   "source": [
    "plt.hist(data_train_filtered[:,20], bins=100, range=None)"
   ]
  },
  {
   "cell_type": "code",
   "execution_count": 90,
   "metadata": {},
   "outputs": [],
   "source": [
    "# standardization of the data\n",
    "def standardize(data):\n",
    "    small_value=1*10**(-9)\n",
    "    mean=np.mean(data, axis=0)\n",
    "    std=np.std(data, axis=0)+small_value\n",
    "    return((data - mean) / (std))"
   ]
  },
  {
   "cell_type": "code",
   "execution_count": 91,
   "metadata": {},
   "outputs": [],
   "source": [
    "data_train_standard=standardize(data_train_filtered)"
   ]
  },
  {
   "cell_type": "code",
   "execution_count": 92,
   "metadata": {},
   "outputs": [],
   "source": [
    "# feature augmentation\n",
    "def feature_expansion(data, degree):\n",
    "    augmented_features=[]\n",
    "    for i in range(data.shape[1]):\n",
    "        feature=data[:,i]\n",
    "        augmented_feature=build_poly(feature, degree)\n",
    "        augmented_features.append(augmented_feature)\n",
    "\n",
    "    # Stack the augmented features horizontally\n",
    "    augmented_data = np.hstack(augmented_features)\n",
    "    return(augmented_data)\n",
    "\n",
    "   "
   ]
  },
  {
   "cell_type": "code",
   "execution_count": 135,
   "metadata": {},
   "outputs": [],
   "source": [
    "def apply_model(test, model):\n",
    "    pred=(sigmoid(test.dot(model))>=0.2).astype(int)\n",
    "    return(pred)"
   ]
  },
  {
   "cell_type": "code",
   "execution_count": 143,
   "metadata": {},
   "outputs": [],
   "source": [
    "def apply_model_2(test, model, thresh):\n",
    "    pred=(sigmoid(test.dot(model))>=thresh).astype(int)\n",
    "    return(pred)"
   ]
  },
  {
   "attachments": {},
   "cell_type": "markdown",
   "metadata": {},
   "source": [
    "# Balance the data"
   ]
  },
  {
   "cell_type": "code",
   "execution_count": 94,
   "metadata": {},
   "outputs": [],
   "source": [
    "def undersample(X, y, majority_class_label):\n",
    "    # Identify indices of majority and minority classes\n",
    "    majority_indices = np.where(y == majority_class_label)[0]\n",
    "    minority_indices = np.where(y != majority_class_label)[0]\n",
    "\n",
    "    # Determine the number of samples in the minority class\n",
    "    num_minority_samples = len(minority_indices)\n",
    "\n",
    "    # Randomly select a subset of the majority class indices\n",
    "    undersampled_majority_indices = np.random.choice(majority_indices, num_minority_samples, replace=False)\n",
    "\n",
    "    # Combine minority class indices with the undersampled majority class indices\n",
    "    undersampled_indices = np.concatenate([undersampled_majority_indices, minority_indices])\n",
    "\n",
    "    # Obtain the undersampled dataset\n",
    "    X_undersampled = X[undersampled_indices]\n",
    "    y_undersampled = y[undersampled_indices]\n",
    "\n",
    "    return X_undersampled, y_undersampled"
   ]
  },
  {
   "cell_type": "code",
   "execution_count": 95,
   "metadata": {},
   "outputs": [],
   "source": [
    "x_undersampled, y_undersampled =undersample(data_train_standard, y_train, 0)"
   ]
  },
  {
   "cell_type": "code",
   "execution_count": 96,
   "metadata": {},
   "outputs": [
    {
     "data": {
      "text/plain": [
       "(array([28975.,     0.,     0.,     0.,     0.,     0.,     0.,     0.,\n",
       "            0., 28975.]),\n",
       " array([0. , 0.1, 0.2, 0.3, 0.4, 0.5, 0.6, 0.7, 0.8, 0.9, 1. ]),\n",
       " <BarContainer object of 10 artists>)"
      ]
     },
     "execution_count": 96,
     "metadata": {},
     "output_type": "execute_result"
    },
    {
     "data": {
      "image/png": "[encoded data removed]",
      "text/plain": [
       "<Figure size 640x480 with 1 Axes>"
      ]
     },
     "metadata": {},
     "output_type": "display_data"
    }
   ],
   "source": [
    "plt.hist(y_undersampled)"
   ]
  },
  {
   "cell_type": "code",
   "execution_count": 97,
   "metadata": {},
   "outputs": [
    {
     "data": {
      "text/plain": [
       "(57950, 54)"
      ]
     },
     "execution_count": 97,
     "metadata": {},
     "output_type": "execute_result"
    }
   ],
   "source": [
    "x_undersampled.shape"
   ]
  },
  {
   "attachments": {},
   "cell_type": "markdown",
   "metadata": {},
   "source": [
    "## Cross-Validation"
   ]
  },
  {
   "cell_type": "code",
   "execution_count": 35,
   "metadata": {},
   "outputs": [],
   "source": [
    "def compute_f1_score(true_labels, predicted_labels):\n",
    "    \"\"\"\n",
    "    Computes the F1 score for a classification model using NumPy.\n",
    "\n",
    "    Parameters:\n",
    "    true_labels (numpy.ndarray): True labels for the data.\n",
    "    predicted_labels (numpy.ndarray): Predicted labels from the model.\n",
    "\n",
    "    Returns:\n",
    "    f1 (float): The F1 score.\n",
    "    \"\"\"\n",
    "    true_positive = np.sum(np.logical_and(true_labels == 1, predicted_labels == 1))\n",
    "    false_positive = np.sum(np.logical_and(true_labels == 0, predicted_labels == 1))\n",
    "    false_negative = np.sum(np.logical_and(true_labels == 1, predicted_labels == 0))\n",
    "    \n",
    "    precision = true_positive / (true_positive + false_positive)\n",
    "    recall = true_positive / (true_positive + false_negative)\n",
    "    \n",
    "    f1 = 2 * (precision * recall) / (precision + recall) if (precision + recall) > 0 else 0\n",
    "    \n",
    "    return f1"
   ]
  },
  {
   "cell_type": "code",
   "execution_count": 26,
   "metadata": {},
   "outputs": [],
   "source": [
    "def build_k_indices(y, k_fold, seed):\n",
    "    \"\"\"build k indices for k-fold.\n",
    "\n",
    "    Args:\n",
    "        y:      shape=(N,)\n",
    "        k_fold: K in K-fold, i.e. the fold num\n",
    "        seed:   the random seed\n",
    "\n",
    "    Returns:\n",
    "        A 2D array of shape=(k_fold, N/k_fold) that indicates the data indices for each fold\n",
    "\n",
    "    \"\"\"\n",
    "    num_row = y.shape[0]\n",
    "    interval = int(num_row / k_fold)\n",
    "    np.random.seed(seed)\n",
    "    indices = np.random.permutation(num_row)\n",
    "    k_indices = [indices[k * interval : (k + 1) * interval] for k in range(k_fold)]\n",
    "    \n",
    "    return np.array(k_indices)"
   ]
  },
  {
   "cell_type": "code",
   "execution_count": 27,
   "metadata": {},
   "outputs": [],
   "source": [
    "def cross_validation(y, x, k_indices, k, lambda_, degree):\n",
    "    \"\"\"return the loss of ridge regression for a fold corresponding to k_indices\n",
    "\n",
    "    Args:\n",
    "        y:          shape=(N,)\n",
    "        x:          shape=(N,)\n",
    "        k_indices:  2D array returned by build_k_indices()\n",
    "        k:          scalar, the k-th fold (N.B.: not to confused with k_fold which is the fold nums)\n",
    "        lambda_:    scalar, cf. ridge_regression()\n",
    "        degree:     scalar, cf. build_poly()\n",
    "\n",
    "    Returns:\n",
    "        train and test root mean square errors rmse = sqrt(2 mse)\n",
    "\n",
    "    \"\"\"\n",
    "\n",
    "    # ***************************************************\n",
    "    # get k'th subgroup in test, others in train:\n",
    "    train_idx=np.reshape(k_indices[[i for i in range(len(k_indices)) if i!=k]], -1)\n",
    "    test_idx=k_indices[k]\n",
    "\n",
    "    x_train=x[train_idx,:]\n",
    "    print(x_train.shape)\n",
    "    y_train=y[train_idx]\n",
    "    x_test=x[test_idx,:]\n",
    "    y_test=y[test_idx]\n",
    "    \n",
    "    y_tr=np.expand_dims(y_train, 1)\n",
    "    y_te=np.expand_dims(y_test, 1)\n",
    "\n",
    "    y_tr=np.where(y_tr == -1, 0, y_tr)\n",
    "    print(y_tr, y_tr.shape)\n",
    "    y_te=np.where(y_te == -1, 0, y_te)\n",
    "\n",
    "    max_iters = 1000\n",
    "    gamma=0.5\n",
    "\n",
    "    # ***************************************************\n",
    "    # form data with polynomial degree: \n",
    "    print('on va auggmenter le data')\n",
    "    train_data=feature_expansion(x_train, degree)\n",
    "    test_data=feature_expansion(x_test, degree)\n",
    "    train_data=standardize(train_data)\n",
    "    test_data=standardize(test_data)\n",
    "    # ***************************************************\n",
    "     # build tx\n",
    "    tx_tr = np.c_[np.ones((y_train.shape[0], 1)), train_data]\n",
    "    tx_te = np.c_[np.ones((test_data.shape[0], 1)), test_data]\n",
    "    print(tx_tr.shape)\n",
    "    print(tx_te.shape)\n",
    "    initial_w=np.zeros((tx_tr.shape[1], 1))\n",
    "\n",
    "    # reg logistic regression: \n",
    "    w=reg_logistic_regression(y_tr,tx_tr,lambda_,initial_w, max_iters, gamma)[0]\n",
    "    print(w.shape)\n",
    "    print(tx_te.shape)\n",
    "    y_pred=apply_model(tx_te, w)\n",
    "    # calculate f1 score on test:\n",
    "    f1_te=compute_f1_score(y_te, y_pred)\n",
    "  \n",
    "    return f1_te"
   ]
  },
  {
   "cell_type": "code",
   "execution_count": 28,
   "metadata": {},
   "outputs": [],
   "source": [
    "def cross_validation_demo(degree, k_fold, lambdas):\n",
    "    \"\"\"cross validation over regularisation parameter lambda.\n",
    "\n",
    "    Args:\n",
    "        degree: integer, degree of the polynomial expansion\n",
    "        k_fold: integer, the number of folds\n",
    "        lambdas: shape = (p, ) where p is the number of values of lambda to test\n",
    "    Returns:\n",
    "        best_lambda : scalar, value of the best lambda\n",
    "        best_rmse : scalar, the associated root mean squared error for the best lambda\n",
    "    \"\"\"\n",
    "\n",
    "    seed = 12\n",
    "    #degree = degree\n",
    "    k_fold = k_fold\n",
    "    # split data in k fold\n",
    "    k_indices = build_k_indices(y_train, k_fold, seed)\n",
    "    # define lists to store the loss of training data and test data\n",
    "    f1_score=np.zeros((len(degree), len(lambdas)))\n",
    "    # cross validation over lambdas:\n",
    "    for i in range(len(degree)):\n",
    "        d=degree[i]\n",
    "        for j in range(len(lambdas)):\n",
    "            lambda_=lambdas[j]\n",
    "            cross_val=[cross_validation(y_train, data_train_filtered_2, k_indices, k, lambda_, d) for k in range(k_fold)]\n",
    "            f1=np.mean(cross_val)\n",
    "            f1_score[i,j]=f1\n",
    "    print('on y est presque')\n",
    "    best_degree=degree[np.unravel_index(np.argmax(f1_score, axis=None), f1_score.shape)[0]]\n",
    "    best_lambda=lambdas[np.unravel_index(np.argmax(f1_score, axis=None), f1_score.shape)[1]]\n",
    "    best_f1=np.max(f1_score)\n",
    "    \n",
    "    return best_degree, best_f1 , best_lambda , f1_score"
   ]
  },
  {
   "cell_type": "code",
   "execution_count": 29,
   "metadata": {},
   "outputs": [],
   "source": [
    "#best_degree, best_f1 , best_lambda , f1_score= cross_validation_demo(np.array([2]).astype(int), 2, np.array([10e-6]))"
   ]
  },
  {
   "cell_type": "code",
   "execution_count": 64,
   "metadata": {},
   "outputs": [
    {
     "data": {
      "text/plain": [
       "array([[0.]])"
      ]
     },
     "execution_count": 64,
     "metadata": {},
     "output_type": "execute_result"
    }
   ],
   "source": [
    "f1_score"
   ]
  },
  {
   "cell_type": "code",
   "execution_count": 31,
   "metadata": {},
   "outputs": [
    {
     "data": {
      "text/plain": [
       "5"
      ]
     },
     "execution_count": 31,
     "metadata": {},
     "output_type": "execute_result"
    }
   ],
   "source": [
    "best_degree"
   ]
  },
  {
   "attachments": {},
   "cell_type": "markdown",
   "metadata": {},
   "source": []
  },
  {
   "cell_type": "code",
   "execution_count": 56,
   "metadata": {},
   "outputs": [],
   "source": [
    "#augmented_data=standardize(feature_expansion(x_undersampled, 5))"
   ]
  },
  {
   "attachments": {},
   "cell_type": "markdown",
   "metadata": {},
   "source": [
    "## Training"
   ]
  },
  {
   "cell_type": "code",
   "execution_count": 98,
   "metadata": {},
   "outputs": [],
   "source": [
    "#split the test set in two\n",
    "\n",
    "\n",
    "def split_data(x, y, ratio, seed=1):\n",
    "    \"\"\"\n",
    "    split the dataset based on the split ratio. If ratio is 0.8\n",
    "    you will have 80% of your data set dedicated to training\n",
    "    and the rest dedicated to testing. If ratio times the number of samples is not round\n",
    "    you can use np.floor. Also check the documentation for np.random.permutation,\n",
    "    it could be useful.\n",
    "\n",
    "    Args:\n",
    "        x: numpy array of shape (N,), N is the number of samples.\n",
    "        y: numpy array of shape (N,).\n",
    "        ratio: scalar in [0,1]\n",
    "        seed: integer.\n",
    "\n",
    "    Returns:\n",
    "        x_tr: numpy array containing the train data.\n",
    "        x_te: numpy array containing the test data.\n",
    "        y_tr: numpy array containing the train labels.\n",
    "        y_te: numpy array containing the test labels.\n",
    "    \"\"\"\n",
    "    N=int(ratio*len(x))\n",
    "    # set seed\n",
    "    np.random.seed(seed)\n",
    "    # split the data based on the given ratio: \n",
    "    shuffled_data=np.random.permutation(x)\n",
    "    #print(shuffled_data)\n",
    "    np.random.seed(seed)\n",
    "    shuffled_labels=np.random.permutation(y)\n",
    "    #print(shuffled_labels)\n",
    "    x_tr=shuffled_data[:N] #train data\n",
    "    x_te=shuffled_data[N:] #test data\n",
    "    y_tr=shuffled_labels[:N]#train labels\n",
    "    y_te=shuffled_labels[N:]# test labels\n",
    "\n",
    "    return(x_tr,x_te, y_tr, y_te)"
   ]
  },
  {
   "cell_type": "code",
   "execution_count": 120,
   "metadata": {},
   "outputs": [],
   "source": [
    "x_tr,x_te, y_tr, y_te=split_data(data_train_standard, y_train, ratio=0.8)\n"
   ]
  },
  {
   "cell_type": "code",
   "execution_count": 121,
   "metadata": {},
   "outputs": [
    {
     "name": "stdout",
     "output_type": "stream",
     "text": [
      "(262508,) (262508, 54)\n"
     ]
    }
   ],
   "source": [
    "print(y_tr.shape, x_tr.shape)"
   ]
  },
  {
   "cell_type": "code",
   "execution_count": 122,
   "metadata": {},
   "outputs": [],
   "source": [
    "y_tr=np.expand_dims(y_tr, 1)"
   ]
  },
  {
   "cell_type": "code",
   "execution_count": 123,
   "metadata": {},
   "outputs": [],
   "source": [
    "# Binary classification using logistic regression\n",
    "\n",
    "max_iters = 10000\n",
    "gamma = 0.5\n",
    "\n",
    " # build tx\n",
    "tx_tr = np.c_[np.ones((y_tr.shape[0], 1)), x_tr]\n",
    "initial_w=np.zeros((tx_tr.shape[1], 1))\n"
   ]
  },
  {
   "cell_type": "code",
   "execution_count": 124,
   "metadata": {},
   "outputs": [
    {
     "name": "stdout",
     "output_type": "stream",
     "text": [
      "Current iteration=0, loss=0.6035602453326046\n",
      "Current iteration=100, loss=0.2523261844037851\n",
      "Current iteration=200, loss=0.25072459812346704\n",
      "Current iteration=300, loss=0.25044549470111804\n",
      "Current iteration=400, loss=0.2503641639670998\n",
      "Current iteration=500, loss=0.25032784029530236\n",
      "Current iteration=600, loss=0.250304402916396\n",
      "Current iteration=700, loss=0.25028592934874505\n",
      "Current iteration=800, loss=0.25027017785397954\n",
      "Current iteration=900, loss=0.2502563594017947\n",
      "Current iteration=1000, loss=0.25024409281574705\n",
      "Current iteration=1100, loss=0.25023313250471857\n",
      "Current iteration=1200, loss=0.25022329235280805\n",
      "Current iteration=1300, loss=0.25021442127163107\n",
      "Current iteration=1400, loss=0.25020639317456134\n",
      "Current iteration=1500, loss=0.2501991014994988\n",
      "Current iteration=1600, loss=0.25019245552081776\n",
      "Current iteration=1700, loss=0.25018637758635676\n",
      "Current iteration=1800, loss=0.2501808009467709\n",
      "Current iteration=1900, loss=0.25017566801116464\n",
      "Current iteration=2000, loss=0.25017092892663156\n",
      "Current iteration=2100, loss=0.2501665404105565\n",
      "Current iteration=2200, loss=0.25016246478329346\n",
      "Current iteration=2300, loss=0.2501586691615112\n",
      "Current iteration=2400, loss=0.25015512478158514\n",
      "Current iteration=2500, loss=0.25015180642912455\n",
      "Current iteration=2600, loss=0.2501486919557635\n",
      "Current iteration=2700, loss=0.2501457618681843\n",
      "Current iteration=2800, loss=0.2501429989772903\n",
      "Current iteration=2900, loss=0.25014038809774697\n",
      "Current iteration=3000, loss=0.2501379157899074\n",
      "Current iteration=3100, loss=0.250135570137561\n",
      "Current iteration=3200, loss=0.25013334055608477\n",
      "Current iteration=3300, loss=0.2501312176264881\n",
      "Current iteration=3400, loss=0.2501291929515804\n",
      "Current iteration=3500, loss=0.2501272590310982\n",
      "Current iteration=3600, loss=0.250125409153119\n",
      "Current iteration=3700, loss=0.2501236372995016\n",
      "Current iteration=3800, loss=0.2501219380634314\n",
      "Current iteration=3900, loss=0.25012030657742934\n",
      "Current iteration=4000, loss=0.2501187384504251\n",
      "Current iteration=4100, loss=0.250117229712693\n",
      "Current iteration=4200, loss=0.25011577676761704\n",
      "Current iteration=4300, loss=0.25011437634939687\n",
      "Current iteration=4400, loss=0.25011302548592634\n",
      "Current iteration=4500, loss=0.25011172146618393\n",
      "Current iteration=4600, loss=0.2501104618115581\n",
      "Current iteration=4700, loss=0.25010924425061165\n",
      "Current iteration=4800, loss=0.2501080666968536\n",
      "Current iteration=4900, loss=0.25010692722914085\n",
      "Current iteration=5000, loss=0.2501058240743859\n",
      "Current iteration=5100, loss=0.2501047555922839\n",
      "Current iteration=5200, loss=0.2501037202618115\n",
      "loss=0.25010309438149625\n"
     ]
    }
   ],
   "source": [
    "w,loss= logistic_regression(y_tr, tx_tr, initial_w, max_iters, gamma=0.5)"
   ]
  },
  {
   "cell_type": "code",
   "execution_count": 63,
   "metadata": {},
   "outputs": [
    {
     "name": "stdout",
     "output_type": "stream",
     "text": [
      "Current iteration=0, loss=0.5867121754959341\n",
      "Current iteration=100, loss=0.9345087978484309\n",
      "Current iteration=200, loss=0.9240438522125392\n",
      "Current iteration=300, loss=0.9208664728404417\n",
      "Current iteration=400, loss=0.9193910588013052\n",
      "Current iteration=500, loss=0.9185522318818616\n",
      "Current iteration=600, loss=0.9180126288540831\n",
      "Current iteration=700, loss=0.9176406696690373\n",
      "Current iteration=800, loss=0.9173743910951236\n",
      "Current iteration=900, loss=0.9171794860330416\n",
      "loss=0.9392419110772547\n"
     ]
    }
   ],
   "source": [
    "lambda_ = 10e-4\n",
    "w_reg,loss_reg= reg_logistic_regression(y_tr, tx_tr, lambda_, initial_w, max_iters, gamma)"
   ]
  },
  {
   "cell_type": "code",
   "execution_count": 62,
   "metadata": {},
   "outputs": [
    {
     "data": {
      "text/plain": [
       "(391, 1)"
      ]
     },
     "execution_count": 62,
     "metadata": {},
     "output_type": "execute_result"
    }
   ],
   "source": [
    "w_reg.shape"
   ]
  },
  {
   "attachments": {},
   "cell_type": "markdown",
   "metadata": {},
   "source": [
    "## Test and Accuracy"
   ]
  },
  {
   "cell_type": "code",
   "execution_count": 125,
   "metadata": {},
   "outputs": [],
   "source": [
    "tx_te=np.c_[np.ones((x_te.shape[0], 1)), x_te]"
   ]
  },
  {
   "cell_type": "code",
   "execution_count": 126,
   "metadata": {},
   "outputs": [],
   "source": [
    "y_te=np.expand_dims(y_te, 1)"
   ]
  },
  {
   "cell_type": "code",
   "execution_count": 127,
   "metadata": {},
   "outputs": [
    {
     "data": {
      "text/plain": [
       "(55, 1)"
      ]
     },
     "execution_count": 127,
     "metadata": {},
     "output_type": "execute_result"
    }
   ],
   "source": [
    "w.shape"
   ]
  },
  {
   "cell_type": "code",
   "execution_count": 152,
   "metadata": {},
   "outputs": [],
   "source": [
    "threshold=np.linspace(0, 0.5, 20)\n",
    "accuracy=[]\n",
    "f1=[]\n",
    "for t in threshold:\n",
    "    y_pred=apply_model_2(tx_te, w, t)\n",
    "    accuracy.append(compute_accuracy(y_pred, y_te))\n",
    "    f1.append(compute_f1_score(y_te, y_pred))"
   ]
  },
  {
   "cell_type": "code",
   "execution_count": 179,
   "metadata": {},
   "outputs": [
    {
     "data": {
      "text/plain": [
       "(65627, 55)"
      ]
     },
     "execution_count": 179,
     "metadata": {},
     "output_type": "execute_result"
    }
   ],
   "source": [
    "tx_te.shape"
   ]
  },
  {
   "cell_type": "code",
   "execution_count": 137,
   "metadata": {},
   "outputs": [
    {
     "data": {
      "text/plain": [
       "(65627, 1)"
      ]
     },
     "execution_count": 137,
     "metadata": {},
     "output_type": "execute_result"
    }
   ],
   "source": [
    "y_pred.shape"
   ]
  },
  {
   "cell_type": "code",
   "execution_count": 138,
   "metadata": {},
   "outputs": [
    {
     "data": {
      "text/plain": [
       "65627"
      ]
     },
     "execution_count": 138,
     "metadata": {},
     "output_type": "execute_result"
    }
   ],
   "source": [
    "len(y_te)"
   ]
  },
  {
   "cell_type": "code",
   "execution_count": 144,
   "metadata": {},
   "outputs": [],
   "source": [
    "#Calculate accuracy\n",
    "def compute_accuracy(pred, label):\n",
    "    correct_predictions = np.sum((pred == label))\n",
    "    total_samples = len(label)\n",
    "    accuracy = correct_predictions / total_samples\n",
    "    return(accuracy)"
   ]
  },
  {
   "cell_type": "code",
   "execution_count": 140,
   "metadata": {},
   "outputs": [
    {
     "data": {
      "text/plain": [
       "(65627, 1)"
      ]
     },
     "execution_count": 140,
     "metadata": {},
     "output_type": "execute_result"
    }
   ],
   "source": [
    "(y_pred == y_te).shape"
   ]
  },
  {
   "cell_type": "code",
   "execution_count": 141,
   "metadata": {},
   "outputs": [
    {
     "data": {
      "text/plain": [
       "0.328117947946442"
      ]
     },
     "execution_count": 141,
     "metadata": {},
     "output_type": "execute_result"
    }
   ],
   "source": [
    "compute_f1_score(y_te, y_pred)"
   ]
  },
  {
   "cell_type": "code",
   "execution_count": 142,
   "metadata": {},
   "outputs": [
    {
     "name": "stdout",
     "output_type": "stream",
     "text": [
      "0.86389748121962\n"
     ]
    }
   ],
   "source": [
    "print(accuracy)"
   ]
  },
  {
   "attachments": {},
   "cell_type": "markdown",
   "metadata": {},
   "source": [
    "## Test"
   ]
  },
  {
   "cell_type": "code",
   "execution_count": 38,
   "metadata": {},
   "outputs": [],
   "source": [
    "xt=replace_nan_by_mean(x_test)"
   ]
  },
  {
   "cell_type": "code",
   "execution_count": 39,
   "metadata": {},
   "outputs": [
    {
     "data": {
      "text/plain": [
       "(109379, 321)"
      ]
     },
     "execution_count": 39,
     "metadata": {},
     "output_type": "execute_result"
    }
   ],
   "source": [
    "x_test.shape"
   ]
  },
  {
   "cell_type": "code",
   "execution_count": 40,
   "metadata": {},
   "outputs": [],
   "source": [
    "xt_filtered=filtering(xt, test_data_path)"
   ]
  },
  {
   "cell_type": "code",
   "execution_count": 41,
   "metadata": {},
   "outputs": [
    {
     "data": {
      "text/plain": [
       "(109379, 54)"
      ]
     },
     "execution_count": 41,
     "metadata": {},
     "output_type": "execute_result"
    }
   ],
   "source": [
    "xt_filtered.shape"
   ]
  },
  {
   "cell_type": "code",
   "execution_count": 67,
   "metadata": {},
   "outputs": [],
   "source": [
    "#augmented_data_test=feature_expansion(xt_filtered, 5)"
   ]
  },
  {
   "cell_type": "code",
   "execution_count": 68,
   "metadata": {},
   "outputs": [
    {
     "data": {
      "text/plain": [
       "(109379, 390)"
      ]
     },
     "execution_count": 68,
     "metadata": {},
     "output_type": "execute_result"
    }
   ],
   "source": [
    "#augmented_data_test.shape"
   ]
  },
  {
   "cell_type": "code",
   "execution_count": 42,
   "metadata": {},
   "outputs": [],
   "source": [
    "\n",
    "xt_standardized=standardize(xt_filtered)\n",
    "xtest=np.c_[np.ones((xt.shape[0], 1)), xt_standardized]\n"
   ]
  },
  {
   "cell_type": "code",
   "execution_count": 43,
   "metadata": {},
   "outputs": [
    {
     "data": {
      "text/plain": [
       "(109379, 55)"
      ]
     },
     "execution_count": 43,
     "metadata": {},
     "output_type": "execute_result"
    }
   ],
   "source": [
    "xtest.shape"
   ]
  },
  {
   "cell_type": "code",
   "execution_count": 44,
   "metadata": {},
   "outputs": [],
   "source": [
    "predictions=apply_model(xtest, w)\n",
    "predictions=np.where(predictions==0,-1, predictions)"
   ]
  },
  {
   "cell_type": "code",
   "execution_count": 45,
   "metadata": {},
   "outputs": [
    {
     "data": {
      "text/plain": [
       "array([[ 1],\n",
       "       [-1],\n",
       "       [-1],\n",
       "       ...,\n",
       "       [-1],\n",
       "       [ 1],\n",
       "       [-1]])"
      ]
     },
     "execution_count": 45,
     "metadata": {},
     "output_type": "execute_result"
    }
   ],
   "source": [
    "predictions\n"
   ]
  },
  {
   "cell_type": "code",
   "execution_count": 46,
   "metadata": {},
   "outputs": [],
   "source": [
    "create_csv_submission(test_ids, predictions, 'predictions_LR_new.csv')"
   ]
  },
  {
   "cell_type": "code",
   "execution_count": null,
   "metadata": {},
   "outputs": [],
   "source": []
  }
 ],
 "metadata": {
  "kernelspec": {
   "display_name": "Python 3 (ipykernel)",
   "language": "python",
   "name": "python3"
  },
  "language_info": {
   "codemirror_mode": {
    "name": "ipython",
    "version": 3
   },
   "file_extension": ".py",
   "mimetype": "text/x-python",
   "name": "python",
   "nbconvert_exporter": "python",
   "pygments_lexer": "ipython3",
   "version": "3.9.16"
  }
 },
 "nbformat": 4,
 "nbformat_minor": 2
}
