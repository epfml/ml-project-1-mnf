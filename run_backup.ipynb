{
 "cells": [
  {
   "cell_type": "code",
   "execution_count": 1,
   "metadata": {},
   "outputs": [],
   "source": [
    "from implementations import *\n",
    "from helpers import *\n",
    "import numpy as np\n",
    "import matplotlib.pyplot as plt"
   ]
  },
  {
   "attachments": {},
   "cell_type": "markdown",
   "metadata": {},
   "source": [
    "## Load the data ###"
   ]
  },
  {
   "cell_type": "code",
   "execution_count": 2,
   "metadata": {},
   "outputs": [],
   "source": [
    "data_path='./dataset_to_release/'\n",
    "train_data_path=\"./dataset_to_release/x_train.csv\"\n",
    "test_data_path=\"./dataset_to_release/x_test.csv\""
   ]
  },
  {
   "cell_type": "code",
   "execution_count": 3,
   "metadata": {},
   "outputs": [],
   "source": [
    "x_train, x_test, y_train, train_ids, test_ids=load_csv_data_all(data_path, sub_sample=False)"
   ]
  },
  {
   "cell_type": "code",
   "execution_count": 15,
   "metadata": {},
   "outputs": [],
   "source": [
    "# change the label -1 by 0\n",
    "y_train=np.where(y_train==-1, 0, y_train)"
   ]
  },
  {
   "attachments": {},
   "cell_type": "markdown",
   "metadata": {},
   "source": [
    "## Data Preprocessing"
   ]
  },
  {
   "cell_type": "code",
   "execution_count": 4,
   "metadata": {},
   "outputs": [],
   "source": [
    "# Handeling the missing values\n",
    "\n",
    "def replace_nan_by_mean(data):\n",
    "    ''' function that handels the missing values by replacing them with the column means'''\n",
    "    nan_indices = np.isnan(data)\n",
    "    column_means = np.nanmean(data, axis=0)\n",
    "    data[nan_indices] = np.take(column_means, np.where(nan_indices)[1])\n",
    "    return data\n",
    "\n",
    "\n",
    "data_train = replace_nan_by_mean(x_train)\n"
   ]
  },
  {
   "cell_type": "code",
   "execution_count": 5,
   "metadata": {},
   "outputs": [],
   "source": [
    "features_to_keep = [\"_AGE80\", \"_AGE65YR\", \"_AGEG5YR\", \"_AGE_G\", \"_AIDTST3\", \"_ASTHMS1\", \"_BMI5\", \"_BMI5CAT\",\n",
    "                     \"_CASTHM1\", \"_CHLDCNT\", \"_CHOLCHK\", \"_DRDXAR1\", \"_DRNKWEK\", \"_DUALCOR\", \"_DUALUSE\"\n",
    "                     , \"_FLSHOT6\", \"_FRT16\", \"_FRTLT1\", \"_FRTRESP\", \"_FRUITEX\", \"_FRUTSUM\", \"_HCVU651\",\n",
    "                       \"_LLCPWT\", \"_LMTACT1\", \"_LMTSCL1\", \"_LMTWRK1\", \"_LTASTH1\", \"_MICHD\", \"_MINAC11\", \"_MINAC21\", \n",
    "                       \"_MISFRTN\", \"_MISVEGN\", \"_MRACE1\", \"_PA30021\", \"_PA150R2\", \"_PA300R2\", \"_PACAT1\", \"_PAINDX1\", \n",
    "                       \"_PASTAE1\", \"_PASTRNG\", \"_PNEUMO2\",\n",
    "                       \"_RFBING5\", \"_RFBMI5\", \"_RFCHOL\", \"_RFDRHV5\", \"_RFHLTH\", \"_RFHYPE5\", \"_RFSMOK3\", \n",
    "                       \"_SMOKER3\", \"_TOTINDA\", \"_VEG23\", \"_VEGESUM\", \"_VEGETEX\", \"_VEGLT1\", \"_VEGRESP\"]"
   ]
  },
  {
   "cell_type": "code",
   "execution_count": 6,
   "metadata": {},
   "outputs": [],
   "source": [
    "# Secode version of data filtering, remove 9 more columns\n",
    "def filtering(data,data_path):\n",
    "    columns = extract_first_line(data_path).split(',')\n",
    "    columns.pop(0)\n",
    "    filtered_columns = [col for col in columns if col in features_to_keep]\n",
    "    indices_to_keep = [columns.index(c) for c in filtered_columns]\n",
    "    print(len(indices_to_keep))\n",
    "\n",
    "    data_f = data[:, indices_to_keep]\n",
    "    return(data_f)"
   ]
  },
  {
   "cell_type": "code",
   "execution_count": 7,
   "metadata": {},
   "outputs": [
    {
     "name": "stdout",
     "output_type": "stream",
     "text": [
      "54\n"
     ]
    }
   ],
   "source": [
    "data_train_filtered=filtering(data_train, train_data_path)"
   ]
  },
  {
   "cell_type": "code",
   "execution_count": 9,
   "metadata": {},
   "outputs": [
    {
     "data": {
      "text/plain": [
       "(328135, 54)"
      ]
     },
     "execution_count": 9,
     "metadata": {},
     "output_type": "execute_result"
    }
   ],
   "source": [
    "data_train_filtered.shape\n"
   ]
  },
  {
   "cell_type": "code",
   "execution_count": 76,
   "metadata": {},
   "outputs": [
    {
     "data": {
      "text/plain": [
       "(array([152679.,      0.,      0.,      0.,      0.,      0.,      0.,\n",
       "             0.,      0.,      0.,      0.,      0., 136042.,      0.,\n",
       "             0.,      0.,      0.,      0.,      0.,      0.,      0.,\n",
       "             0.,      0.,      0.,      0.,      0.,      0.,      0.,\n",
       "             0.,      0.,      0.,      0.,      0.,      0.,      0.,\n",
       "             0.,      0.,      0.,      0.,      0.,      0.,      0.,\n",
       "             0.,      0.,      0.,      0.,      0.,      0.,      0.,\n",
       "             0.,      0.,      0.,      0.,      0.,      0.,      0.,\n",
       "             0.,      0.,      0.,      0.,      0.,      0.,      0.,\n",
       "             0.,      0.,      0.,      0.,      0.,      0.,      0.,\n",
       "             0.,      0.,      0.,      0.,      0.,      0.,      0.,\n",
       "             0.,      0.,      0.,      0.,      0.,      0.,      0.,\n",
       "             0.,      0.,      0.,      0.,      0.,      0.,      0.,\n",
       "             0.,      0.,      0.,      0.,      0.,      0.,      0.,\n",
       "             0.,  39414.]),\n",
       " array([1.  , 1.08, 1.16, 1.24, 1.32, 1.4 , 1.48, 1.56, 1.64, 1.72, 1.8 ,\n",
       "        1.88, 1.96, 2.04, 2.12, 2.2 , 2.28, 2.36, 2.44, 2.52, 2.6 , 2.68,\n",
       "        2.76, 2.84, 2.92, 3.  , 3.08, 3.16, 3.24, 3.32, 3.4 , 3.48, 3.56,\n",
       "        3.64, 3.72, 3.8 , 3.88, 3.96, 4.04, 4.12, 4.2 , 4.28, 4.36, 4.44,\n",
       "        4.52, 4.6 , 4.68, 4.76, 4.84, 4.92, 5.  , 5.08, 5.16, 5.24, 5.32,\n",
       "        5.4 , 5.48, 5.56, 5.64, 5.72, 5.8 , 5.88, 5.96, 6.04, 6.12, 6.2 ,\n",
       "        6.28, 6.36, 6.44, 6.52, 6.6 , 6.68, 6.76, 6.84, 6.92, 7.  , 7.08,\n",
       "        7.16, 7.24, 7.32, 7.4 , 7.48, 7.56, 7.64, 7.72, 7.8 , 7.88, 7.96,\n",
       "        8.04, 8.12, 8.2 , 8.28, 8.36, 8.44, 8.52, 8.6 , 8.68, 8.76, 8.84,\n",
       "        8.92, 9.  ]),\n",
       " <BarContainer object of 100 artists>)"
      ]
     },
     "execution_count": 76,
     "metadata": {},
     "output_type": "execute_result"
    },
    {
     "data": {
      "image/png": "[encoded data removed]",
      "text/plain": [
       "<Figure size 640x480 with 1 Axes>"
      ]
     },
     "metadata": {},
     "output_type": "display_data"
    }
   ],
   "source": [
    "plt.hist(data_train[:,306], bins=100, range=None)"
   ]
  },
  {
   "cell_type": "code",
   "execution_count": 10,
   "metadata": {},
   "outputs": [],
   "source": [
    "# standardization of the data\n",
    "def standardize(data):\n",
    "    small_value=1*10**(-9)\n",
    "    mean=np.mean(data, axis=0)\n",
    "    std=np.std(data, axis=0)+small_value\n",
    "    return((data - mean) / (std))"
   ]
  },
  {
   "cell_type": "code",
   "execution_count": 11,
   "metadata": {},
   "outputs": [],
   "source": [
    "data_train_standard=standardize(data_train_filtered)"
   ]
  },
  {
   "cell_type": "code",
   "execution_count": 12,
   "metadata": {},
   "outputs": [],
   "source": [
    "# feature augmentation\n",
    "def feature_expansion(data, degree):\n",
    "    augmented_features=[]\n",
    "    for i in range(data.shape[1]):\n",
    "        feature=data[:,i]\n",
    "        augmented_feature=build_poly(feature, degree)\n",
    "        augmented_features.append(augmented_feature)\n",
    "\n",
    "    # Stack the augmented features horizontally\n",
    "    augmented_data = np.hstack(augmented_features)\n",
    "    return(augmented_data)\n",
    "\n",
    "   "
   ]
  },
  {
   "cell_type": "code",
   "execution_count": 13,
   "metadata": {},
   "outputs": [],
   "source": [
    "def apply_model(test, model):\n",
    "    pred=(sigmoid(test.dot(model))>=0.2).astype(int)\n",
    "    return(pred)"
   ]
  },
  {
   "attachments": {},
   "cell_type": "markdown",
   "metadata": {},
   "source": [
    "# Balance the data"
   ]
  },
  {
   "cell_type": "code",
   "execution_count": 14,
   "metadata": {},
   "outputs": [],
   "source": [
    "def undersample(X, y, majority_class_label):\n",
    "    # Identify indices of majority and minority classes\n",
    "    majority_indices = np.where(y == majority_class_label)[0]\n",
    "    minority_indices = np.where(y != majority_class_label)[0]\n",
    "\n",
    "    # Determine the number of samples in the minority class\n",
    "    num_minority_samples = len(minority_indices)\n",
    "\n",
    "    # Randomly select a subset of the majority class indices\n",
    "    undersampled_majority_indices = np.random.choice(majority_indices, num_minority_samples, replace=False)\n",
    "\n",
    "    # Combine minority class indices with the undersampled majority class indices\n",
    "    undersampled_indices = np.concatenate([undersampled_majority_indices, minority_indices])\n",
    "\n",
    "    # Obtain the undersampled dataset\n",
    "    X_undersampled = X[undersampled_indices]\n",
    "    y_undersampled = y[undersampled_indices]\n",
    "\n",
    "    return X_undersampled, y_undersampled"
   ]
  },
  {
   "cell_type": "code",
   "execution_count": 20,
   "metadata": {},
   "outputs": [],
   "source": [
    "x_undersampled, y_undersampled =undersample(data_train_standard, y_train, 0)"
   ]
  },
  {
   "cell_type": "code",
   "execution_count": 19,
   "metadata": {},
   "outputs": [
    {
     "data": {
      "text/plain": [
       "(array([28975.,     0.,     0.,     0.,     0.,     0.,     0.,     0.,\n",
       "            0., 28975.]),\n",
       " array([0. , 0.1, 0.2, 0.3, 0.4, 0.5, 0.6, 0.7, 0.8, 0.9, 1. ]),\n",
       " <BarContainer object of 10 artists>)"
      ]
     },
     "execution_count": 19,
     "metadata": {},
     "output_type": "execute_result"
    },
    {
     "data": {
      "image/png": "[encoded data removed]",
      "text/plain": [
       "<Figure size 640x480 with 1 Axes>"
      ]
     },
     "metadata": {},
     "output_type": "display_data"
    }
   ],
   "source": [
    "plt.hist(y_undersampled)"
   ]
  },
  {
   "cell_type": "code",
   "execution_count": 24,
   "metadata": {},
   "outputs": [
    {
     "data": {
      "text/plain": [
       "(57950, 54)"
      ]
     },
     "execution_count": 24,
     "metadata": {},
     "output_type": "execute_result"
    }
   ],
   "source": [
    "x_undersampled.shape"
   ]
  },
  {
   "attachments": {},
   "cell_type": "markdown",
   "metadata": {},
   "source": [
    "## Cross-Validation"
   ]
  },
  {
   "cell_type": "code",
   "execution_count": 25,
   "metadata": {},
   "outputs": [],
   "source": [
    "def compute_f1_score(true_labels, predicted_labels):\n",
    "    \"\"\"\n",
    "    Computes the F1 score for a classification model using NumPy.\n",
    "\n",
    "    Parameters:\n",
    "    true_labels (numpy.ndarray): True labels for the data.\n",
    "    predicted_labels (numpy.ndarray): Predicted labels from the model.\n",
    "\n",
    "    Returns:\n",
    "    f1 (float): The F1 score.\n",
    "    \"\"\"\n",
    "    true_positive = np.sum(np.logical_and(true_labels == 1, predicted_labels == 1))\n",
    "    false_positive = np.sum(np.logical_and(true_labels == 0, predicted_labels == 1))\n",
    "    false_negative = np.sum(np.logical_and(true_labels == 1, predicted_labels == 0))\n",
    "    \n",
    "    precision = true_positive / (true_positive + false_positive)\n",
    "    recall = true_positive / (true_positive + false_negative)\n",
    "    \n",
    "    f1 = 2 * (precision * recall) / (precision + recall) if (precision + recall) > 0 else 0\n",
    "    \n",
    "    return f1"
   ]
  },
  {
   "cell_type": "code",
   "execution_count": 26,
   "metadata": {},
   "outputs": [],
   "source": [
    "def build_k_indices(y, k_fold, seed):\n",
    "    \"\"\"build k indices for k-fold.\n",
    "\n",
    "    Args:\n",
    "        y:      shape=(N,)\n",
    "        k_fold: K in K-fold, i.e. the fold num\n",
    "        seed:   the random seed\n",
    "\n",
    "    Returns:\n",
    "        A 2D array of shape=(k_fold, N/k_fold) that indicates the data indices for each fold\n",
    "\n",
    "    \"\"\"\n",
    "    num_row = y.shape[0]\n",
    "    interval = int(num_row / k_fold)\n",
    "    np.random.seed(seed)\n",
    "    indices = np.random.permutation(num_row)\n",
    "    k_indices = [indices[k * interval : (k + 1) * interval] for k in range(k_fold)]\n",
    "    \n",
    "    return np.array(k_indices)"
   ]
  },
  {
   "cell_type": "code",
   "execution_count": 27,
   "metadata": {},
   "outputs": [],
   "source": [
    "def cross_validation(y, x, k_indices, k, lambda_, degree):\n",
    "    \"\"\"return the loss of ridge regression for a fold corresponding to k_indices\n",
    "\n",
    "    Args:\n",
    "        y:          shape=(N,)\n",
    "        x:          shape=(N,)\n",
    "        k_indices:  2D array returned by build_k_indices()\n",
    "        k:          scalar, the k-th fold (N.B.: not to confused with k_fold which is the fold nums)\n",
    "        lambda_:    scalar, cf. ridge_regression()\n",
    "        degree:     scalar, cf. build_poly()\n",
    "\n",
    "    Returns:\n",
    "        train and test root mean square errors rmse = sqrt(2 mse)\n",
    "\n",
    "    \"\"\"\n",
    "\n",
    "    # ***************************************************\n",
    "    # get k'th subgroup in test, others in train:\n",
    "    train_idx=np.reshape(k_indices[[i for i in range(len(k_indices)) if i!=k]], -1)\n",
    "    test_idx=k_indices[k]\n",
    "\n",
    "    x_train=x[train_idx,:]\n",
    "    print(x_train.shape)\n",
    "    y_train=y[train_idx]\n",
    "    x_test=x[test_idx,:]\n",
    "    y_test=y[test_idx]\n",
    "    \n",
    "    y_tr=np.expand_dims(y_train, 1)\n",
    "    y_te=np.expand_dims(y_test, 1)\n",
    "\n",
    "    y_tr=np.where(y_tr == -1, 0, y_tr)\n",
    "    print(y_tr, y_tr.shape)\n",
    "    y_te=np.where(y_te == -1, 0, y_te)\n",
    "\n",
    "    max_iters = 1000\n",
    "    gamma=0.5\n",
    "\n",
    "    # ***************************************************\n",
    "    # form data with polynomial degree: \n",
    "    print('on va auggmenter le data')\n",
    "    train_data=feature_expansion(x_train, degree)\n",
    "    test_data=feature_expansion(x_test, degree)\n",
    "    train_data=standardize(train_data)\n",
    "    test_data=standardize(test_data)\n",
    "    # ***************************************************\n",
    "     # build tx\n",
    "    tx_tr = np.c_[np.ones((y_train.shape[0], 1)), train_data]\n",
    "    tx_te = np.c_[np.ones((test_data.shape[0], 1)), test_data]\n",
    "    print(tx_tr.shape)\n",
    "    print(tx_te.shape)\n",
    "    initial_w=np.zeros((tx_tr.shape[1], 1))\n",
    "\n",
    "    # reg logistic regression: \n",
    "    w=reg_logistic_regression(y_tr,tx_tr,lambda_,initial_w, max_iters, gamma)[0]\n",
    "    print(w.shape)\n",
    "    print(tx_te.shape)\n",
    "    y_pred=apply_model(tx_te, w)\n",
    "    # calculate f1 score on test:\n",
    "    f1_te=compute_f1_score(y_te, y_pred)\n",
    "  \n",
    "    return f1_te"
   ]
  },
  {
   "cell_type": "code",
   "execution_count": 28,
   "metadata": {},
   "outputs": [],
   "source": [
    "def cross_validation_demo(degree, k_fold, lambdas):\n",
    "    \"\"\"cross validation over regularisation parameter lambda.\n",
    "\n",
    "    Args:\n",
    "        degree: integer, degree of the polynomial expansion\n",
    "        k_fold: integer, the number of folds\n",
    "        lambdas: shape = (p, ) where p is the number of values of lambda to test\n",
    "    Returns:\n",
    "        best_lambda : scalar, value of the best lambda\n",
    "        best_rmse : scalar, the associated root mean squared error for the best lambda\n",
    "    \"\"\"\n",
    "\n",
    "    seed = 12\n",
    "    #degree = degree\n",
    "    k_fold = k_fold\n",
    "    # split data in k fold\n",
    "    k_indices = build_k_indices(y_train, k_fold, seed)\n",
    "    # define lists to store the loss of training data and test data\n",
    "    f1_score=np.zeros((len(degree), len(lambdas)))\n",
    "    # cross validation over lambdas:\n",
    "    for i in range(len(degree)):\n",
    "        d=degree[i]\n",
    "        for j in range(len(lambdas)):\n",
    "            lambda_=lambdas[j]\n",
    "            cross_val=[cross_validation(y_train, data_train_filtered_2, k_indices, k, lambda_, d) for k in range(k_fold)]\n",
    "            f1=np.mean(cross_val)\n",
    "            f1_score[i,j]=f1\n",
    "    print('on y est presque')\n",
    "    best_degree=degree[np.unravel_index(np.argmax(f1_score, axis=None), f1_score.shape)[0]]\n",
    "    best_lambda=lambdas[np.unravel_index(np.argmax(f1_score, axis=None), f1_score.shape)[1]]\n",
    "    best_f1=np.max(f1_score)\n",
    "    \n",
    "    return best_degree, best_f1 , best_lambda , f1_score"
   ]
  },
  {
   "cell_type": "code",
   "execution_count": 29,
   "metadata": {},
   "outputs": [],
   "source": [
    "#best_degree, best_f1 , best_lambda , f1_score= cross_validation_demo(np.array([2]).astype(int), 2, np.array([10e-6]))"
   ]
  },
  {
   "cell_type": "code",
   "execution_count": 64,
   "metadata": {},
   "outputs": [
    {
     "data": {
      "text/plain": [
       "array([[0.]])"
      ]
     },
     "execution_count": 64,
     "metadata": {},
     "output_type": "execute_result"
    }
   ],
   "source": [
    "f1_score"
   ]
  },
  {
   "cell_type": "code",
   "execution_count": 31,
   "metadata": {},
   "outputs": [
    {
     "data": {
      "text/plain": [
       "5"
      ]
     },
     "execution_count": 31,
     "metadata": {},
     "output_type": "execute_result"
    }
   ],
   "source": [
    "best_degree"
   ]
  },
  {
   "attachments": {},
   "cell_type": "markdown",
   "metadata": {},
   "source": []
  },
  {
   "cell_type": "code",
   "execution_count": 49,
   "metadata": {},
   "outputs": [],
   "source": [
    "#augmented_data=feature_expansion(data_train_filtered_2, 5)"
   ]
  },
  {
   "attachments": {},
   "cell_type": "markdown",
   "metadata": {},
   "source": [
    "## Training"
   ]
  },
  {
   "cell_type": "code",
   "execution_count": 30,
   "metadata": {},
   "outputs": [],
   "source": [
    "#split the test set in two\n",
    "\n",
    "\n",
    "def split_data(x, y, ratio, seed=1):\n",
    "    \"\"\"\n",
    "    split the dataset based on the split ratio. If ratio is 0.8\n",
    "    you will have 80% of your data set dedicated to training\n",
    "    and the rest dedicated to testing. If ratio times the number of samples is not round\n",
    "    you can use np.floor. Also check the documentation for np.random.permutation,\n",
    "    it could be useful.\n",
    "\n",
    "    Args:\n",
    "        x: numpy array of shape (N,), N is the number of samples.\n",
    "        y: numpy array of shape (N,).\n",
    "        ratio: scalar in [0,1]\n",
    "        seed: integer.\n",
    "\n",
    "    Returns:\n",
    "        x_tr: numpy array containing the train data.\n",
    "        x_te: numpy array containing the test data.\n",
    "        y_tr: numpy array containing the train labels.\n",
    "        y_te: numpy array containing the test labels.\n",
    "    \"\"\"\n",
    "    N=int(ratio*len(x))\n",
    "    # set seed\n",
    "    np.random.seed(seed)\n",
    "    # split the data based on the given ratio: \n",
    "    shuffled_data=np.random.permutation(x)\n",
    "    #print(shuffled_data)\n",
    "    np.random.seed(seed)\n",
    "    shuffled_labels=np.random.permutation(y)\n",
    "    #print(shuffled_labels)\n",
    "    x_tr=shuffled_data[:N] #train data\n",
    "    x_te=shuffled_data[N:] #test data\n",
    "    y_tr=shuffled_labels[:N]#train labels\n",
    "    y_te=shuffled_labels[N:]# test labels\n",
    "\n",
    "    return(x_tr,x_te, y_tr, y_te)"
   ]
  },
  {
   "cell_type": "code",
   "execution_count": 68,
   "metadata": {},
   "outputs": [],
   "source": [
    "x_tr,x_te, y_tr, y_te=split_data(x_undersampled, y_undersampled, ratio=0.8)\n"
   ]
  },
  {
   "cell_type": "code",
   "execution_count": 69,
   "metadata": {},
   "outputs": [
    {
     "name": "stdout",
     "output_type": "stream",
     "text": [
      "(46360,) (46360, 54)\n"
     ]
    }
   ],
   "source": [
    "print(y_tr.shape, x_tr.shape)"
   ]
  },
  {
   "cell_type": "code",
   "execution_count": 70,
   "metadata": {},
   "outputs": [],
   "source": [
    "y_tr=np.expand_dims(y_tr, 1)"
   ]
  },
  {
   "cell_type": "code",
   "execution_count": 71,
   "metadata": {},
   "outputs": [],
   "source": [
    "# Binary classification using logistic regression\n",
    "\n",
    "max_iters = 1000\n",
    "gamma = 0.5\n",
    "\n",
    " # build tx\n",
    "tx_tr = np.c_[np.ones((y_tr.shape[0], 1)), x_tr]\n",
    "initial_w=np.zeros((tx_tr.shape[1], 1))\n"
   ]
  },
  {
   "cell_type": "code",
   "execution_count": 72,
   "metadata": {},
   "outputs": [
    {
     "name": "stdout",
     "output_type": "stream",
     "text": [
      "Current iteration=0, loss=0.5998126777798487\n",
      "Current iteration=100, loss=0.5271918184765653\n",
      "Current iteration=200, loss=0.5269144890725734\n",
      "Current iteration=300, loss=0.5267838794511502\n",
      "Current iteration=400, loss=0.526695866608413\n",
      "Current iteration=500, loss=0.5266335515885244\n",
      "Current iteration=600, loss=0.5265876880085215\n",
      "Current iteration=700, loss=0.5265527237577479\n",
      "Current iteration=800, loss=0.5265251999862144\n",
      "Current iteration=900, loss=0.5265028985116879\n",
      "loss=0.5264845323910472\n"
     ]
    }
   ],
   "source": [
    "w,loss= logistic_regression(y_tr, tx_tr, initial_w, max_iters, gamma=0.5)"
   ]
  },
  {
   "cell_type": "code",
   "execution_count": 61,
   "metadata": {},
   "outputs": [
    {
     "name": "stdout",
     "output_type": "stream",
     "text": [
      "Current iteration=0, loss=0.6291172121345341\n",
      "Current iteration=100, loss=0.24737708402551115\n",
      "Current iteration=200, loss=0.24337991538293094\n",
      "Current iteration=300, loss=0.24779171148463944\n",
      "Current iteration=400, loss=0.24213046423714568\n",
      "Current iteration=500, loss=0.2491880787058022\n",
      "Current iteration=600, loss=0.24227415696543095\n",
      "Current iteration=700, loss=0.24801066506027328\n",
      "Current iteration=800, loss=0.24194129964823735\n",
      "Current iteration=900, loss=0.24888557069293624\n",
      "Current iteration=1000, loss=0.24211734755104491\n",
      "Current iteration=1100, loss=0.24787888264098157\n",
      "Current iteration=1200, loss=0.24183521074562278\n",
      "Current iteration=1300, loss=0.24886487760572557\n",
      "Current iteration=1400, loss=0.2420684023914077\n",
      "Current iteration=1500, loss=0.24776977394316002\n",
      "Current iteration=1600, loss=0.2417791215034302\n",
      "Current iteration=1700, loss=0.24887336007689037\n",
      "Current iteration=1800, loss=0.24204755752488158\n",
      "Current iteration=1900, loss=0.2477085792901911\n",
      "Current iteration=2000, loss=0.24174981088697015\n",
      "Current iteration=2100, loss=0.24888072351681856\n",
      "Current iteration=2200, loss=0.2420372321307929\n",
      "Current iteration=2300, loss=0.2476752895957397\n",
      "Current iteration=2400, loss=0.24173407885398623\n",
      "Current iteration=2500, loss=0.2488853817884799\n",
      "Current iteration=2600, loss=0.2420317835999499\n",
      "Current iteration=2700, loss=0.2476569669217501\n",
      "Current iteration=2800, loss=0.24172544253925968\n",
      "Current iteration=2900, loss=0.24888810031069386\n",
      "Current iteration=3000, loss=0.24202879490101553\n",
      "Current iteration=3100, loss=0.2476467697722107\n",
      "Current iteration=3200, loss=0.24172062479549924\n",
      "Current iteration=3300, loss=0.24888963191421637\n",
      "Current iteration=3400, loss=0.24202711293992146\n",
      "Current iteration=3500, loss=0.24764104449567714\n",
      "Current iteration=3600, loss=0.2417179055786338\n",
      "Current iteration=3700, loss=0.24889047884146495\n",
      "Current iteration=3800, loss=0.24202614964432886\n",
      "Current iteration=3900, loss=0.24763780689584036\n",
      "Current iteration=4000, loss=0.2417163569574236\n",
      "Current iteration=4100, loss=0.2488909418298592\n",
      "Current iteration=4200, loss=0.24202559098614496\n",
      "Current iteration=4300, loss=0.2476359648658118\n",
      "Current iteration=4400, loss=0.24171546852819545\n",
      "Current iteration=4500, loss=0.24889119284650257\n",
      "Current iteration=4600, loss=0.24202526390157347\n",
      "Current iteration=4700, loss=0.2476349111423485\n",
      "Current iteration=4800, loss=0.24171495562648077\n",
      "Current iteration=4900, loss=0.24889132795190577\n",
      "Current iteration=5000, loss=0.24202507092286618\n",
      "Current iteration=5100, loss=0.2476343053483493\n",
      "Current iteration=5200, loss=0.2417146578402814\n",
      "Current iteration=5300, loss=0.24889140010621816\n",
      "Current iteration=5400, loss=0.242024956314257\n",
      "Current iteration=5500, loss=0.2476339554340308\n",
      "Current iteration=5600, loss=0.24171448403711393\n",
      "Current iteration=5700, loss=0.2488914382738964\n",
      "Current iteration=5800, loss=0.24202488784560428\n",
      "Current iteration=5900, loss=0.24763375241375618\n",
      "Current iteration=6000, loss=0.2417143820902291\n",
      "Current iteration=6100, loss=0.24889145820746578\n",
      "Current iteration=6200, loss=0.24202484671667054\n",
      "Current iteration=6300, loss=0.24763363411527364\n",
      "Current iteration=6400, loss=0.24171432200514553\n",
      "Current iteration=6500, loss=0.24889146843344706\n",
      "Current iteration=6600, loss=0.2420248218820302\n",
      "Current iteration=6700, loss=0.2476335648982003\n",
      "Current iteration=6800, loss=0.24171428642824574\n",
      "Current iteration=6900, loss=0.24889147354404584\n",
      "Current iteration=7000, loss=0.24202480681152072\n",
      "Current iteration=7100, loss=0.24763352423689292\n",
      "Current iteration=7200, loss=0.24171426526796239\n",
      "Current iteration=7300, loss=0.24889147599732722\n",
      "Current iteration=7400, loss=0.24202479762231596\n",
      "Current iteration=7500, loss=0.2476335002580213\n",
      "Current iteration=7600, loss=0.24171425262710605\n",
      "Current iteration=7700, loss=0.24889147709821163\n",
      "Current iteration=7800, loss=0.24202479199327462\n",
      "Current iteration=7900, loss=0.2476334860640148\n",
      "Current iteration=8000, loss=0.2417142450433158\n",
      "Current iteration=8100, loss=0.24889147753156418\n",
      "Current iteration=8200, loss=0.24202478852969378\n",
      "Current iteration=8300, loss=0.24763347763137183\n",
      "Current iteration=8400, loss=0.2417142404744749\n",
      "Current iteration=8500, loss=0.24889147765102512\n",
      "Current iteration=8600, loss=0.24202478638938119\n",
      "Current iteration=8700, loss=0.24763347260375398\n",
      "Current iteration=8800, loss=0.24171423771076905\n",
      "Current iteration=8900, loss=0.2488914776349053\n",
      "Current iteration=9000, loss=0.24202478506132832\n",
      "Current iteration=9100, loss=0.2476334695958711\n",
      "Current iteration=9200, loss=0.24171423603235218\n",
      "Current iteration=9300, loss=0.2488914775699376\n",
      "Current iteration=9400, loss=0.24202478423403465\n",
      "Current iteration=9500, loss=0.2476334677902671\n",
      "Current iteration=9600, loss=0.2417142350090932\n",
      "Current iteration=9700, loss=0.2488914774958656\n",
      "Current iteration=9800, loss=0.24202478371674457\n",
      "Current iteration=9900, loss=0.24763346670280179\n",
      "loss=0.24057736278196898\n"
     ]
    }
   ],
   "source": [
    "lambda_ = 10e-4\n",
    "w_reg,loss_reg= reg_logistic_regression(y_train, tx_tr, lambda_, initial_w, max_iters, gamma)"
   ]
  },
  {
   "cell_type": "code",
   "execution_count": 62,
   "metadata": {},
   "outputs": [
    {
     "data": {
      "text/plain": [
       "(391, 1)"
      ]
     },
     "execution_count": 62,
     "metadata": {},
     "output_type": "execute_result"
    }
   ],
   "source": [
    "w_reg.shape"
   ]
  },
  {
   "attachments": {},
   "cell_type": "markdown",
   "metadata": {},
   "source": [
    "## Test and Accuracy"
   ]
  },
  {
   "cell_type": "code",
   "execution_count": 73,
   "metadata": {},
   "outputs": [],
   "source": [
    "tx_te=np.c_[np.ones((x_te.shape[0], 1)), x_te]"
   ]
  },
  {
   "cell_type": "code",
   "execution_count": 74,
   "metadata": {},
   "outputs": [],
   "source": [
    "y_te=np.expand_dims(y_te, 1)"
   ]
  },
  {
   "cell_type": "code",
   "execution_count": 75,
   "metadata": {},
   "outputs": [
    {
     "data": {
      "text/plain": [
       "(55, 1)"
      ]
     },
     "execution_count": 75,
     "metadata": {},
     "output_type": "execute_result"
    }
   ],
   "source": [
    "w.shape"
   ]
  },
  {
   "cell_type": "code",
   "execution_count": 76,
   "metadata": {},
   "outputs": [],
   "source": [
    "y_pred=apply_model(tx_te, w)"
   ]
  },
  {
   "cell_type": "code",
   "execution_count": 77,
   "metadata": {},
   "outputs": [
    {
     "data": {
      "text/plain": [
       "(11590, 1)"
      ]
     },
     "execution_count": 77,
     "metadata": {},
     "output_type": "execute_result"
    }
   ],
   "source": [
    "y_pred.shape"
   ]
  },
  {
   "cell_type": "code",
   "execution_count": 78,
   "metadata": {},
   "outputs": [
    {
     "data": {
      "text/plain": [
       "11590"
      ]
     },
     "execution_count": 78,
     "metadata": {},
     "output_type": "execute_result"
    }
   ],
   "source": [
    "len(y_te)"
   ]
  },
  {
   "cell_type": "code",
   "execution_count": 79,
   "metadata": {},
   "outputs": [],
   "source": [
    "#Calculate accuracy\n",
    "correct_predictions = np.sum((y_pred == y_te))\n",
    "total_samples = len(y_te)\n",
    "accuracy = correct_predictions / total_samples"
   ]
  },
  {
   "cell_type": "code",
   "execution_count": 80,
   "metadata": {},
   "outputs": [
    {
     "data": {
      "text/plain": [
       "(11590, 1)"
      ]
     },
     "execution_count": 80,
     "metadata": {},
     "output_type": "execute_result"
    }
   ],
   "source": [
    "(y_pred == y_te).shape"
   ]
  },
  {
   "cell_type": "code",
   "execution_count": 81,
   "metadata": {},
   "outputs": [
    {
     "data": {
      "text/plain": [
       "0.7440905780308548"
      ]
     },
     "execution_count": 81,
     "metadata": {},
     "output_type": "execute_result"
    }
   ],
   "source": [
    "compute_f1_score(y_te, y_pred)"
   ]
  },
  {
   "cell_type": "code",
   "execution_count": 82,
   "metadata": {},
   "outputs": [
    {
     "name": "stdout",
     "output_type": "stream",
     "text": [
      "0.6665228645383952\n"
     ]
    }
   ],
   "source": [
    "print(accuracy)"
   ]
  },
  {
   "attachments": {},
   "cell_type": "markdown",
   "metadata": {},
   "source": [
    "## Test"
   ]
  },
  {
   "cell_type": "code",
   "execution_count": 63,
   "metadata": {},
   "outputs": [],
   "source": [
    "xt=replace_nan_by_mean(x_test)"
   ]
  },
  {
   "cell_type": "code",
   "execution_count": 64,
   "metadata": {},
   "outputs": [
    {
     "data": {
      "text/plain": [
       "(109379, 321)"
      ]
     },
     "execution_count": 64,
     "metadata": {},
     "output_type": "execute_result"
    }
   ],
   "source": [
    "x_test.shape"
   ]
  },
  {
   "cell_type": "code",
   "execution_count": 65,
   "metadata": {},
   "outputs": [
    {
     "name": "stdout",
     "output_type": "stream",
     "text": [
      "65\n"
     ]
    }
   ],
   "source": [
    "xt_filtered=filtering_2(xt, test_data_path)"
   ]
  },
  {
   "cell_type": "code",
   "execution_count": 66,
   "metadata": {},
   "outputs": [
    {
     "data": {
      "text/plain": [
       "(109379, 65)"
      ]
     },
     "execution_count": 66,
     "metadata": {},
     "output_type": "execute_result"
    }
   ],
   "source": [
    "xt_filtered.shape"
   ]
  },
  {
   "cell_type": "code",
   "execution_count": 67,
   "metadata": {},
   "outputs": [],
   "source": [
    "augmented_data_test=feature_expansion(xt_filtered, 5)"
   ]
  },
  {
   "cell_type": "code",
   "execution_count": 68,
   "metadata": {},
   "outputs": [
    {
     "data": {
      "text/plain": [
       "(109379, 390)"
      ]
     },
     "execution_count": 68,
     "metadata": {},
     "output_type": "execute_result"
    }
   ],
   "source": [
    "augmented_data_test.shape"
   ]
  },
  {
   "cell_type": "code",
   "execution_count": 69,
   "metadata": {},
   "outputs": [],
   "source": [
    "\n",
    "xt_standardized=standardize(augmented_data_test)\n",
    "xtest=np.c_[np.ones((xt.shape[0], 1)), xt_standardized]\n"
   ]
  },
  {
   "cell_type": "code",
   "execution_count": 70,
   "metadata": {},
   "outputs": [
    {
     "data": {
      "text/plain": [
       "(109379, 391)"
      ]
     },
     "execution_count": 70,
     "metadata": {},
     "output_type": "execute_result"
    }
   ],
   "source": [
    "xtest.shape"
   ]
  },
  {
   "cell_type": "code",
   "execution_count": 71,
   "metadata": {},
   "outputs": [],
   "source": [
    "predictions=apply_model(xtest, w_reg)\n",
    "predictions=np.where(predictions==0,-1, predictions)"
   ]
  },
  {
   "cell_type": "code",
   "execution_count": 72,
   "metadata": {},
   "outputs": [
    {
     "data": {
      "text/plain": [
       "array([[-1],\n",
       "       [-1],\n",
       "       [-1],\n",
       "       ...,\n",
       "       [-1],\n",
       "       [-1],\n",
       "       [-1]])"
      ]
     },
     "execution_count": 72,
     "metadata": {},
     "output_type": "execute_result"
    }
   ],
   "source": [
    "predictions\n"
   ]
  },
  {
   "cell_type": "code",
   "execution_count": 73,
   "metadata": {},
   "outputs": [],
   "source": [
    "create_csv_submission(test_ids, predictions, 'predictions_LR_0.2_5.csv')"
   ]
  },
  {
   "cell_type": "code",
   "execution_count": null,
   "metadata": {},
   "outputs": [],
   "source": []
  }
 ],
 "metadata": {
  "kernelspec": {
   "display_name": "Python 3 (ipykernel)",
   "language": "python",
   "name": "python3"
  },
  "language_info": {
   "codemirror_mode": {
    "name": "ipython",
    "version": 3
   },
   "file_extension": ".py",
   "mimetype": "text/x-python",
   "name": "python",
   "nbconvert_exporter": "python",
   "pygments_lexer": "ipython3",
   "version": "3.9.16"
  }
 },
 "nbformat": 4,
 "nbformat_minor": 2
}
