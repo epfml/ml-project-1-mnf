{
 "cells": [
  {
   "cell_type": "code",
   "execution_count": 1,
   "metadata": {},
   "outputs": [],
   "source": [
    "from implementations import *\n",
    "from helpers import *\n",
    "import numpy as np\n",
    "import matplotlib.pyplot as plt\n",
    "import pandas as pd\n",
    "import datetime"
   ]
  },
  {
   "cell_type": "markdown",
   "metadata": {},
   "source": [
    "## Load the data ###"
   ]
  },
  {
   "cell_type": "code",
   "execution_count": 23,
   "metadata": {},
   "outputs": [],
   "source": [
    "data_path = './dataset_to_release/'\n",
    "train_data_path = data_path + \"x_train.csv\"\n",
    "train_label_path = data_path + \"y_train.csv\"\n",
    "train_data=pd.read_csv(train_data_path)\n",
    "train_label=pd.read_csv(train_label_path)"
   ]
  },
  {
   "cell_type": "code",
   "execution_count": 3,
   "metadata": {},
   "outputs": [],
   "source": [
    "x_train, x_test, y_train, train_ids, test_ids = load_csv_data_all(data_path, sub_sample=False)"
   ]
  },
  {
   "cell_type": "code",
   "execution_count": 14,
   "metadata": {},
   "outputs": [],
   "source": [
    "# load the data points\n",
    "xb = load_csv_data(train_data_path,sub_sample=False)\n",
    "# Load the labels \n",
    "yb = load_csv_data_labels(train_label_path, sub_sample=False)"
   ]
  },
  {
   "cell_type": "code",
   "execution_count": 15,
   "metadata": {},
   "outputs": [],
   "source": [
    "y = np.expand_dims(yb, axis=1)"
   ]
  },
  {
   "cell_type": "code",
   "execution_count": 16,
   "metadata": {},
   "outputs": [],
   "source": [
    "# Extract the column names from the x_train.csv and convert it into a list"
   ]
  },
  {
   "cell_type": "markdown",
   "metadata": {},
   "source": [
    "## Data Pre-Processing"
   ]
  },
  {
   "cell_type": "code",
   "execution_count": 17,
   "metadata": {},
   "outputs": [],
   "source": [
    "# Handling missing values\n",
    "def replace_nan_by_mean(data):\n",
    "    ''' function that handels the missing values by replacing them with the column means'''\n",
    "    nan_indices = np.isnan(data)\n",
    "    column_means = np.nanmean(data, axis=0)\n",
    "    data[nan_indices] = np.take(column_means, np.where(nan_indices)[1])\n",
    "    return data\n",
    "\n",
    "data_train = replace_nan_by_mean(xb)"
   ]
  },
  {
   "cell_type": "code",
   "execution_count": 39,
   "metadata": {},
   "outputs": [
    {
     "name": "stdout",
     "output_type": "stream",
     "text": [
      "0\n"
     ]
    }
   ],
   "source": [
    "# # Verifying that the nan values have been successfully removed\n",
    "# matrix=np.isnan(data_train)\n",
    "# num_true=np.count_nonzero(matrix)\n",
    "# num_false = matrix.size - num_true\n",
    "# print(num_true)"
   ]
  },
  {
   "cell_type": "code",
   "execution_count": 19,
   "metadata": {},
   "outputs": [],
   "source": [
    "# Data filtering: we only keep relevant features\n",
    "def filtering(data, data_path):\n",
    "    columns = extract_first_line(data_path).split(',')\n",
    "    columns_to_keep = []\n",
    "    for c in columns:\n",
    "        if c.startswith('_'):\n",
    "            columns_to_keep.append(c)\n",
    "    indices_to_keep = [columns.index(c) for c in columns_to_keep]\n",
    "    data_f = data[:, indices_to_keep]\n",
    "    return(data_f)"
   ]
  },
  {
   "cell_type": "code",
   "execution_count": 20,
   "metadata": {},
   "outputs": [],
   "source": [
    "data_train_filtered = filtering(data_train, train_data_path)"
   ]
  },
  {
   "cell_type": "code",
   "execution_count": 21,
   "metadata": {},
   "outputs": [],
   "source": [
    "feature_titles_string = '_FRTRESP _FRUITEX _FRUTSUM _HCVU651 _HISPANC _INCOMG _LLCPWT _LMTACT1 _LMTSCL1 _LMTWRK1 _LTASTH1 _MINAC11 _MINAC21 _MISFRTN _MISVEGN _MRACE1 _PA30021 _PA150R2 _PA300R2 _PACAT1 _PAINDX1 _PAREC1 _PASTAE1 _PASTRNG _PNEUMO2 _PRACE1 _RACE _RACEG21 _RACEGR3 _RACE_G1 _RFBING5 _RFBMI5 _RFCHOL _RFDRHV5 _RFHLTH _RFHYPE5 _RFSEAT2 _RFSEAT3 _RFSMOK3 _SMOKER3 _TOTINDA _VEG23 _VEGESUM _VEGETEX _VEGLT1 _VEGRES'\n",
    "\n",
    "# Split the string into a list using space as the separator\n",
    "feature_titles = feature_titles_string.split()"
   ]
  },
  {
   "cell_type": "markdown",
   "metadata": {},
   "source": []
  },
  {
   "cell_type": "markdown",
   "metadata": {},
   "source": [
    "## Data Pre-Processing using Pandas"
   ]
  },
  {
   "cell_type": "code",
   "execution_count": 25,
   "metadata": {},
   "outputs": [],
   "source": [
    "counts = []\n",
    "for c in train_data.columns:\n",
    "    counts.append(f'count for {c} is {train_data[c].value_counts()} \\n')"
   ]
  },
  {
   "cell_type": "code",
   "execution_count": 26,
   "metadata": {},
   "outputs": [],
   "source": [
    "for col in train_data.columns:\n",
    "    mean_col = train_data[col].mean()\n",
    "    train_data[col].fillna(mean_col, inplace=True)"
   ]
  },
  {
   "cell_type": "code",
   "execution_count": 27,
   "metadata": {},
   "outputs": [
    {
     "data": {
      "text/plain": [
       "'PERSDOC2'"
      ]
     },
     "execution_count": 27,
     "metadata": {},
     "output_type": "execute_result"
    }
   ],
   "source": [
    "train_data.columns[32]"
   ]
  },
  {
   "cell_type": "code",
   "execution_count": 28,
   "metadata": {},
   "outputs": [],
   "source": [
    "for col in train_data.columns:\n",
    "    if not col.startswith('_'):\n",
    "        train_data.drop(col, axis=1, inplace=True)"
   ]
  },
  {
   "cell_type": "code",
   "execution_count": 29,
   "metadata": {},
   "outputs": [
    {
     "data": {
      "text/html": [
       "<div>\n",
       "<style scoped>\n",
       "    .dataframe tbody tr th:only-of-type {\n",
       "        vertical-align: middle;\n",
       "    }\n",
       "\n",
       "    .dataframe tbody tr th {\n",
       "        vertical-align: top;\n",
       "    }\n",
       "\n",
       "    .dataframe thead th {\n",
       "        text-align: right;\n",
       "    }\n",
       "</style>\n",
       "<table border=\"1\" class=\"dataframe\">\n",
       "  <thead>\n",
       "    <tr style=\"text-align: right;\">\n",
       "      <th></th>\n",
       "      <th>_STATE</th>\n",
       "      <th>_PSU</th>\n",
       "      <th>_STSTR</th>\n",
       "      <th>_STRWT</th>\n",
       "      <th>_RAWRAKE</th>\n",
       "      <th>_WT2RAKE</th>\n",
       "      <th>_CHISPNC</th>\n",
       "      <th>_CRACE1</th>\n",
       "      <th>_CPRACE</th>\n",
       "      <th>_CLLCPWT</th>\n",
       "      <th>...</th>\n",
       "      <th>_PAREC1</th>\n",
       "      <th>_PASTAE1</th>\n",
       "      <th>_LMTACT1</th>\n",
       "      <th>_LMTWRK1</th>\n",
       "      <th>_LMTSCL1</th>\n",
       "      <th>_RFSEAT2</th>\n",
       "      <th>_RFSEAT3</th>\n",
       "      <th>_FLSHOT6</th>\n",
       "      <th>_PNEUMO2</th>\n",
       "      <th>_AIDTST3</th>\n",
       "    </tr>\n",
       "  </thead>\n",
       "  <tbody>\n",
       "    <tr>\n",
       "      <th>0</th>\n",
       "      <td>53</td>\n",
       "      <td>2015015629</td>\n",
       "      <td>532049</td>\n",
       "      <td>120.931680</td>\n",
       "      <td>1.0</td>\n",
       "      <td>120.931680</td>\n",
       "      <td>7.607091</td>\n",
       "      <td>7.222641</td>\n",
       "      <td>7.222641</td>\n",
       "      <td>805.383803</td>\n",
       "      <td>...</td>\n",
       "      <td>1</td>\n",
       "      <td>1</td>\n",
       "      <td>3.0</td>\n",
       "      <td>3.0</td>\n",
       "      <td>4.0</td>\n",
       "      <td>1</td>\n",
       "      <td>1</td>\n",
       "      <td>2.28991</td>\n",
       "      <td>2.406794</td>\n",
       "      <td>2.000000</td>\n",
       "    </tr>\n",
       "    <tr>\n",
       "      <th>1</th>\n",
       "      <td>33</td>\n",
       "      <td>2015004387</td>\n",
       "      <td>331071</td>\n",
       "      <td>13.467336</td>\n",
       "      <td>2.0</td>\n",
       "      <td>26.934672</td>\n",
       "      <td>9.000000</td>\n",
       "      <td>7.222641</td>\n",
       "      <td>7.222641</td>\n",
       "      <td>805.383803</td>\n",
       "      <td>...</td>\n",
       "      <td>9</td>\n",
       "      <td>9</td>\n",
       "      <td>3.0</td>\n",
       "      <td>3.0</td>\n",
       "      <td>4.0</td>\n",
       "      <td>9</td>\n",
       "      <td>9</td>\n",
       "      <td>2.28991</td>\n",
       "      <td>2.406794</td>\n",
       "      <td>1.966675</td>\n",
       "    </tr>\n",
       "    <tr>\n",
       "      <th>2</th>\n",
       "      <td>20</td>\n",
       "      <td>2015005638</td>\n",
       "      <td>201091</td>\n",
       "      <td>12.370176</td>\n",
       "      <td>2.0</td>\n",
       "      <td>24.740353</td>\n",
       "      <td>9.000000</td>\n",
       "      <td>7.222641</td>\n",
       "      <td>7.222641</td>\n",
       "      <td>805.383803</td>\n",
       "      <td>...</td>\n",
       "      <td>4</td>\n",
       "      <td>2</td>\n",
       "      <td>2.0</td>\n",
       "      <td>2.0</td>\n",
       "      <td>3.0</td>\n",
       "      <td>1</td>\n",
       "      <td>1</td>\n",
       "      <td>1.00000</td>\n",
       "      <td>2.000000</td>\n",
       "      <td>2.000000</td>\n",
       "    </tr>\n",
       "    <tr>\n",
       "      <th>3</th>\n",
       "      <td>42</td>\n",
       "      <td>2015004694</td>\n",
       "      <td>422039</td>\n",
       "      <td>213.645885</td>\n",
       "      <td>1.0</td>\n",
       "      <td>213.645885</td>\n",
       "      <td>9.000000</td>\n",
       "      <td>7.222641</td>\n",
       "      <td>7.222641</td>\n",
       "      <td>805.383803</td>\n",
       "      <td>...</td>\n",
       "      <td>2</td>\n",
       "      <td>2</td>\n",
       "      <td>2.0</td>\n",
       "      <td>2.0</td>\n",
       "      <td>3.0</td>\n",
       "      <td>1</td>\n",
       "      <td>1</td>\n",
       "      <td>2.00000</td>\n",
       "      <td>2.000000</td>\n",
       "      <td>2.000000</td>\n",
       "    </tr>\n",
       "    <tr>\n",
       "      <th>4</th>\n",
       "      <td>24</td>\n",
       "      <td>2015004673</td>\n",
       "      <td>241011</td>\n",
       "      <td>26.493114</td>\n",
       "      <td>1.0</td>\n",
       "      <td>26.493114</td>\n",
       "      <td>9.000000</td>\n",
       "      <td>7.222641</td>\n",
       "      <td>7.222641</td>\n",
       "      <td>805.383803</td>\n",
       "      <td>...</td>\n",
       "      <td>9</td>\n",
       "      <td>9</td>\n",
       "      <td>3.0</td>\n",
       "      <td>3.0</td>\n",
       "      <td>4.0</td>\n",
       "      <td>1</td>\n",
       "      <td>1</td>\n",
       "      <td>9.00000</td>\n",
       "      <td>9.000000</td>\n",
       "      <td>2.000000</td>\n",
       "    </tr>\n",
       "    <tr>\n",
       "      <th>...</th>\n",
       "      <td>...</td>\n",
       "      <td>...</td>\n",
       "      <td>...</td>\n",
       "      <td>...</td>\n",
       "      <td>...</td>\n",
       "      <td>...</td>\n",
       "      <td>...</td>\n",
       "      <td>...</td>\n",
       "      <td>...</td>\n",
       "      <td>...</td>\n",
       "      <td>...</td>\n",
       "      <td>...</td>\n",
       "      <td>...</td>\n",
       "      <td>...</td>\n",
       "      <td>...</td>\n",
       "      <td>...</td>\n",
       "      <td>...</td>\n",
       "      <td>...</td>\n",
       "      <td>...</td>\n",
       "      <td>...</td>\n",
       "      <td>...</td>\n",
       "    </tr>\n",
       "    <tr>\n",
       "      <th>328130</th>\n",
       "      <td>49</td>\n",
       "      <td>2015006796</td>\n",
       "      <td>492019</td>\n",
       "      <td>78.216704</td>\n",
       "      <td>1.0</td>\n",
       "      <td>78.216704</td>\n",
       "      <td>9.000000</td>\n",
       "      <td>7.222641</td>\n",
       "      <td>7.222641</td>\n",
       "      <td>805.383803</td>\n",
       "      <td>...</td>\n",
       "      <td>2</td>\n",
       "      <td>2</td>\n",
       "      <td>3.0</td>\n",
       "      <td>3.0</td>\n",
       "      <td>4.0</td>\n",
       "      <td>1</td>\n",
       "      <td>1</td>\n",
       "      <td>2.28991</td>\n",
       "      <td>2.406794</td>\n",
       "      <td>2.000000</td>\n",
       "    </tr>\n",
       "    <tr>\n",
       "      <th>328131</th>\n",
       "      <td>51</td>\n",
       "      <td>2015006482</td>\n",
       "      <td>512019</td>\n",
       "      <td>194.282536</td>\n",
       "      <td>1.0</td>\n",
       "      <td>194.282536</td>\n",
       "      <td>7.607091</td>\n",
       "      <td>7.222641</td>\n",
       "      <td>7.222641</td>\n",
       "      <td>805.383803</td>\n",
       "      <td>...</td>\n",
       "      <td>1</td>\n",
       "      <td>1</td>\n",
       "      <td>3.0</td>\n",
       "      <td>3.0</td>\n",
       "      <td>4.0</td>\n",
       "      <td>1</td>\n",
       "      <td>1</td>\n",
       "      <td>2.28991</td>\n",
       "      <td>2.406794</td>\n",
       "      <td>1.000000</td>\n",
       "    </tr>\n",
       "    <tr>\n",
       "      <th>328132</th>\n",
       "      <td>39</td>\n",
       "      <td>2015004898</td>\n",
       "      <td>391012</td>\n",
       "      <td>54.692567</td>\n",
       "      <td>1.0</td>\n",
       "      <td>54.692567</td>\n",
       "      <td>9.000000</td>\n",
       "      <td>7.222641</td>\n",
       "      <td>7.222641</td>\n",
       "      <td>805.383803</td>\n",
       "      <td>...</td>\n",
       "      <td>3</td>\n",
       "      <td>2</td>\n",
       "      <td>3.0</td>\n",
       "      <td>3.0</td>\n",
       "      <td>4.0</td>\n",
       "      <td>1</td>\n",
       "      <td>2</td>\n",
       "      <td>2.00000</td>\n",
       "      <td>2.000000</td>\n",
       "      <td>2.000000</td>\n",
       "    </tr>\n",
       "    <tr>\n",
       "      <th>328133</th>\n",
       "      <td>33</td>\n",
       "      <td>2015004449</td>\n",
       "      <td>331072</td>\n",
       "      <td>20.185028</td>\n",
       "      <td>3.0</td>\n",
       "      <td>60.555083</td>\n",
       "      <td>9.000000</td>\n",
       "      <td>7.222641</td>\n",
       "      <td>7.222641</td>\n",
       "      <td>805.383803</td>\n",
       "      <td>...</td>\n",
       "      <td>3</td>\n",
       "      <td>2</td>\n",
       "      <td>3.0</td>\n",
       "      <td>3.0</td>\n",
       "      <td>4.0</td>\n",
       "      <td>1</td>\n",
       "      <td>1</td>\n",
       "      <td>2.28991</td>\n",
       "      <td>2.406794</td>\n",
       "      <td>2.000000</td>\n",
       "    </tr>\n",
       "    <tr>\n",
       "      <th>328134</th>\n",
       "      <td>32</td>\n",
       "      <td>2015001176</td>\n",
       "      <td>321011</td>\n",
       "      <td>74.301419</td>\n",
       "      <td>2.0</td>\n",
       "      <td>148.602839</td>\n",
       "      <td>1.000000</td>\n",
       "      <td>6.000000</td>\n",
       "      <td>6.000000</td>\n",
       "      <td>1006.679546</td>\n",
       "      <td>...</td>\n",
       "      <td>9</td>\n",
       "      <td>9</td>\n",
       "      <td>2.0</td>\n",
       "      <td>2.0</td>\n",
       "      <td>3.0</td>\n",
       "      <td>1</td>\n",
       "      <td>1</td>\n",
       "      <td>2.28991</td>\n",
       "      <td>2.406794</td>\n",
       "      <td>2.000000</td>\n",
       "    </tr>\n",
       "  </tbody>\n",
       "</table>\n",
       "<p>328135 rows × 75 columns</p>\n",
       "</div>"
      ],
      "text/plain": [
       "        _STATE        _PSU  _STSTR      _STRWT  _RAWRAKE    _WT2RAKE  \\\n",
       "0           53  2015015629  532049  120.931680       1.0  120.931680   \n",
       "1           33  2015004387  331071   13.467336       2.0   26.934672   \n",
       "2           20  2015005638  201091   12.370176       2.0   24.740353   \n",
       "3           42  2015004694  422039  213.645885       1.0  213.645885   \n",
       "4           24  2015004673  241011   26.493114       1.0   26.493114   \n",
       "...        ...         ...     ...         ...       ...         ...   \n",
       "328130      49  2015006796  492019   78.216704       1.0   78.216704   \n",
       "328131      51  2015006482  512019  194.282536       1.0  194.282536   \n",
       "328132      39  2015004898  391012   54.692567       1.0   54.692567   \n",
       "328133      33  2015004449  331072   20.185028       3.0   60.555083   \n",
       "328134      32  2015001176  321011   74.301419       2.0  148.602839   \n",
       "\n",
       "        _CHISPNC   _CRACE1   _CPRACE     _CLLCPWT  ...  _PAREC1  _PASTAE1  \\\n",
       "0       7.607091  7.222641  7.222641   805.383803  ...        1         1   \n",
       "1       9.000000  7.222641  7.222641   805.383803  ...        9         9   \n",
       "2       9.000000  7.222641  7.222641   805.383803  ...        4         2   \n",
       "3       9.000000  7.222641  7.222641   805.383803  ...        2         2   \n",
       "4       9.000000  7.222641  7.222641   805.383803  ...        9         9   \n",
       "...          ...       ...       ...          ...  ...      ...       ...   \n",
       "328130  9.000000  7.222641  7.222641   805.383803  ...        2         2   \n",
       "328131  7.607091  7.222641  7.222641   805.383803  ...        1         1   \n",
       "328132  9.000000  7.222641  7.222641   805.383803  ...        3         2   \n",
       "328133  9.000000  7.222641  7.222641   805.383803  ...        3         2   \n",
       "328134  1.000000  6.000000  6.000000  1006.679546  ...        9         9   \n",
       "\n",
       "        _LMTACT1  _LMTWRK1  _LMTSCL1  _RFSEAT2  _RFSEAT3  _FLSHOT6  _PNEUMO2  \\\n",
       "0            3.0       3.0       4.0         1         1   2.28991  2.406794   \n",
       "1            3.0       3.0       4.0         9         9   2.28991  2.406794   \n",
       "2            2.0       2.0       3.0         1         1   1.00000  2.000000   \n",
       "3            2.0       2.0       3.0         1         1   2.00000  2.000000   \n",
       "4            3.0       3.0       4.0         1         1   9.00000  9.000000   \n",
       "...          ...       ...       ...       ...       ...       ...       ...   \n",
       "328130       3.0       3.0       4.0         1         1   2.28991  2.406794   \n",
       "328131       3.0       3.0       4.0         1         1   2.28991  2.406794   \n",
       "328132       3.0       3.0       4.0         1         2   2.00000  2.000000   \n",
       "328133       3.0       3.0       4.0         1         1   2.28991  2.406794   \n",
       "328134       2.0       2.0       3.0         1         1   2.28991  2.406794   \n",
       "\n",
       "        _AIDTST3  \n",
       "0       2.000000  \n",
       "1       1.966675  \n",
       "2       2.000000  \n",
       "3       2.000000  \n",
       "4       2.000000  \n",
       "...          ...  \n",
       "328130  2.000000  \n",
       "328131  1.000000  \n",
       "328132  2.000000  \n",
       "328133  2.000000  \n",
       "328134  2.000000  \n",
       "\n",
       "[328135 rows x 75 columns]"
      ]
     },
     "execution_count": 29,
     "metadata": {},
     "output_type": "execute_result"
    }
   ],
   "source": [
    "train_data"
   ]
  },
  {
   "cell_type": "code",
   "execution_count": 30,
   "metadata": {},
   "outputs": [
    {
     "data": {
      "text/plain": [
       "Index(['_STATE', '_PSU', '_STSTR', '_STRWT', '_RAWRAKE', '_WT2RAKE',\n",
       "       '_CHISPNC', '_CRACE1', '_CPRACE', '_CLLCPWT', '_DUALUSE', '_DUALCOR',\n",
       "       '_LLCPWT', '_RFHLTH', '_HCVU651', '_RFHYPE5', '_CHOLCHK', '_RFCHOL',\n",
       "       '_LTASTH1', '_CASTHM1', '_ASTHMS1', '_DRDXAR1', '_PRACE1', '_MRACE1',\n",
       "       '_HISPANC', '_RACE', '_RACEG21', '_RACEGR3', '_RACE_G1', '_AGEG5YR',\n",
       "       '_AGE65YR', '_AGE80', '_AGE_G', '_BMI5', '_BMI5CAT', '_RFBMI5',\n",
       "       '_CHLDCNT', '_EDUCAG', '_INCOMG', '_SMOKER3', '_RFSMOK3', '_RFBING5',\n",
       "       '_DRNKWEK', '_RFDRHV5', '_MISFRTN', '_MISVEGN', '_FRTRESP', '_VEGRESP',\n",
       "       '_FRUTSUM', '_VEGESUM', '_FRTLT1', '_VEGLT1', '_FRT16', '_VEG23',\n",
       "       '_FRUITEX', '_VEGETEX', '_TOTINDA', '_MINAC11', '_MINAC21', '_PACAT1',\n",
       "       '_PAINDX1', '_PA150R2', '_PA300R2', '_PA30021', '_PASTRNG', '_PAREC1',\n",
       "       '_PASTAE1', '_LMTACT1', '_LMTWRK1', '_LMTSCL1', '_RFSEAT2', '_RFSEAT3',\n",
       "       '_FLSHOT6', '_PNEUMO2', '_AIDTST3'],\n",
       "      dtype='object')"
      ]
     },
     "execution_count": 30,
     "metadata": {},
     "output_type": "execute_result"
    }
   ],
   "source": [
    "train_data.columns"
   ]
  },
  {
   "cell_type": "code",
   "execution_count": 31,
   "metadata": {},
   "outputs": [
    {
     "data": {
      "text/plain": [
       "Id     _MICHD\n",
       "False  False     328135\n",
       "Name: count, dtype: int64"
      ]
     },
     "execution_count": 31,
     "metadata": {},
     "output_type": "execute_result"
    }
   ],
   "source": [
    "train_label.isnull().value_counts()"
   ]
  },
  {
   "cell_type": "code",
   "execution_count": 32,
   "metadata": {},
   "outputs": [],
   "source": [
    "x_train = train_data.to_numpy()"
   ]
  },
  {
   "cell_type": "code",
   "execution_count": 33,
   "metadata": {},
   "outputs": [
    {
     "data": {
      "text/plain": [
       "(328135, 75)"
      ]
     },
     "execution_count": 33,
     "metadata": {},
     "output_type": "execute_result"
    }
   ],
   "source": [
    "x_train.shape"
   ]
  },
  {
   "cell_type": "code",
   "execution_count": 34,
   "metadata": {},
   "outputs": [],
   "source": [
    "y_train = train_label.to_numpy()"
   ]
  },
  {
   "cell_type": "code",
   "execution_count": 35,
   "metadata": {},
   "outputs": [],
   "source": [
    "max_iters = 100\n",
    "gamma = 0.1\n",
    "batch_size = 1\n",
    "\n",
    "# Initialization\n",
    "w_initial = np.zeros((x_train.shape[1]))\n",
    "\n",
    "# # Start SGD.\n",
    "# start_time = datetime.datetime.now()\n",
    "# sgd_losses, sgd_ws = mean_squared_error_sgd(y_train, x_train, w_initial, batch_size, max_iters, gamma)\n",
    "# end_time = datetime.datetime.now()\n",
    "\n",
    "# # Print result\n",
    "# exection_time = (end_time - start_time).total_seconds()\n",
    "# print(\"SGD: execution time={t:.3f} seconds\".format(t=exection_time))"
   ]
  },
  {
   "cell_type": "markdown",
   "metadata": {},
   "source": [
    "## Training"
   ]
  },
  {
   "cell_type": "code",
   "execution_count": 36,
   "metadata": {},
   "outputs": [
    {
     "data": {
      "text/plain": [
       "(328135, 1, 2)"
      ]
     },
     "execution_count": 36,
     "metadata": {},
     "output_type": "execute_result"
    }
   ],
   "source": [
    "y.shape"
   ]
  },
  {
   "cell_type": "code",
   "execution_count": 37,
   "metadata": {},
   "outputs": [
    {
     "data": {
      "text/plain": [
       "(328135, 322)"
      ]
     },
     "execution_count": 37,
     "metadata": {},
     "output_type": "execute_result"
    }
   ],
   "source": [
    "data_train.shape"
   ]
  },
  {
   "cell_type": "code",
   "execution_count": 38,
   "metadata": {},
   "outputs": [
    {
     "name": "stdout",
     "output_type": "stream",
     "text": [
      "(75,) (75,)\n"
     ]
    }
   ],
   "source": [
    "mean = np.mean(data_train_filtered, axis=0)\n",
    "std = np.std(data_train_filtered, axis=0)\n",
    "print(mean.shape, std.shape)\n",
    "# small_value = 1e-9\n",
    "data_standardized = (data_train_filtered - mean) / (std)"
   ]
  },
  {
   "cell_type": "code",
   "execution_count": 40,
   "metadata": {},
   "outputs": [
    {
     "data": {
      "text/plain": [
       "0"
      ]
     },
     "execution_count": 40,
     "metadata": {},
     "output_type": "execute_result"
    }
   ],
   "source": [
    "np.isnan(data_standardized).sum()"
   ]
  },
  {
   "cell_type": "code",
   "execution_count": 41,
   "metadata": {},
   "outputs": [
    {
     "data": {
      "text/plain": [
       "0"
      ]
     },
     "execution_count": 41,
     "metadata": {},
     "output_type": "execute_result"
    }
   ],
   "source": [
    "np.isnan(data_train).sum()"
   ]
  },
  {
   "cell_type": "code",
   "execution_count": 42,
   "metadata": {},
   "outputs": [
    {
     "name": "stdout",
     "output_type": "stream",
     "text": [
      "(76, 1) (328135, 76)\n"
     ]
    }
   ],
   "source": [
    "# Binary classification using logistic regression\n",
    "\n",
    "max_iters = 10000\n",
    "gamma = 0.5\n",
    "\n",
    " # Build tx\n",
    "tx = np.c_[np.ones((y.shape[0], 1)), data_standardized]\n",
    "initial_w = np.zeros((tx.shape[1], 1))\n",
    "\n",
    "print(initial_w.shape, tx.shape)"
   ]
  },
  {
   "cell_type": "code",
   "execution_count": 43,
   "metadata": {},
   "outputs": [
    {
     "ename": "MemoryError",
     "evalue": "Unable to allocate 1.57 TiB for an array with shape (328135, 328135, 2) and data type float64",
     "output_type": "error",
     "traceback": [
      "\u001b[1;31m---------------------------------------------------------------------------\u001b[0m",
      "\u001b[1;31mMemoryError\u001b[0m                               Traceback (most recent call last)",
      "Cell \u001b[1;32mIn[43], line 1\u001b[0m\n\u001b[1;32m----> 1\u001b[0m grad \u001b[38;5;241m=\u001b[39m calculate_log_likelihood_gradient(y,tx,initial_w)\n",
      "File \u001b[1;32m~\\Documents\\ml-project-1-mnf\\implementations.py:205\u001b[0m, in \u001b[0;36mcalculate_log_likelihood_gradient\u001b[1;34m(y, tx, w)\u001b[0m\n\u001b[0;32m    194\u001b[0m \u001b[38;5;250m\u001b[39m\u001b[38;5;124;03m\"\"\"compute the gradient of loss.\u001b[39;00m\n\u001b[0;32m    195\u001b[0m \n\u001b[0;32m    196\u001b[0m \u001b[38;5;124;03mArgs:\u001b[39;00m\n\u001b[1;32m   (...)\u001b[0m\n\u001b[0;32m    202\u001b[0m \u001b[38;5;124;03m    a vector of shape (D, 1)\u001b[39;00m\n\u001b[0;32m    203\u001b[0m \u001b[38;5;124;03m\"\"\"\u001b[39;00m\n\u001b[0;32m    204\u001b[0m N\u001b[38;5;241m=\u001b[39my\u001b[38;5;241m.\u001b[39mshape[\u001b[38;5;241m0\u001b[39m]\n\u001b[1;32m--> 205\u001b[0m grad\u001b[38;5;241m=\u001b[39m(\u001b[38;5;241m1\u001b[39m\u001b[38;5;241m/\u001b[39mN)\u001b[38;5;241m*\u001b[39m((tx\u001b[38;5;241m.\u001b[39mT)\u001b[38;5;241m.\u001b[39mdot((sigmoid(tx\u001b[38;5;241m.\u001b[39mdot(w)))\u001b[38;5;241m-\u001b[39my))\n\u001b[0;32m    207\u001b[0m \u001b[38;5;28;01mreturn\u001b[39;00m(grad)\n",
      "\u001b[1;31mMemoryError\u001b[0m: Unable to allocate 1.57 TiB for an array with shape (328135, 328135, 2) and data type float64"
     ]
    }
   ],
   "source": [
    "grad = calculate_log_likelihood_gradient(y,tx,initial_w)"
   ]
  },
  {
   "cell_type": "code",
   "execution_count": 44,
   "metadata": {},
   "outputs": [
    {
     "ename": "NameError",
     "evalue": "name 'grad' is not defined",
     "output_type": "error",
     "traceback": [
      "\u001b[1;31m---------------------------------------------------------------------------\u001b[0m",
      "\u001b[1;31mNameError\u001b[0m                                 Traceback (most recent call last)",
      "Cell \u001b[1;32mIn[44], line 1\u001b[0m\n\u001b[1;32m----> 1\u001b[0m w \u001b[38;5;241m=\u001b[39m initial_w\u001b[38;5;241m-\u001b[39mgamma\u001b[38;5;241m*\u001b[39mgrad\n\u001b[0;32m      2\u001b[0m \u001b[38;5;28mprint\u001b[39m(np\u001b[38;5;241m.\u001b[39mmin(w), np\u001b[38;5;241m.\u001b[39mmax(w))\n",
      "\u001b[1;31mNameError\u001b[0m: name 'grad' is not defined"
     ]
    }
   ],
   "source": [
    "w = initial_w-gamma*grad\n",
    "print(np.min(w), np.max(w))"
   ]
  },
  {
   "cell_type": "code",
   "execution_count": 45,
   "metadata": {},
   "outputs": [
    {
     "ename": "NameError",
     "evalue": "name 'w' is not defined",
     "output_type": "error",
     "traceback": [
      "\u001b[1;31m---------------------------------------------------------------------------\u001b[0m",
      "\u001b[1;31mNameError\u001b[0m                                 Traceback (most recent call last)",
      "Cell \u001b[1;32mIn[45], line 1\u001b[0m\n\u001b[1;32m----> 1\u001b[0m loss \u001b[38;5;241m=\u001b[39m calculate_log_likelihood_loss(y,tx,w)\n\u001b[0;32m      2\u001b[0m \u001b[38;5;28mprint\u001b[39m(loss)\n",
      "\u001b[1;31mNameError\u001b[0m: name 'w' is not defined"
     ]
    }
   ],
   "source": [
    "loss = calculate_log_likelihood_loss(y,tx,w)\n",
    "print(loss)"
   ]
  },
  {
   "cell_type": "code",
   "execution_count": 46,
   "metadata": {},
   "outputs": [
    {
     "ename": "MemoryError",
     "evalue": "Unable to allocate 1.57 TiB for an array with shape (328135, 328135, 2) and data type float64",
     "output_type": "error",
     "traceback": [
      "\u001b[1;31m---------------------------------------------------------------------------\u001b[0m",
      "\u001b[1;31mMemoryError\u001b[0m                               Traceback (most recent call last)",
      "Cell \u001b[1;32mIn[46], line 1\u001b[0m\n\u001b[1;32m----> 1\u001b[0m w,loss \u001b[38;5;241m=\u001b[39m logistic_regression(y, tx, initial_w, max_iters, gamma)\n",
      "File \u001b[1;32m~\\Documents\\ml-project-1-mnf\\implementations.py:237\u001b[0m, in \u001b[0;36mlogistic_regression\u001b[1;34m(y, tx, initial_w, max_iters, gamma)\u001b[0m\n\u001b[0;32m    234\u001b[0m \u001b[38;5;66;03m# start the logistic regression\u001b[39;00m\n\u001b[0;32m    235\u001b[0m \u001b[38;5;28;01mfor\u001b[39;00m \u001b[38;5;28miter\u001b[39m \u001b[38;5;129;01min\u001b[39;00m \u001b[38;5;28mrange\u001b[39m(max_iters):\n\u001b[0;32m    236\u001b[0m     \u001b[38;5;66;03m# get loss and update w.\u001b[39;00m\n\u001b[1;32m--> 237\u001b[0m     w\u001b[38;5;241m=\u001b[39mw\u001b[38;5;241m-\u001b[39mgamma\u001b[38;5;241m*\u001b[39mcalculate_log_likelihood_gradient(y,tx,w)\n\u001b[0;32m    238\u001b[0m     loss\u001b[38;5;241m=\u001b[39mcalculate_log_likelihood_loss(y,tx,w)\n\u001b[0;32m    239\u001b[0m     \u001b[38;5;66;03m# log info\u001b[39;00m\n",
      "File \u001b[1;32m~\\Documents\\ml-project-1-mnf\\implementations.py:205\u001b[0m, in \u001b[0;36mcalculate_log_likelihood_gradient\u001b[1;34m(y, tx, w)\u001b[0m\n\u001b[0;32m    194\u001b[0m \u001b[38;5;250m\u001b[39m\u001b[38;5;124;03m\"\"\"compute the gradient of loss.\u001b[39;00m\n\u001b[0;32m    195\u001b[0m \n\u001b[0;32m    196\u001b[0m \u001b[38;5;124;03mArgs:\u001b[39;00m\n\u001b[1;32m   (...)\u001b[0m\n\u001b[0;32m    202\u001b[0m \u001b[38;5;124;03m    a vector of shape (D, 1)\u001b[39;00m\n\u001b[0;32m    203\u001b[0m \u001b[38;5;124;03m\"\"\"\u001b[39;00m\n\u001b[0;32m    204\u001b[0m N\u001b[38;5;241m=\u001b[39my\u001b[38;5;241m.\u001b[39mshape[\u001b[38;5;241m0\u001b[39m]\n\u001b[1;32m--> 205\u001b[0m grad\u001b[38;5;241m=\u001b[39m(\u001b[38;5;241m1\u001b[39m\u001b[38;5;241m/\u001b[39mN)\u001b[38;5;241m*\u001b[39m((tx\u001b[38;5;241m.\u001b[39mT)\u001b[38;5;241m.\u001b[39mdot((sigmoid(tx\u001b[38;5;241m.\u001b[39mdot(w)))\u001b[38;5;241m-\u001b[39my))\n\u001b[0;32m    207\u001b[0m \u001b[38;5;28;01mreturn\u001b[39;00m(grad)\n",
      "\u001b[1;31mMemoryError\u001b[0m: Unable to allocate 1.57 TiB for an array with shape (328135, 328135, 2) and data type float64"
     ]
    }
   ],
   "source": [
    "w,loss = logistic_regression(y, tx, initial_w, max_iters, gamma)"
   ]
  },
  {
   "cell_type": "markdown",
   "metadata": {},
   "source": [
    "## Test"
   ]
  },
  {
   "cell_type": "code",
   "execution_count": 161,
   "metadata": {},
   "outputs": [],
   "source": [
    "tast_path='./dataset/x_test.csv'\n",
    "test_data=load_csv_data(tast_path)\n"
   ]
  },
  {
   "cell_type": "code",
   "execution_count": 169,
   "metadata": {},
   "outputs": [
    {
     "data": {
      "text/plain": [
       "(109379, 321)"
      ]
     },
     "execution_count": 169,
     "metadata": {},
     "output_type": "execute_result"
    }
   ],
   "source": [
    "test_data.shape"
   ]
  },
  {
   "cell_type": "code",
   "execution_count": 163,
   "metadata": {},
   "outputs": [],
   "source": [
    "xt=replace_nan_by_mean(test_data)"
   ]
  },
  {
   "cell_type": "code",
   "execution_count": 180,
   "metadata": {},
   "outputs": [],
   "source": [
    "xt_filtered=filtering(xt, tast_path)\n",
    "\n"
   ]
  },
  {
   "cell_type": "code",
   "execution_count": 183,
   "metadata": {},
   "outputs": [],
   "source": [
    "def standardize(data):\n",
    "    mean=np.mean(data, axis=0)\n",
    "    std=np.std(data, axis=0)\n",
    "    return((data - mean) / (std))"
   ]
  },
  {
   "cell_type": "code",
   "execution_count": 185,
   "metadata": {},
   "outputs": [],
   "source": [
    "xt_filtered.shape\n",
    "xt_filtered_standardized=standardize(xt_filtered)\n",
    "xtest=np.c_[np.ones((xt.shape[0], 1)), xt_filtered_standardized]\n"
   ]
  },
  {
   "cell_type": "code",
   "execution_count": 186,
   "metadata": {},
   "outputs": [
    {
     "data": {
      "text/plain": [
       "(109379, 76)"
      ]
     },
     "execution_count": 186,
     "metadata": {},
     "output_type": "execute_result"
    }
   ],
   "source": [
    "xtest.shape"
   ]
  },
  {
   "cell_type": "code",
   "execution_count": 204,
   "metadata": {},
   "outputs": [],
   "source": [
    "def apply_model(test, model):\n",
    "    pred=(sigmoid(test.dot(model))>=0.5).astype(int)\n",
    "    return(pred)\n",
    "    \n"
   ]
  },
  {
   "cell_type": "code",
   "execution_count": 205,
   "metadata": {},
   "outputs": [],
   "source": [
    "predictions=apply_model(xtest, w)"
   ]
  },
  {
   "cell_type": "code",
   "execution_count": 207,
   "metadata": {},
   "outputs": [
    {
     "data": {
      "text/plain": [
       "601"
      ]
     },
     "execution_count": 207,
     "metadata": {},
     "output_type": "execute_result"
    }
   ],
   "source": [
    "predictions.sum()"
   ]
  },
  {
   "cell_type": "code",
   "execution_count": null,
   "metadata": {},
   "outputs": [],
   "source": []
  }
 ],
 "metadata": {
  "kernelspec": {
   "display_name": "Python 3 (ipykernel)",
   "language": "python",
   "name": "python3"
  },
  "language_info": {
   "codemirror_mode": {
    "name": "ipython",
    "version": 3
   },
   "file_extension": ".py",
   "mimetype": "text/x-python",
   "name": "python",
   "nbconvert_exporter": "python",
   "pygments_lexer": "ipython3",
   "version": "3.11.5"
  }
 },
 "nbformat": 4,
 "nbformat_minor": 2
}
