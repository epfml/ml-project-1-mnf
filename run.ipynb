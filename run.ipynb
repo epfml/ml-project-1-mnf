{
 "cells": [
  {
   "cell_type": "code",
   "execution_count": 1,
   "metadata": {},
   "outputs": [],
   "source": [
    "from implementations import *\n",
    "from helpers import *\n",
    "import numpy as np\n",
    "import matplotlib.pyplot as plt"
   ]
  },
  {
   "cell_type": "markdown",
   "metadata": {},
   "source": [
    "## Load the data ###"
   ]
  },
  {
   "cell_type": "code",
   "execution_count": 2,
   "metadata": {},
   "outputs": [],
   "source": [
    "data_path='./dataset_to_release/'\n",
    "train_data_path=\"./dataset_to_release/x_train.csv\"\n",
    "test_data_path=\"./dataset_to_release/x_test.csv\""
   ]
  },
  {
   "cell_type": "code",
   "execution_count": 3,
   "metadata": {},
   "outputs": [],
   "source": [
    "x_train, x_test, y_train, train_ids, test_ids=load_csv_data_all(data_path, sub_sample=False)"
   ]
  },
  {
   "cell_type": "markdown",
   "metadata": {},
   "source": [
    "## Data Preprocessing"
   ]
  },
  {
   "cell_type": "code",
   "execution_count": 9,
   "metadata": {},
   "outputs": [],
   "source": [
    "# Handling the missing values\n",
    "\n",
    "def replace_nan_by_mean(data):\n",
    "    ''' function that handels the missing values by replacing them with the column means'''\n",
    "    nan_indices = np.isnan(data)\n",
    "    column_means = np.nanmean(data, axis=0)\n",
    "    data[nan_indices] = np.take(column_means, np.where(nan_indices)[1])\n",
    "    return data\n",
    "\n",
    "data_train = replace_nan_by_mean(x_train)"
   ]
  },
  {
   "cell_type": "code",
   "execution_count": 11,
   "metadata": {},
   "outputs": [
    {
     "data": {
      "text/plain": [
       "(328135, 321)"
      ]
     },
     "execution_count": 11,
     "metadata": {},
     "output_type": "execute_result"
    }
   ],
   "source": [
    "x_train.shape"
   ]
  },
  {
   "cell_type": "code",
   "execution_count": 12,
   "metadata": {},
   "outputs": [
    {
     "data": {
      "text/plain": [
       "(328135, 321)"
      ]
     },
     "execution_count": 12,
     "metadata": {},
     "output_type": "execute_result"
    }
   ],
   "source": [
    "data_train.shape"
   ]
  },
  {
   "cell_type": "code",
   "execution_count": 13,
   "metadata": {},
   "outputs": [],
   "source": [
    "# Data filtering: we only keep relevant features\n",
    "\n",
    "def filtering(data, data_path):\n",
    "    columns = extract_first_line(data_path).split(',')\n",
    "    columns.pop(0)\n",
    "    columns_to_keep = []\n",
    "    for c in columns:\n",
    "        if c.startswith('_'):\n",
    "            columns_to_keep.append(c)\n",
    "    indices_to_keep = [columns.index(c) for c in columns_to_keep]\n",
    "    data_f = data[:, indices_to_keep]\n",
    "    return(data_f)"
   ]
  },
  {
   "cell_type": "code",
   "execution_count": 14,
   "metadata": {},
   "outputs": [],
   "source": [
    "features_to_keep = [\"_AGE80\", \"_AGE65YR\", \"_AGEG5YR\", \"_AGE_G\", \"_AIDTST3\", \"_ASTHMS1\", \"_BMI5\", \"_BMI5CAT\", \"_CASTHM1\", \"_CHLDCNT\", \"_CHOLCHK\", \"_DRDXAR1\", \"_DRNKWEK\", \"_DUALCOR\", \"_DUALUSE\", \"_EDUCAG\", \"_FLSHOT6\", \"_FRT16\", \"_FRTLT1\", \"_FRTRESP\", \"_FRUITEX\", \"_FRUTSUM\", \"_HCVU651\", \"_HISPANC\", \"_INCOMG\", \"_LLCPWT\", \"_LMTACT1\", \"_LMTSCL1\", \"_LMTWRK1\", \"_LTASTH1\", \"_MICHD\", \"_MINAC11\", \"_MINAC21\", \"_MISFRTN\", \"_MISVEGN\", \"_MRACE1\", \"_PA30021\", \"_PA150R2\", \"_PA300R2\", \"_PACAT1\", \"_PAINDX1\", \"_PAREC1\", \"_PASTAE1\", \"_PASTRNG\", \"_PNEUMO2\", \"_PRACE1\", \"_RACE\", \"_RACEG21\", \"_RACEGR3\", \"_RACE_G1\", \"_RFBING5\", \"_RFBMI5\", \"_RFCHOL\", \"_RFDRHV5\", \"_RFHLTH\", \"_RFHYPE5\", \"_RFSEAT2\", \"_RFSEAT3\", \"_RFSMOK3\", \"_SMOKER3\", \"_TOTINDA\", \"_VEG23\", \"_VEGESUM\", \"_VEGETEX\", \"_VEGLT1\", \"_VEGRESP\"]"
   ]
  },
  {
   "cell_type": "code",
   "execution_count": 15,
   "metadata": {},
   "outputs": [
    {
     "data": {
      "text/plain": [
       "66"
      ]
     },
     "execution_count": 15,
     "metadata": {},
     "output_type": "execute_result"
    }
   ],
   "source": [
    "len(features_to_keep)"
   ]
  },
  {
   "cell_type": "code",
   "execution_count": 16,
   "metadata": {},
   "outputs": [],
   "source": [
    "# Secode version of data filtering, remove 9 more columns\n",
    "def filtering_2(data,data_path):\n",
    "    columns = extract_first_line(data_path).split(',')\n",
    "    columns.pop(0)\n",
    "    filtered_columns = [col for col in columns if col in features_to_keep]\n",
    "    indices_to_keep = [columns.index(c) for c in filtered_columns]\n",
    "    print(len(indices_to_keep))\n",
    "\n",
    "    data_f = data[:, indices_to_keep]\n",
    "    return(data_f)"
   ]
  },
  {
   "cell_type": "code",
   "execution_count": 17,
   "metadata": {},
   "outputs": [
    {
     "name": "stdout",
     "output_type": "stream",
     "text": [
      "65\n"
     ]
    }
   ],
   "source": [
    "data_train_filtered_2=filtering_2(data_train, train_data_path)"
   ]
  },
  {
   "cell_type": "code",
   "execution_count": 18,
   "metadata": {},
   "outputs": [
    {
     "data": {
      "text/plain": [
       "(328135, 65)"
      ]
     },
     "execution_count": 18,
     "metadata": {},
     "output_type": "execute_result"
    }
   ],
   "source": [
    "data_train_filtered_2.shape\n"
   ]
  },
  {
   "cell_type": "code",
   "execution_count": 19,
   "metadata": {},
   "outputs": [],
   "source": [
    "# standardization of the data\n",
    "def standardize(data):\n",
    "    small_value=1*10**(-9)\n",
    "    mean=np.mean(data, axis=0)\n",
    "    std=np.std(data, axis=0)+small_value\n",
    "    return((data - mean) / (std))"
   ]
  },
  {
   "cell_type": "code",
   "execution_count": 21,
   "metadata": {},
   "outputs": [],
   "source": [
    "# feature augmentation\n",
    "def feature_expansion(data, degree):\n",
    "    augmented_features=[]\n",
    "    for i in range(data.shape[1]):\n",
    "        feature=data[:,i]\n",
    "        augmented_feature=build_poly(feature, degree)\n",
    "        augmented_features.append(augmented_feature)\n",
    "\n",
    "    # Stack the augmented features horizontally\n",
    "    augmented_data = np.hstack(augmented_features)\n",
    "    return(augmented_data)\n",
    "\n",
    "   "
   ]
  },
  {
   "cell_type": "markdown",
   "metadata": {},
   "source": [
    "## Cross-Validation"
   ]
  },
  {
   "cell_type": "code",
   "execution_count": 22,
   "metadata": {},
   "outputs": [],
   "source": [
    "def compute_f1_score(true_labels, predicted_labels):\n",
    "    \"\"\"\n",
    "    Computes the F1 score for a classification model using NumPy.\n",
    "\n",
    "    Parameters:\n",
    "    true_labels (numpy.ndarray): True labels for the data.\n",
    "    predicted_labels (numpy.ndarray): Predicted labels from the model.\n",
    "\n",
    "    Returns:\n",
    "    f1 (float): The F1 score.\n",
    "    \"\"\"\n",
    "    true_positive = np.sum(np.logical_and(true_labels == 1, predicted_labels == 1))\n",
    "    false_positive = np.sum(np.logical_and(true_labels == 0, predicted_labels == 1))\n",
    "    false_negative = np.sum(np.logical_and(true_labels == 1, predicted_labels == 0))\n",
    "    \n",
    "    precision = true_positive / (true_positive + false_positive)\n",
    "    recall = true_positive / (true_positive + false_negative)\n",
    "    \n",
    "    f1 = 2 * (precision * recall) / (precision + recall) if (precision + recall) > 0 else 0\n",
    "    \n",
    "    return f1"
   ]
  },
  {
   "cell_type": "code",
   "execution_count": 23,
   "metadata": {},
   "outputs": [],
   "source": [
    "def build_k_indices(y, k_fold, seed):\n",
    "    \"\"\"build k indices for k-fold.\n",
    "\n",
    "    Args:\n",
    "        y:      shape=(N,)\n",
    "        k_fold: K in K-fold, i.e. the fold num\n",
    "        seed:   the random seed\n",
    "\n",
    "    Returns:\n",
    "        A 2D array of shape=(k_fold, N/k_fold) that indicates the data indices for each fold\n",
    "\n",
    "    \"\"\"\n",
    "    num_row = y.shape[0]\n",
    "    interval = int(num_row / k_fold)\n",
    "    np.random.seed(seed)\n",
    "    indices = np.random.permutation(num_row)\n",
    "    k_indices = [indices[k * interval : (k + 1) * interval] for k in range(k_fold)]\n",
    "    \n",
    "    return np.array(k_indices)"
   ]
  },
  {
   "cell_type": "code",
   "execution_count": 24,
   "metadata": {},
   "outputs": [],
   "source": [
    "def apply_model(test, model, thresh = 0.5):\n",
    "    pred=(sigmoid(test.dot(model))>=thresh).astype(int)\n",
    "    return(pred)"
   ]
  },
  {
   "cell_type": "code",
   "execution_count": 26,
   "metadata": {},
   "outputs": [
    {
     "data": {
      "text/plain": [
       "(328135, 65)"
      ]
     },
     "execution_count": 26,
     "metadata": {},
     "output_type": "execute_result"
    }
   ],
   "source": [
    "data_train_filtered_2.shape"
   ]
  },
  {
   "cell_type": "code",
   "execution_count": 32,
   "metadata": {},
   "outputs": [],
   "source": [
    "def cross_validation(y, x, k_indices, k, lambda_, degree):\n",
    "    \"\"\"return the loss of ridge regression for a fold corresponding to k_indices\n",
    "\n",
    "    Args:\n",
    "        y:          shape=(N,)\n",
    "        x:          shape=(N,)\n",
    "        k_indices:  2D array returned by build_k_indices()\n",
    "        k:          scalar, the k-th fold (N.B.: not to confused with k_fold which is the fold nums)\n",
    "        lambda_:    scalar, cf. ridge_regression()\n",
    "        degree:     scalar, cf. build_poly()\n",
    "\n",
    "    Returns:\n",
    "        train and test root mean square errors rmse = sqrt(2 mse)\n",
    "\n",
    "    \"\"\"\n",
    "\n",
    "    # ***************************************************\n",
    "    # get k'th subgroup in test, others in train:\n",
    "    train_idx=np.reshape(k_indices[[i for i in range(len(k_indices)) if i!=k]], -1)\n",
    "    test_idx=k_indices[k]\n",
    "\n",
    "    x_train=x[train_idx,:]\n",
    "    print(x_train.shape)\n",
    "    y_train=y[train_idx]\n",
    "    x_test=x[test_idx,:]\n",
    "    y_test=y[test_idx]\n",
    "    \n",
    "    y_tr=np.expand_dims(y_train, 1)\n",
    "    y_te=np.expand_dims(y_test, 1)\n",
    "\n",
    "    y_tr=np.where(y_tr == -1, 0, y_tr)\n",
    "    print(y_tr, y_tr.shape)\n",
    "    y_te=np.where(y_te == -1, 0, y_te)\n",
    "\n",
    "    max_iters = 1000\n",
    "    gamma=0.5\n",
    "\n",
    "    # ***************************************************\n",
    "    # form data with polynomial degree: \n",
    "    print('on va auggmenter le data')\n",
    "    train_data=feature_expansion(x_train, degree)\n",
    "    test_data=feature_expansion(x_test, degree)\n",
    "    train_data=standardize(train_data)\n",
    "    test_data=standardize(test_data)\n",
    "    # ***************************************************\n",
    "     # build tx\n",
    "    tx_tr = np.c_[np.ones((y_train.shape[0], 1)), train_data]\n",
    "    tx_te = np.c_[np.ones((test_data.shape[0], 1)), test_data]\n",
    "    print(tx_tr.shape)\n",
    "    print(tx_te.shape)\n",
    "    initial_w=np.zeros((tx_tr.shape[1], 1))\n",
    "\n",
    "    # reg logistic regression: \n",
    "    w=reg_logistic_regression(y_tr,tx_tr,lambda_,initial_w, max_iters, gamma)[0]\n",
    "    print(w.shape)\n",
    "    print(tx_te.shape)\n",
    "    y_pred=apply_model(tx_te, w, 0.5)\n",
    "    # calculate f1 score on test:\n",
    "    f1_te=compute_f1_score(y_te, y_pred)\n",
    "  \n",
    "    return f1_te"
   ]
  },
  {
   "cell_type": "code",
   "execution_count": 33,
   "metadata": {},
   "outputs": [],
   "source": [
    "def cross_validation_demo(degree, k_fold, lambda_):\n",
    "    \"\"\"cross validation over regularisation parameter lambda.\n",
    "\n",
    "    Args:\n",
    "        degree: integer, degree of the polynomial expansion\n",
    "        k_fold: integer, the number of folds\n",
    "        lambdas: shape = (p, ) where p is the number of values of lambda to test\n",
    "    Returns:\n",
    "        best_lambda : scalar, value of the best lambda\n",
    "        best_rmse : scalar, the associated root mean squared error for the best lambda\n",
    "    \"\"\"\n",
    "\n",
    "    seed = 12\n",
    "    #degree = degree\n",
    "    k_fold = k_fold\n",
    "    lambda_ = lambda_\n",
    "    # split data in k fold\n",
    "    k_indices = build_k_indices(y_train, k_fold, seed)\n",
    "    # define lists to store the loss of training data and test data\n",
    "    f1_score = []\n",
    "    # cross validation over lambdas:\n",
    "    for d in degree:\n",
    "        cross_val = [cross_validation(y_train, data_train_filtered_2, k_indices, k, lambda_, d) for k in range(k_fold)]\n",
    "        f1 = np.mean(cross_val)\n",
    "        f1_score.append(f1)\n",
    "    print('on y est presque')\n",
    "    best_degree = degree[np.argmax(f1_score)]\n",
    "    best_f1 = np.min(f1_score)\n",
    "    # print(\n",
    "    #     \"For polynomial expansion up to degree %.f, the choice of lambda which leads to the best test rmse is %.5f with a test rmse of %.3f\"\n",
    "    #     % (degree, best_lambda, f1_score)\n",
    "    # )\n",
    "    return best_degree, best_f1, f1_score"
   ]
  },
  {
   "cell_type": "code",
   "execution_count": 34,
   "metadata": {},
   "outputs": [
    {
     "data": {
      "text/plain": [
       "(328135,)"
      ]
     },
     "execution_count": 34,
     "metadata": {},
     "output_type": "execute_result"
    }
   ],
   "source": [
    "y_train.shape"
   ]
  },
  {
   "cell_type": "code",
   "execution_count": 35,
   "metadata": {},
   "outputs": [
    {
     "name": "stdout",
     "output_type": "stream",
     "text": [
      "(246099, 65)\n",
      "[[0]\n",
      " [1]\n",
      " [0]\n",
      " ...\n",
      " [0]\n",
      " [1]\n",
      " [0]] (246099, 1)\n",
      "on va auggmenter le data\n",
      "(246099, 131)\n",
      "(82033, 131)\n",
      "Current iteration=0, loss=0.6031271020869896\n",
      "Current iteration=100, loss=0.2507973231123299\n",
      "Current iteration=200, loss=0.24924630680398083\n",
      "Current iteration=300, loss=0.2489755077280358\n",
      "Current iteration=400, loss=0.24889727970199313\n",
      "Current iteration=500, loss=0.24886350174454194\n",
      "Current iteration=600, loss=0.24884235012557887\n",
      "Current iteration=700, loss=0.24882582642474602\n",
      "Current iteration=800, loss=0.24881166149241313\n",
      "Current iteration=900, loss=0.2487990871437696\n",
      "loss=0.24878787054760435\n",
      "(131, 1)\n",
      "(82033, 131)\n",
      "(246099, 65)\n",
      "[[1]\n",
      " [0]\n",
      " [1]\n",
      " ...\n",
      " [0]\n",
      " [1]\n",
      " [0]] (246099, 1)\n",
      "on va auggmenter le data\n",
      "(246099, 131)\n",
      "(82033, 131)\n",
      "Current iteration=0, loss=0.6030464334324386\n",
      "Current iteration=100, loss=0.25038515240587816\n",
      "Current iteration=200, loss=0.24883294041135184\n",
      "Current iteration=300, loss=0.2485629896646563\n",
      "Current iteration=400, loss=0.24848672289618903\n",
      "Current iteration=500, loss=0.2484551674729943\n",
      "Current iteration=600, loss=0.24843620493394464\n",
      "Current iteration=700, loss=0.24842174564705205\n",
      "Current iteration=800, loss=0.24840948804905388\n",
      "Current iteration=900, loss=0.2483986537513867\n",
      "loss=0.24838899613169801\n",
      "(131, 1)\n",
      "(82033, 131)\n",
      "(246099, 65)\n",
      "[[1]\n",
      " [0]\n",
      " [1]\n",
      " ...\n",
      " [0]\n",
      " [1]\n",
      " [0]] (246099, 1)\n",
      "on va auggmenter le data\n",
      "(246099, 131)\n",
      "(82033, 131)\n",
      "Current iteration=0, loss=0.6031845958855018\n",
      "Current iteration=100, loss=0.2513422693884829\n",
      "Current iteration=200, loss=0.24979933463264384\n",
      "Current iteration=300, loss=0.24953121626205493\n",
      "Current iteration=400, loss=0.24945565282609913\n",
      "Current iteration=500, loss=0.24942431136580082\n",
      "Current iteration=600, loss=0.24940530310913903\n",
      "Current iteration=700, loss=0.2493906614571757\n",
      "Current iteration=800, loss=0.24937814891512347\n",
      "Current iteration=900, loss=0.24936702108815065\n",
      "loss=0.24935705372521327\n",
      "(131, 1)\n",
      "(82033, 131)\n",
      "(246099, 65)\n",
      "[[1]\n",
      " [0]\n",
      " [1]\n",
      " ...\n",
      " [0]\n",
      " [0]\n",
      " [0]] (246099, 1)\n",
      "on va auggmenter le data\n",
      "(246099, 131)\n",
      "(82033, 131)\n",
      "Current iteration=0, loss=0.6031154207371584\n",
      "Current iteration=100, loss=0.2509813902448809\n",
      "Current iteration=200, loss=0.2494001416248767\n",
      "Current iteration=300, loss=0.2491199170879072\n",
      "Current iteration=400, loss=0.2490396501640447\n",
      "Current iteration=500, loss=0.2490062077409033\n",
      "Current iteration=600, loss=0.2489861306149474\n",
      "Current iteration=700, loss=0.24897087709806245\n",
      "Current iteration=800, loss=0.24895798666895413\n",
      "Current iteration=900, loss=0.24894662008393326\n",
      "loss=0.24893650747012822\n",
      "(131, 1)\n",
      "(82033, 131)\n",
      "(246099, 65)\n",
      "[[0]\n",
      " [1]\n",
      " [0]\n",
      " ...\n",
      " [0]\n",
      " [1]\n",
      " [0]] (246099, 1)\n",
      "on va auggmenter le data\n",
      "(246099, 196)\n",
      "(82033, 196)\n",
      "Current iteration=0, loss=0.6019478618578422\n",
      "Current iteration=100, loss=0.24370899632204585\n",
      "Current iteration=200, loss=0.2397801107659406\n",
      "Current iteration=300, loss=0.23865336038069948\n",
      "Current iteration=400, loss=0.23819688848899484\n",
      "Current iteration=500, loss=0.23796180605849862\n",
      "Current iteration=600, loss=0.23781405121951693\n",
      "Current iteration=700, loss=0.23770660247154984\n",
      "Current iteration=800, loss=0.23762083794538158\n",
      "Current iteration=900, loss=0.23754847784240818\n",
      "loss=0.2374859817057645\n",
      "(196, 1)\n",
      "(82033, 196)\n",
      "(246099, 65)\n",
      "[[1]\n",
      " [0]\n",
      " [1]\n",
      " ...\n",
      " [0]\n",
      " [1]\n",
      " [0]] (246099, 1)\n",
      "on va auggmenter le data\n",
      "(246099, 196)\n",
      "(82033, 196)\n",
      "Current iteration=0, loss=0.6018842183925996\n",
      "Current iteration=100, loss=0.24323599211269245\n",
      "Current iteration=200, loss=0.23926280357184682\n",
      "Current iteration=300, loss=0.2381159880909555\n",
      "Current iteration=400, loss=0.23765220297961362\n",
      "Current iteration=500, loss=0.23741515533805635\n",
      "Current iteration=600, loss=0.23726742790281716\n",
      "Current iteration=700, loss=0.23716063634745943\n",
      "Current iteration=800, loss=0.23707564340003628\n",
      "Current iteration=900, loss=0.237003990391979\n",
      "loss=0.23694207978044177\n",
      "(196, 1)\n",
      "(82033, 196)\n",
      "(246099, 65)\n",
      "[[1]\n",
      " [0]\n",
      " [1]\n",
      " ...\n",
      " [0]\n",
      " [1]\n",
      " [0]] (246099, 1)\n",
      "on va auggmenter le data\n",
      "(246099, 196)\n",
      "(82033, 196)\n",
      "Current iteration=0, loss=0.601994856181849\n",
      "Current iteration=100, loss=0.24420858185344993\n",
      "Current iteration=200, loss=0.24029169845825507\n",
      "Current iteration=300, loss=0.2391679552544864\n",
      "Current iteration=400, loss=0.23870951211982375\n",
      "Current iteration=500, loss=0.2384709385526982\n",
      "Current iteration=600, loss=0.2383197250449261\n",
      "Current iteration=700, loss=0.23820935150945355\n",
      "Current iteration=800, loss=0.2381212618548898\n",
      "Current iteration=900, loss=0.23804709651270242\n",
      "loss=0.23798321817371448\n",
      "(196, 1)\n",
      "(82033, 196)\n",
      "(246099, 65)\n",
      "[[1]\n",
      " [0]\n",
      " [1]\n",
      " ...\n",
      " [0]\n",
      " [0]\n",
      " [0]] (246099, 1)\n",
      "on va auggmenter le data\n",
      "(246099, 196)\n",
      "(82033, 196)\n",
      "Current iteration=0, loss=0.6019262460044708\n",
      "Current iteration=100, loss=0.2437761816205908\n",
      "Current iteration=200, loss=0.23979010192359174\n",
      "Current iteration=300, loss=0.23864021155288107\n",
      "Current iteration=400, loss=0.23817262730434902\n",
      "Current iteration=500, loss=0.2379315937877351\n",
      "Current iteration=600, loss=0.2377803996205717\n",
      "Current iteration=700, loss=0.2376708500015386\n",
      "Current iteration=800, loss=0.2375837399947509\n",
      "Current iteration=900, loss=0.23751047054404054\n",
      "loss=0.23744731996199744\n",
      "(196, 1)\n",
      "(82033, 196)\n",
      "(246099, 65)\n",
      "[[0]\n",
      " [1]\n",
      " [0]\n",
      " ...\n",
      " [0]\n",
      " [1]\n",
      " [0]] (246099, 1)\n",
      "on va auggmenter le data\n",
      "(246099, 261)\n",
      "(82033, 261)\n",
      "Current iteration=0, loss=0.6066688275217922\n",
      "Current iteration=100, loss=0.24267326221027363\n",
      "Current iteration=200, loss=0.23866223725108796\n",
      "Current iteration=300, loss=0.2378907551914231\n",
      "Current iteration=400, loss=0.23766069215302904\n",
      "Current iteration=500, loss=0.23751897175819361\n",
      "Current iteration=600, loss=0.23741168700814425\n",
      "Current iteration=700, loss=0.23732411123278196\n",
      "Current iteration=800, loss=0.23725001458634262\n",
      "Current iteration=900, loss=0.2371860387948295\n",
      "loss=0.2371305742213453\n",
      "(261, 1)\n",
      "(82033, 261)\n",
      "(246099, 65)\n",
      "[[1]\n",
      " [0]\n",
      " [1]\n",
      " ...\n",
      " [0]\n",
      " [1]\n",
      " [0]] (246099, 1)\n",
      "on va auggmenter le data\n",
      "(246099, 261)\n",
      "(82033, 261)\n",
      "Current iteration=0, loss=0.6066060206653054\n",
      "Current iteration=100, loss=0.24206492749130443\n",
      "Current iteration=200, loss=0.2380800621102849\n",
      "Current iteration=300, loss=0.23734947834598857\n",
      "Current iteration=400, loss=0.23712140475061383\n",
      "Current iteration=500, loss=0.23697908719387648\n",
      "Current iteration=600, loss=0.23687137774776237\n",
      "Current iteration=700, loss=0.23678319995907238\n",
      "Current iteration=800, loss=0.23670827223365332\n",
      "Current iteration=900, loss=0.2366432683018203\n",
      "loss=0.2365866409290753\n",
      "(261, 1)\n",
      "(82033, 261)\n",
      "(246099, 65)\n",
      "[[1]\n",
      " [0]\n",
      " [1]\n",
      " ...\n",
      " [0]\n",
      " [1]\n",
      " [0]] (246099, 1)\n",
      "on va auggmenter le data\n",
      "(246099, 261)\n",
      "(82033, 261)\n",
      "Current iteration=0, loss=0.6066918017401913\n",
      "Current iteration=100, loss=0.24320550265373886\n",
      "Current iteration=200, loss=0.2391959967461437\n",
      "Current iteration=300, loss=0.23839243951687691\n",
      "Current iteration=400, loss=0.23815191759358298\n",
      "Current iteration=500, loss=0.2380065200627373\n",
      "Current iteration=600, loss=0.23789741418611057\n",
      "Current iteration=700, loss=0.23780906781186603\n",
      "Current iteration=800, loss=0.23773477428000817\n",
      "Current iteration=900, loss=0.23767091201572113\n",
      "loss=0.23761572516662136\n",
      "(261, 1)\n",
      "(82033, 261)\n",
      "(246099, 65)\n",
      "[[1]\n",
      " [0]\n",
      " [1]\n",
      " ...\n",
      " [0]\n",
      " [0]\n",
      " [0]] (246099, 1)\n",
      "on va auggmenter le data\n",
      "(246099, 261)\n",
      "(82033, 261)\n",
      "Current iteration=0, loss=0.6066781169323513\n",
      "Current iteration=100, loss=0.24231224574862567\n",
      "Current iteration=200, loss=0.23847075756276184\n",
      "Current iteration=300, loss=0.23786404457088703\n",
      "Current iteration=400, loss=0.23763177551062512\n",
      "Current iteration=500, loss=0.23748582221629108\n",
      "Current iteration=600, loss=0.23737603972832252\n",
      "Current iteration=700, loss=0.2372866120882689\n",
      "Current iteration=800, loss=0.23721088459324743\n",
      "Current iteration=900, loss=0.23714533979519503\n",
      "loss=0.2370883321426239\n",
      "(261, 1)\n",
      "(82033, 261)\n",
      "(246099, 65)\n",
      "[[0]\n",
      " [1]\n",
      " [0]\n",
      " ...\n",
      " [0]\n",
      " [1]\n",
      " [0]] (246099, 1)\n",
      "on va auggmenter le data\n",
      "(246099, 326)\n",
      "(82033, 326)\n",
      "Current iteration=0, loss=0.6160815304850422\n",
      "Current iteration=100, loss=0.24389405830057173\n",
      "Current iteration=200, loss=0.24170140448615887\n",
      "Current iteration=300, loss=0.24120430402285012\n",
      "Current iteration=400, loss=0.24097616269506802\n",
      "Current iteration=500, loss=0.2408294591737368\n",
      "Current iteration=600, loss=0.24071980216839606\n",
      "Current iteration=700, loss=0.24063192422035676\n",
      "Current iteration=800, loss=0.24055885610868952\n",
      "Current iteration=900, loss=0.2404966978184482\n"
     ]
    },
    {
     "name": "stdout",
     "output_type": "stream",
     "text": [
      "loss=0.2456469378717906\n",
      "(326, 1)\n",
      "(82033, 326)\n",
      "(246099, 65)\n",
      "[[1]\n",
      " [0]\n",
      " [1]\n",
      " ...\n",
      " [0]\n",
      " [1]\n",
      " [0]] (246099, 1)\n",
      "on va auggmenter le data\n",
      "(246099, 326)\n",
      "(82033, 326)\n",
      "Current iteration=0, loss=0.6160010015839307\n",
      "Current iteration=100, loss=0.24331247924509683\n",
      "Current iteration=200, loss=0.24108998922495803\n",
      "Current iteration=300, loss=0.24058398369389122\n",
      "Current iteration=400, loss=0.2403524811312662\n",
      "Current iteration=500, loss=0.24020337602958217\n",
      "Current iteration=600, loss=0.24009137784306844\n",
      "Current iteration=700, loss=0.2400010685442561\n",
      "Current iteration=800, loss=0.23992549796426157\n",
      "Current iteration=900, loss=0.23986081684217456\n",
      "loss=0.24486198897849082\n",
      "(326, 1)\n",
      "(82033, 326)\n",
      "(246099, 65)\n",
      "[[1]\n",
      " [0]\n",
      " [1]\n",
      " ...\n",
      " [0]\n",
      " [1]\n",
      " [0]] (246099, 1)\n",
      "on va auggmenter le data\n",
      "(246099, 326)\n",
      "(82033, 326)\n",
      "Current iteration=0, loss=0.6160508901420431\n",
      "Current iteration=100, loss=0.2444284548423153\n",
      "Current iteration=200, loss=0.2422145817336045\n",
      "Current iteration=300, loss=0.24170659684254656\n",
      "Current iteration=400, loss=0.24147350685966942\n",
      "Current iteration=500, loss=0.2413251881114785\n",
      "Current iteration=600, loss=0.24121548725903602\n",
      "Current iteration=700, loss=0.24112828318932383\n",
      "Current iteration=800, loss=0.2410562163516469\n",
      "Current iteration=900, loss=0.24099520528602195\n",
      "loss=0.2461933597107624\n",
      "(326, 1)\n",
      "(82033, 326)\n",
      "(246099, 65)\n",
      "[[1]\n",
      " [0]\n",
      " [1]\n",
      " ...\n",
      " [0]\n",
      " [0]\n",
      " [0]] (246099, 1)\n",
      "on va auggmenter le data\n",
      "(246099, 326)\n",
      "(82033, 326)\n",
      "Current iteration=0, loss=0.6161435013613472\n",
      "Current iteration=100, loss=0.25131959120407904\n",
      "Current iteration=200, loss=0.24713031147074488\n",
      "Current iteration=300, loss=0.2460799989162624\n",
      "Current iteration=400, loss=0.24565004320498096\n",
      "Current iteration=500, loss=0.2454190245391787\n",
      "Current iteration=600, loss=0.24527004321476162\n",
      "Current iteration=700, loss=0.24516170255950587\n",
      "Current iteration=800, loss=0.2450767130876434\n",
      "Current iteration=900, loss=0.24500680597580296\n",
      "loss=0.24021524040681466\n",
      "(326, 1)\n",
      "(82033, 326)\n",
      "(246099, 65)\n",
      "[[0]\n",
      " [1]\n",
      " [0]\n",
      " ...\n",
      " [0]\n",
      " [1]\n",
      " [0]] (246099, 1)\n",
      "on va auggmenter le data\n",
      "(246099, 391)\n",
      "(82033, 391)\n",
      "Current iteration=0, loss=0.629138817214484\n",
      "Current iteration=100, loss=0.24316232091135237\n",
      "Current iteration=200, loss=0.24554429314935436\n",
      "Current iteration=300, loss=0.24431485638964087\n",
      "Current iteration=400, loss=0.24428828659323684\n",
      "Current iteration=500, loss=0.24420789346681232\n",
      "Current iteration=600, loss=0.24412600401304088\n",
      "Current iteration=700, loss=0.24405052460448615\n",
      "Current iteration=800, loss=0.2439833413334223\n",
      "Current iteration=900, loss=0.24392410289490893\n",
      "loss=0.24008865467844753\n",
      "(391, 1)\n",
      "(82033, 391)\n",
      "(246099, 65)\n",
      "[[1]\n",
      " [0]\n",
      " [1]\n",
      " ...\n",
      " [0]\n",
      " [1]\n",
      " [0]] (246099, 1)\n",
      "on va auggmenter le data\n",
      "(246099, 391)\n",
      "(82033, 391)\n",
      "Current iteration=0, loss=0.6290271451482649\n",
      "Current iteration=100, loss=0.24997315024169975\n",
      "Current iteration=200, loss=0.24308514732192887\n",
      "Current iteration=300, loss=0.24380140136913822\n",
      "Current iteration=400, loss=0.24372927148302184\n",
      "Current iteration=500, loss=0.24364711907960998\n",
      "Current iteration=600, loss=0.2435618969821118\n",
      "Current iteration=700, loss=0.24348253594947303\n",
      "Current iteration=800, loss=0.2434114002935111\n",
      "Current iteration=900, loss=0.24334836470554902\n",
      "loss=0.2395253856183207\n",
      "(391, 1)\n",
      "(82033, 391)\n",
      "(246099, 65)\n",
      "[[1]\n",
      " [0]\n",
      " [1]\n",
      " ...\n",
      " [0]\n",
      " [1]\n",
      " [0]] (246099, 1)\n",
      "on va auggmenter le data\n",
      "(246099, 391)\n",
      "(82033, 391)\n",
      "Current iteration=0, loss=0.6290281605444663\n",
      "Current iteration=100, loss=0.2490257620155882\n",
      "Current iteration=200, loss=0.24413915867488956\n",
      "Current iteration=300, loss=0.24490091065179415\n",
      "Current iteration=400, loss=0.24481983677623825\n",
      "Current iteration=500, loss=0.24474374531041954\n",
      "Current iteration=600, loss=0.24466665335443988\n",
      "Current iteration=700, loss=0.24459572396039975\n",
      "Current iteration=800, loss=0.24453263550753246\n",
      "Current iteration=900, loss=0.24447703824906689\n",
      "loss=0.24063001955348032\n",
      "(391, 1)\n",
      "(82033, 391)\n",
      "(246099, 65)\n",
      "[[1]\n",
      " [0]\n",
      " [1]\n",
      " ...\n",
      " [0]\n",
      " [0]\n",
      " [0]] (246099, 1)\n",
      "on va auggmenter le data\n",
      "(246099, 391)\n",
      "(82033, 391)\n",
      "Current iteration=0, loss=0.629269994479423\n",
      "Current iteration=100, loss=0.247639911587246\n",
      "Current iteration=200, loss=0.2463690239862539\n",
      "Current iteration=300, loss=0.24577019733174008\n",
      "Current iteration=400, loss=0.2454896875462114\n",
      "Current iteration=500, loss=0.2453173326795431\n",
      "Current iteration=600, loss=0.24519459045419978\n",
      "Current iteration=700, loss=0.24509953628617723\n",
      "Current iteration=800, loss=0.24502218573855045\n",
      "Current iteration=900, loss=0.24495725125801598\n",
      "loss=0.24441178361308372\n",
      "(391, 1)\n",
      "(82033, 391)\n",
      "on y est presque\n"
     ]
    }
   ],
   "source": [
    "best_lambda, best_f1, f1_score = cross_validation_demo(np.array([1,2,3,4,5]).astype(int), 4, 0)"
   ]
  },
  {
   "cell_type": "code",
   "execution_count": 38,
   "metadata": {},
   "outputs": [
    {
     "data": {
      "text/plain": [
       "[0.03133278875903502,\n",
       " 0.0969554944715395,\n",
       " 0.10127011100936746,\n",
       " 0.13156706820136763,\n",
       " 0.08083069575188771]"
      ]
     },
     "execution_count": 38,
     "metadata": {},
     "output_type": "execute_result"
    }
   ],
   "source": [
    "f1_score"
   ]
  },
  {
   "cell_type": "code",
   "execution_count": 37,
   "metadata": {},
   "outputs": [
    {
     "data": {
      "text/plain": [
       "4"
      ]
     },
     "execution_count": 37,
     "metadata": {},
     "output_type": "execute_result"
    }
   ],
   "source": [
    "best_lambda"
   ]
  },
  {
   "cell_type": "markdown",
   "metadata": {},
   "source": []
  },
  {
   "cell_type": "code",
   "execution_count": null,
   "metadata": {},
   "outputs": [],
   "source": []
  },
  {
   "cell_type": "code",
   "execution_count": 41,
   "metadata": {},
   "outputs": [],
   "source": [
    "augmented_data=feature_expansion(data_train_filtered_2, 4)"
   ]
  },
  {
   "cell_type": "markdown",
   "metadata": {},
   "source": [
    "## Training"
   ]
  },
  {
   "cell_type": "code",
   "execution_count": 42,
   "metadata": {},
   "outputs": [],
   "source": [
    "# standardization of the data\n",
    "def standardize(data):\n",
    "    small_value=1*10**(-9)\n",
    "    mean=np.mean(data, axis=0)\n",
    "    std=np.std(data, axis=0)+small_value\n",
    "    return((data - mean) / (std))"
   ]
  },
  {
   "cell_type": "code",
   "execution_count": 40,
   "metadata": {},
   "outputs": [
    {
     "ename": "NameError",
     "evalue": "name 'data_train_filtered' is not defined",
     "output_type": "error",
     "traceback": [
      "\u001b[1;31m---------------------------------------------------------------------------\u001b[0m",
      "\u001b[1;31mNameError\u001b[0m                                 Traceback (most recent call last)",
      "Cell \u001b[1;32mIn[40], line 1\u001b[0m\n\u001b[1;32m----> 1\u001b[0m data_train_filtered\n",
      "\u001b[1;31mNameError\u001b[0m: name 'data_train_filtered' is not defined"
     ]
    }
   ],
   "source": [
    "data_train_filtered"
   ]
  },
  {
   "cell_type": "code",
   "execution_count": 43,
   "metadata": {},
   "outputs": [],
   "source": [
    "data_standardized = standardize(augmented_data)"
   ]
  },
  {
   "cell_type": "code",
   "execution_count": 44,
   "metadata": {},
   "outputs": [
    {
     "data": {
      "text/plain": [
       "(328135, 325)"
      ]
     },
     "execution_count": 44,
     "metadata": {},
     "output_type": "execute_result"
    }
   ],
   "source": [
    "data_standardized.shape"
   ]
  },
  {
   "cell_type": "code",
   "execution_count": 187,
   "metadata": {},
   "outputs": [],
   "source": [
    "#split the test set in two\n",
    "\n",
    "\n",
    "def split_data(x, y, ratio, seed=1):\n",
    "    \"\"\"\n",
    "    split the dataset based on the split ratio. If ratio is 0.8\n",
    "    you will have 80% of your data set dedicated to training\n",
    "    and the rest dedicated to testing. If ratio times the number of samples is not round\n",
    "    you can use np.floor. Also check the documentation for np.random.permutation,\n",
    "    it could be useful.\n",
    "\n",
    "    Args:\n",
    "        x: numpy array of shape (N,), N is the number of samples.\n",
    "        y: numpy array of shape (N,).\n",
    "        ratio: scalar in [0,1]\n",
    "        seed: integer.\n",
    "\n",
    "    Returns:\n",
    "        x_tr: numpy array containing the train data.\n",
    "        x_te: numpy array containing the test data.\n",
    "        y_tr: numpy array containing the train labels.\n",
    "        y_te: numpy array containing the test labels.\n",
    "    \"\"\"\n",
    "    N=int(ratio*len(x))\n",
    "    # set seed\n",
    "    np.random.seed(seed)\n",
    "    # split the data based on the given ratio: \n",
    "    shuffled_data=np.random.permutation(x)\n",
    "    #print(shuffled_data)\n",
    "    np.random.seed(seed)\n",
    "    shuffled_labels=np.random.permutation(y)\n",
    "    #print(shuffled_labels)\n",
    "    x_tr=shuffled_data[:N] #train data\n",
    "    x_te=shuffled_data[N:] #test data\n",
    "    y_tr=shuffled_labels[:N]#train labels\n",
    "    y_te=shuffled_labels[N:]# test labels\n",
    "\n",
    "    return(x_tr,x_te, y_tr, y_te)"
   ]
  },
  {
   "cell_type": "code",
   "execution_count": 188,
   "metadata": {},
   "outputs": [],
   "source": [
    "x_tr,x_te, y_tr, y_te=split_data(data_standardized, y_train, ratio=0.8)\n"
   ]
  },
  {
   "cell_type": "code",
   "execution_count": 189,
   "metadata": {},
   "outputs": [
    {
     "name": "stdout",
     "output_type": "stream",
     "text": [
      "(262508, 1) (262508, 276)\n"
     ]
    }
   ],
   "source": [
    "print(y_tr.shape, x_tr.shape)"
   ]
  },
  {
   "cell_type": "code",
   "execution_count": 55,
   "metadata": {},
   "outputs": [],
   "source": [
    "y_train=np.expand_dims(y_train, 1)"
   ]
  },
  {
   "cell_type": "code",
   "execution_count": 56,
   "metadata": {},
   "outputs": [],
   "source": [
    "#y_train.shape"
   ]
  },
  {
   "cell_type": "code",
   "execution_count": 57,
   "metadata": {},
   "outputs": [],
   "source": [
    "# Binary classification using logistic regression\n",
    "\n",
    "max_iters = 5000\n",
    "gamma = 0.5\n",
    "\n",
    " # build tx\n",
    "tx_tr = np.c_[np.ones((y_train.shape[0], 1)), data_standardized]\n",
    "initial_w=np.zeros((tx_tr.shape[1], 1))\n"
   ]
  },
  {
   "cell_type": "code",
   "execution_count": 58,
   "metadata": {},
   "outputs": [],
   "source": [
    "y_train = np.where(y_train == -1, 0, y_train)"
   ]
  },
  {
   "cell_type": "code",
   "execution_count": 59,
   "metadata": {},
   "outputs": [
    {
     "data": {
      "text/plain": [
       "(328135, 1)"
      ]
     },
     "execution_count": 59,
     "metadata": {},
     "output_type": "execute_result"
    }
   ],
   "source": [
    "y_train.shape"
   ]
  },
  {
   "cell_type": "code",
   "execution_count": 60,
   "metadata": {},
   "outputs": [],
   "source": [
    "#grad=calculate_log_likelihood_gradient(y_train,tx_tr,initial_w)\n"
   ]
  },
  {
   "cell_type": "code",
   "execution_count": 61,
   "metadata": {},
   "outputs": [],
   "source": [
    "# w=initial_w-gamma*grad\n",
    "# print(np.min(w), np.max(w))"
   ]
  },
  {
   "cell_type": "code",
   "execution_count": 62,
   "metadata": {},
   "outputs": [],
   "source": [
    "# loss=calculate_log_likelihood_loss(y_train,tx_tr,initial_w)\n",
    "# print(loss)"
   ]
  },
  {
   "cell_type": "code",
   "execution_count": 64,
   "metadata": {},
   "outputs": [
    {
     "name": "stdout",
     "output_type": "stream",
     "text": [
      "Current iteration=0, loss=0.6160716356978916\n",
      "Current iteration=100, loss=0.24387140039725128\n",
      "Current iteration=200, loss=0.24166921447641773\n",
      "Current iteration=300, loss=0.2411635671984961\n",
      "Current iteration=400, loss=0.24093252425720585\n",
      "Current iteration=500, loss=0.24078481285726935\n",
      "Current iteration=600, loss=0.24067477159377584\n",
      "Current iteration=700, loss=0.24058669349151837\n",
      "Current iteration=800, loss=0.24051346093505038\n",
      "Current iteration=900, loss=0.24045112859956683\n",
      "Current iteration=1000, loss=0.24039719621012348\n",
      "Current iteration=1100, loss=0.2403499411441481\n",
      "Current iteration=1200, loss=0.24030811272553176\n",
      "Current iteration=1300, loss=0.2402707708620497\n",
      "Current iteration=1400, loss=0.24023719117153403\n",
      "Current iteration=1500, loss=0.24020680472120326\n",
      "Current iteration=1600, loss=0.24017915761426312\n",
      "Current iteration=1700, loss=0.24015388281664168\n",
      "Current iteration=1800, loss=0.2401306799514313\n",
      "Current iteration=1900, loss=0.2401093004926852\n",
      "Current iteration=2000, loss=0.24008953673063296\n",
      "Current iteration=2100, loss=0.2400712134330828\n",
      "Current iteration=2200, loss=0.24005418146969942\n",
      "Current iteration=2300, loss=0.2400383128863387\n",
      "Current iteration=2400, loss=0.24002349706366113\n",
      "Current iteration=2500, loss=0.24000963769495717\n",
      "Current iteration=2600, loss=0.23999665038861132\n",
      "Current iteration=2700, loss=0.23998446075081503\n",
      "Current iteration=2800, loss=0.23997300284038336\n",
      "Current iteration=2900, loss=0.2399622179140031\n",
      "Current iteration=3000, loss=0.2399520533997693\n",
      "Current iteration=3100, loss=0.23994246205140152\n",
      "Current iteration=3200, loss=0.23993340124641752\n",
      "Current iteration=3300, loss=0.2399248323997694\n",
      "Current iteration=3400, loss=0.2399167204706875\n",
      "Current iteration=3500, loss=0.23990903354525417\n",
      "Current iteration=3600, loss=0.23990174248089344\n",
      "Current iteration=3700, loss=0.23989482060179904\n",
      "Current iteration=3800, loss=0.23988824343652967\n",
      "Current iteration=3900, loss=0.23988198849071585\n",
      "Current iteration=4000, loss=0.23987603504917665\n",
      "Current iteration=4100, loss=0.23987036400281414\n",
      "Current iteration=4200, loss=0.23986495769649513\n",
      "Current iteration=4300, loss=0.23985979979480848\n",
      "Current iteration=4400, loss=0.23985487516312476\n",
      "Current iteration=4500, loss=0.23985016976182172\n",
      "Current iteration=4600, loss=0.23984567055189374\n",
      "Current iteration=4700, loss=0.23984136541044374\n",
      "Current iteration=4800, loss=0.23983724305479964\n",
      "Current iteration=4900, loss=0.23983329297418157\n",
      "loss=0.24488639020372494\n"
     ]
    }
   ],
   "source": [
    "w,loss= logistic_regression(y_train, tx_tr, initial_w, max_iters, gamma=0.5)"
   ]
  },
  {
   "cell_type": "code",
   "execution_count": 68,
   "metadata": {},
   "outputs": [],
   "source": [
    "#w,loss= logistic_regression(y_train, tx_tr, initial_w, max_iters, gamma=0.5)"
   ]
  },
  {
   "cell_type": "code",
   "execution_count": 67,
   "metadata": {},
   "outputs": [],
   "source": [
    "#w,loss= logistic_regression(y_train, tx_tr, initial_w, max_iters, gamma=0.5)"
   ]
  },
  {
   "cell_type": "code",
   "execution_count": 65,
   "metadata": {},
   "outputs": [
    {
     "ename": "NameError",
     "evalue": "name 'y_tr' is not defined",
     "output_type": "error",
     "traceback": [
      "\u001b[1;31m---------------------------------------------------------------------------\u001b[0m",
      "\u001b[1;31mNameError\u001b[0m                                 Traceback (most recent call last)",
      "Cell \u001b[1;32mIn[65], line 2\u001b[0m\n\u001b[0;32m      1\u001b[0m lambda_ \u001b[38;5;241m=\u001b[39m \u001b[38;5;241m0.0005\u001b[39m\n\u001b[1;32m----> 2\u001b[0m w_reg,loss_reg\u001b[38;5;241m=\u001b[39m reg_logistic_regression(y_tr, tx_tr, lambda_, initial_w, max_iters, gamma)\n",
      "\u001b[1;31mNameError\u001b[0m: name 'y_tr' is not defined"
     ]
    }
   ],
   "source": [
    "lambda_ = 0.0005\n",
    "w_reg,loss_reg= reg_logistic_regression(y_tr, tx_tr, lambda_, initial_w, max_iters, gamma)"
   ]
  },
  {
   "cell_type": "code",
   "execution_count": 66,
   "metadata": {},
   "outputs": [
    {
     "ename": "NameError",
     "evalue": "name 'w_reg' is not defined",
     "output_type": "error",
     "traceback": [
      "\u001b[1;31m---------------------------------------------------------------------------\u001b[0m",
      "\u001b[1;31mNameError\u001b[0m                                 Traceback (most recent call last)",
      "Cell \u001b[1;32mIn[66], line 1\u001b[0m\n\u001b[1;32m----> 1\u001b[0m w_reg\u001b[38;5;241m.\u001b[39mshape\n",
      "\u001b[1;31mNameError\u001b[0m: name 'w_reg' is not defined"
     ]
    }
   ],
   "source": [
    "w_reg.shape"
   ]
  },
  {
   "cell_type": "markdown",
   "metadata": {},
   "source": [
    "## Feature expansion"
   ]
  },
  {
   "cell_type": "code",
   "execution_count": 50,
   "metadata": {},
   "outputs": [
    {
     "ename": "NameError",
     "evalue": "name 'build_poly' is not defined",
     "output_type": "error",
     "traceback": [
      "\u001b[1;31m---------------------------------------------------------------------------\u001b[0m",
      "\u001b[1;31mNameError\u001b[0m                                 Traceback (most recent call last)",
      "Cell \u001b[1;32mIn[50], line 1\u001b[0m\n\u001b[1;32m----> 1\u001b[0m build_poly(x_train, \u001b[38;5;241m4\u001b[39m)\n",
      "\u001b[1;31mNameError\u001b[0m: name 'build_poly' is not defined"
     ]
    }
   ],
   "source": [
    "build_poly(x_train, 4)"
   ]
  },
  {
   "cell_type": "markdown",
   "metadata": {},
   "source": [
    "## Test and Accuracy"
   ]
  },
  {
   "cell_type": "code",
   "execution_count": 241,
   "metadata": {},
   "outputs": [],
   "source": [
    "\n",
    "tx_te=np.c_[np.ones((y_te.shape[0], 1)), x_te]"
   ]
  },
  {
   "cell_type": "code",
   "execution_count": 242,
   "metadata": {},
   "outputs": [
    {
     "data": {
      "text/plain": [
       "(65627, 277)"
      ]
     },
     "execution_count": 242,
     "metadata": {},
     "output_type": "execute_result"
    }
   ],
   "source": [
    "tx_te.shape"
   ]
  },
  {
   "cell_type": "code",
   "execution_count": 243,
   "metadata": {},
   "outputs": [
    {
     "data": {
      "text/plain": [
       "(277, 1)"
      ]
     },
     "execution_count": 243,
     "metadata": {},
     "output_type": "execute_result"
    }
   ],
   "source": [
    "w.shape"
   ]
  },
  {
   "cell_type": "code",
   "execution_count": 244,
   "metadata": {},
   "outputs": [],
   "source": [
    "y_te=np.where(y_te==-1, 0, y_te)"
   ]
  },
  {
   "cell_type": "code",
   "execution_count": 245,
   "metadata": {},
   "outputs": [],
   "source": [
    "y_pred=apply_model(tx_te, w)"
   ]
  },
  {
   "cell_type": "code",
   "execution_count": 246,
   "metadata": {},
   "outputs": [],
   "source": [
    "#Calculate accuracy\n",
    "correct_predictions = np.sum(y_pred == y_te)\n",
    "total_samples = len(y_te)\n",
    "accuracy = correct_predictions / total_samples"
   ]
  },
  {
   "cell_type": "code",
   "execution_count": 247,
   "metadata": {},
   "outputs": [
    {
     "data": {
      "text/plain": [
       "0.3508144616607072"
      ]
     },
     "execution_count": 247,
     "metadata": {},
     "output_type": "execute_result"
    }
   ],
   "source": [
    "compute_f1_score(y_te, y_pred)"
   ]
  },
  {
   "cell_type": "code",
   "execution_count": 248,
   "metadata": {},
   "outputs": [
    {
     "name": "stdout",
     "output_type": "stream",
     "text": [
      "0.8506102671156689\n"
     ]
    }
   ],
   "source": [
    "print(accuracy)"
   ]
  },
  {
   "cell_type": "markdown",
   "metadata": {},
   "source": [
    "## Test"
   ]
  },
  {
   "cell_type": "code",
   "execution_count": 69,
   "metadata": {},
   "outputs": [],
   "source": [
    "def apply_model(test, model):\n",
    "    pred=(sigmoid(test.dot(model))>=0.32).astype(int)\n",
    "    return(pred)"
   ]
  },
  {
   "cell_type": "code",
   "execution_count": 70,
   "metadata": {},
   "outputs": [],
   "source": [
    "xt=replace_nan_by_mean(x_test)"
   ]
  },
  {
   "cell_type": "code",
   "execution_count": 71,
   "metadata": {},
   "outputs": [
    {
     "data": {
      "text/plain": [
       "(109379, 321)"
      ]
     },
     "execution_count": 71,
     "metadata": {},
     "output_type": "execute_result"
    }
   ],
   "source": [
    "x_test.shape"
   ]
  },
  {
   "cell_type": "code",
   "execution_count": 72,
   "metadata": {},
   "outputs": [
    {
     "name": "stdout",
     "output_type": "stream",
     "text": [
      "65\n"
     ]
    }
   ],
   "source": [
    "xt_filtered = filtering_2(xt, test_data_path)"
   ]
  },
  {
   "cell_type": "code",
   "execution_count": 74,
   "metadata": {},
   "outputs": [
    {
     "data": {
      "text/plain": [
       "(109379, 65)"
      ]
     },
     "execution_count": 74,
     "metadata": {},
     "output_type": "execute_result"
    }
   ],
   "source": [
    "xt_filtered.shape"
   ]
  },
  {
   "cell_type": "code",
   "execution_count": 75,
   "metadata": {},
   "outputs": [],
   "source": [
    "augmented_data_test = feature_expansion(xt_filtered, 4)"
   ]
  },
  {
   "cell_type": "code",
   "execution_count": 80,
   "metadata": {},
   "outputs": [
    {
     "data": {
      "text/plain": [
       "(109379, 325)"
      ]
     },
     "execution_count": 80,
     "metadata": {},
     "output_type": "execute_result"
    }
   ],
   "source": [
    "augmented_data_test.shape"
   ]
  },
  {
   "cell_type": "code",
   "execution_count": 84,
   "metadata": {},
   "outputs": [],
   "source": [
    "xt_standardized = standardize(augmented_data_test)\n",
    "xtest = np.c_[np.ones((xt.shape[0], 1)), xt_standardized]"
   ]
  },
  {
   "cell_type": "code",
   "execution_count": 85,
   "metadata": {},
   "outputs": [
    {
     "data": {
      "text/plain": [
       "(109379, 326)"
      ]
     },
     "execution_count": 85,
     "metadata": {},
     "output_type": "execute_result"
    }
   ],
   "source": [
    "xtest.shape"
   ]
  },
  {
   "cell_type": "code",
   "execution_count": 86,
   "metadata": {},
   "outputs": [],
   "source": [
    "predictions = apply_model(xtest, w)\n",
    "predictions = np.where(predictions==0,-1, predictions)"
   ]
  },
  {
   "cell_type": "code",
   "execution_count": 87,
   "metadata": {},
   "outputs": [
    {
     "data": {
      "text/plain": [
       "array([[-1],\n",
       "       [-1],\n",
       "       [-1],\n",
       "       ...,\n",
       "       [-1],\n",
       "       [-1],\n",
       "       [-1]])"
      ]
     },
     "execution_count": 87,
     "metadata": {},
     "output_type": "execute_result"
    }
   ],
   "source": [
    "predictions\n"
   ]
  },
  {
   "cell_type": "code",
   "execution_count": 88,
   "metadata": {},
   "outputs": [],
   "source": [
    "create_csv_submission(test_ids, predictions, 'predictions_deg4.csv')"
   ]
  },
  {
   "cell_type": "code",
   "execution_count": null,
   "metadata": {},
   "outputs": [],
   "source": []
  }
 ],
 "metadata": {
  "kernelspec": {
   "display_name": "Python 3 (ipykernel)",
   "language": "python",
   "name": "python3"
  },
  "language_info": {
   "codemirror_mode": {
    "name": "ipython",
    "version": 3
   },
   "file_extension": ".py",
   "mimetype": "text/x-python",
   "name": "python",
   "nbconvert_exporter": "python",
   "pygments_lexer": "ipython3",
   "version": "3.11.5"
  }
 },
 "nbformat": 4,
 "nbformat_minor": 2
}
