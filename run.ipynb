{
 "cells": [
  {
   "cell_type": "code",
   "execution_count": 1,
   "metadata": {},
   "outputs": [],
   "source": [
    "from implementations import *\n",
    "from helpers import *\n",
    "import numpy as np\n",
    "import matplotlib.pyplot as plt"
   ]
  },
  {
   "attachments": {},
   "cell_type": "markdown",
   "metadata": {},
   "source": [
    "## Load the data ###"
   ]
  },
  {
   "cell_type": "code",
   "execution_count": 2,
   "metadata": {},
   "outputs": [],
   "source": [
    "data_path='./dataset_to_release/'\n",
    "train_data_path=\"./dataset_to_release/x_train.csv\"\n",
    "test_data_path=\"./dataset_to_release/x_test.csv\""
   ]
  },
  {
   "cell_type": "code",
   "execution_count": 3,
   "metadata": {},
   "outputs": [],
   "source": [
    "x_train, x_test, y_train, train_ids, test_ids=load_csv_data_all(data_path, sub_sample=False)"
   ]
  },
  {
   "attachments": {},
   "cell_type": "markdown",
   "metadata": {},
   "source": [
    "## Data Preprocessing"
   ]
  },
  {
   "cell_type": "code",
   "execution_count": 42,
   "metadata": {},
   "outputs": [],
   "source": [
    "# Handeling the missing values\n",
    "\n",
    "def replace_nan_by_mean(data):\n",
    "    ''' function that handels the missing values by replacing them with the column means'''\n",
    "    nan_indices = np.isnan(data)\n",
    "    column_means = np.nanmean(data, axis=0)\n",
    "    data[nan_indices] = np.take(column_means, np.where(nan_indices)[1])\n",
    "    return data\n",
    "\n",
    "\n",
    "data_train = replace_nan_by_mean(x_train)\n"
   ]
  },
  {
   "cell_type": "code",
   "execution_count": 5,
   "metadata": {},
   "outputs": [
    {
     "data": {
      "text/plain": [
       "(328135, 321)"
      ]
     },
     "execution_count": 5,
     "metadata": {},
     "output_type": "execute_result"
    }
   ],
   "source": [
    "x_train.shape"
   ]
  },
  {
   "cell_type": "code",
   "execution_count": 6,
   "metadata": {},
   "outputs": [
    {
     "data": {
      "text/plain": [
       "(328135, 321)"
      ]
     },
     "execution_count": 6,
     "metadata": {},
     "output_type": "execute_result"
    }
   ],
   "source": [
    "data_train.shape"
   ]
  },
  {
   "cell_type": "code",
   "execution_count": 7,
   "metadata": {},
   "outputs": [],
   "source": [
    "# Data filtering: we only keep relevant features\n",
    "\n",
    "def filtering(data, data_path):\n",
    "    columns = extract_first_line(data_path).split(',')\n",
    "    columns.pop(0)\n",
    "    columns_to_keep = []\n",
    "    for c in columns:\n",
    "        if c.startswith('_'):\n",
    "            columns_to_keep.append(c)\n",
    "    indices_to_keep = [columns.index(c) for c in columns_to_keep]\n",
    "    data_f = data[:, indices_to_keep]\n",
    "    return(data_f)"
   ]
  },
  {
   "cell_type": "code",
   "execution_count": 8,
   "metadata": {},
   "outputs": [],
   "source": [
    "features_to_keep = [\"_AGE80\", \"_AGE65YR\", \"_AGEG5YR\", \"_AGE_G\", \"_AIDTST3\", \"_ASTHMS1\", \"_BMI5\", \"_BMI5CAT\",\n",
    "                     \"_CASTHM1\", \"_CHLDCNT\", \"_CHOLCHK\", \"_DRDXAR1\", \"_DRNKWEK\", \"_DUALCOR\", \"_DUALUSE\"\n",
    "                     , \"_FLSHOT6\", \"_FRT16\", \"_FRTLT1\", \"_FRTRESP\", \"_FRUITEX\", \"_FRUTSUM\", \"_HCVU651\",\n",
    "                       \"_LLCPWT\", \"_LMTACT1\", \"_LMTSCL1\", \"_LMTWRK1\", \"_LTASTH1\", \"_MICHD\", \"_MINAC11\", \"_MINAC21\", \n",
    "                       \"_MISFRTN\", \"_MISVEGN\", \"_MRACE1\", \"_PA30021\", \"_PA150R2\", \"_PA300R2\", \"_PACAT1\", \"_PAINDX1\", \n",
    "                       \"_PASTAE1\", \"_PASTRNG\", \"_PNEUMO2\",\n",
    "                       \"_RFBING5\", \"_RFBMI5\", \"_RFCHOL\", \"_RFDRHV5\", \"_RFHLTH\", \"_RFHYPE5\", \"_RFSMOK3\", \n",
    "                       \"_SMOKER3\", \"_TOTINDA\", \"_VEG23\", \"_VEGESUM\", \"_VEGETEX\", \"_VEGLT1\", \"_VEGRESP\"]"
   ]
  },
  {
   "cell_type": "code",
   "execution_count": 9,
   "metadata": {},
   "outputs": [],
   "source": [
    "# Secode version of data filtering, remove 9 more columns\n",
    "def filtering_2(data,data_path):\n",
    "    columns = extract_first_line(data_path).split(',')\n",
    "    columns.pop(0)\n",
    "    filtered_columns = [col for col in columns if col in features_to_keep]\n",
    "    indices_to_keep = [columns.index(c) for c in filtered_columns]\n",
    "    print(len(indices_to_keep))\n",
    "\n",
    "    data_f = data[:, indices_to_keep]\n",
    "    return(data_f)"
   ]
  },
  {
   "cell_type": "code",
   "execution_count": 10,
   "metadata": {},
   "outputs": [
    {
     "name": "stdout",
     "output_type": "stream",
     "text": [
      "54\n"
     ]
    }
   ],
   "source": [
    "data_train_filtered_2=filtering_2(data_train, train_data_path)"
   ]
  },
  {
   "cell_type": "code",
   "execution_count": 11,
   "metadata": {},
   "outputs": [
    {
     "data": {
      "text/plain": [
       "(328135, 54)"
      ]
     },
     "execution_count": 11,
     "metadata": {},
     "output_type": "execute_result"
    }
   ],
   "source": [
    "data_train_filtered_2.shape\n"
   ]
  },
  {
   "cell_type": "code",
   "execution_count": 47,
   "metadata": {},
   "outputs": [],
   "source": [
    "# standardization of the data\n",
    "def standardize(data):\n",
    "    small_value=1*10**(-9)\n",
    "    mean=np.mean(data, axis=0)\n",
    "    std=np.std(data, axis=0)+small_value\n",
    "    return((data - mean) / (std))"
   ]
  },
  {
   "cell_type": "code",
   "execution_count": 13,
   "metadata": {},
   "outputs": [],
   "source": [
    "#data_train_standard=standardize(data_train_filtered)"
   ]
  },
  {
   "cell_type": "code",
   "execution_count": 14,
   "metadata": {},
   "outputs": [
    {
     "data": {
      "text/plain": [
       "299160"
      ]
     },
     "execution_count": 14,
     "metadata": {},
     "output_type": "execute_result"
    }
   ],
   "source": [
    "np.sum(y_train==-1)"
   ]
  },
  {
   "cell_type": "code",
   "execution_count": 48,
   "metadata": {},
   "outputs": [],
   "source": [
    "# feature augmentation\n",
    "def feature_expansion(data, degree):\n",
    "    augmented_features=[]\n",
    "    for i in range(data.shape[1]):\n",
    "        feature=data[:,i]\n",
    "        augmented_feature=build_poly(feature, degree)\n",
    "        augmented_features.append(augmented_feature)\n",
    "\n",
    "    # Stack the augmented features horizontally\n",
    "    augmented_data = np.hstack(augmented_features)\n",
    "    return(augmented_data)\n",
    "\n",
    "   "
   ]
  },
  {
   "attachments": {},
   "cell_type": "markdown",
   "metadata": {},
   "source": [
    "## Cross-Validation"
   ]
  },
  {
   "cell_type": "code",
   "execution_count": 49,
   "metadata": {},
   "outputs": [],
   "source": [
    "def compute_f1_score(true_labels, predicted_labels):\n",
    "    \"\"\"\n",
    "    Computes the F1 score for a classification model using NumPy.\n",
    "\n",
    "    Parameters:\n",
    "    true_labels (numpy.ndarray): True labels for the data.\n",
    "    predicted_labels (numpy.ndarray): Predicted labels from the model.\n",
    "\n",
    "    Returns:\n",
    "    f1 (float): The F1 score.\n",
    "    \"\"\"\n",
    "    true_positive = np.sum(np.logical_and(true_labels == 1, predicted_labels == 1))\n",
    "    false_positive = np.sum(np.logical_and(true_labels == 0, predicted_labels == 1))\n",
    "    false_negative = np.sum(np.logical_and(true_labels == 1, predicted_labels == 0))\n",
    "    \n",
    "    precision = true_positive / (true_positive + false_positive)\n",
    "    recall = true_positive / (true_positive + false_negative)\n",
    "    \n",
    "    f1 = 2 * (precision * recall) / (precision + recall) if (precision + recall) > 0 else 0\n",
    "    \n",
    "    return f1"
   ]
  },
  {
   "cell_type": "code",
   "execution_count": 50,
   "metadata": {},
   "outputs": [],
   "source": [
    "def build_k_indices(y, k_fold, seed):\n",
    "    \"\"\"build k indices for k-fold.\n",
    "\n",
    "    Args:\n",
    "        y:      shape=(N,)\n",
    "        k_fold: K in K-fold, i.e. the fold num\n",
    "        seed:   the random seed\n",
    "\n",
    "    Returns:\n",
    "        A 2D array of shape=(k_fold, N/k_fold) that indicates the data indices for each fold\n",
    "\n",
    "    \"\"\"\n",
    "    num_row = y.shape[0]\n",
    "    interval = int(num_row / k_fold)\n",
    "    np.random.seed(seed)\n",
    "    indices = np.random.permutation(num_row)\n",
    "    k_indices = [indices[k * interval : (k + 1) * interval] for k in range(k_fold)]\n",
    "    \n",
    "    return np.array(k_indices)"
   ]
  },
  {
   "cell_type": "code",
   "execution_count": 57,
   "metadata": {},
   "outputs": [],
   "source": [
    "def apply_model(test, model):\n",
    "    pred=(sigmoid(test.dot(model))>=0.6).astype(int)\n",
    "    return(pred)\n",
    "    "
   ]
  },
  {
   "cell_type": "code",
   "execution_count": 58,
   "metadata": {},
   "outputs": [],
   "source": [
    "def cross_validation(y, x, k_indices, k, lambda_, degree):\n",
    "    \"\"\"return the loss of ridge regression for a fold corresponding to k_indices\n",
    "\n",
    "    Args:\n",
    "        y:          shape=(N,)\n",
    "        x:          shape=(N,)\n",
    "        k_indices:  2D array returned by build_k_indices()\n",
    "        k:          scalar, the k-th fold (N.B.: not to confused with k_fold which is the fold nums)\n",
    "        lambda_:    scalar, cf. ridge_regression()\n",
    "        degree:     scalar, cf. build_poly()\n",
    "\n",
    "    Returns:\n",
    "        train and test root mean square errors rmse = sqrt(2 mse)\n",
    "\n",
    "    \"\"\"\n",
    "\n",
    "    # ***************************************************\n",
    "    # get k'th subgroup in test, others in train:\n",
    "    train_idx=np.reshape(k_indices[[i for i in range(len(k_indices)) if i!=k]], -1)\n",
    "    test_idx=k_indices[k]\n",
    "\n",
    "    x_train=x[train_idx,:]\n",
    "    print(x_train.shape)\n",
    "    y_train=y[train_idx]\n",
    "    x_test=x[test_idx,:]\n",
    "    y_test=y[test_idx]\n",
    "    \n",
    "    y_tr=np.expand_dims(y_train, 1)\n",
    "    y_te=np.expand_dims(y_test, 1)\n",
    "\n",
    "    y_tr=np.where(y_tr == -1, 0, y_tr)\n",
    "    print(y_tr, y_tr.shape)\n",
    "    y_te=np.where(y_te == -1, 0, y_te)\n",
    "\n",
    "    max_iters = 1000\n",
    "    gamma=0.5\n",
    "\n",
    "    # ***************************************************\n",
    "    # form data with polynomial degree: \n",
    "    print('on va auggmenter le data')\n",
    "    train_data=feature_expansion(x_train, degree)\n",
    "    test_data=feature_expansion(x_test, degree)\n",
    "    train_data=standardize(train_data)\n",
    "    test_data=standardize(test_data)\n",
    "    # ***************************************************\n",
    "     # build tx\n",
    "    tx_tr = np.c_[np.ones((y_train.shape[0], 1)), train_data]\n",
    "    tx_te = np.c_[np.ones((test_data.shape[0], 1)), test_data]\n",
    "    print(tx_tr.shape)\n",
    "    print(tx_te.shape)\n",
    "    initial_w=np.zeros((tx_tr.shape[1], 1))\n",
    "\n",
    "    # reg logistic regression: \n",
    "    w=reg_logistic_regression(y_tr,tx_tr,lambda_,initial_w, max_iters, gamma)[0]\n",
    "    print(w.shape)\n",
    "    print(tx_te.shape)\n",
    "    y_pred=apply_model(tx_te, w)\n",
    "    # calculate f1 score on test:\n",
    "    f1_te=compute_f1_score(y_te, y_pred)\n",
    "  \n",
    "    return f1_te"
   ]
  },
  {
   "cell_type": "code",
   "execution_count": 59,
   "metadata": {},
   "outputs": [],
   "source": [
    "def cross_validation_demo(degree, k_fold, lambdas):\n",
    "    \"\"\"cross validation over regularisation parameter lambda.\n",
    "\n",
    "    Args:\n",
    "        degree: integer, degree of the polynomial expansion\n",
    "        k_fold: integer, the number of folds\n",
    "        lambdas: shape = (p, ) where p is the number of values of lambda to test\n",
    "    Returns:\n",
    "        best_lambda : scalar, value of the best lambda\n",
    "        best_rmse : scalar, the associated root mean squared error for the best lambda\n",
    "    \"\"\"\n",
    "\n",
    "    seed = 12\n",
    "    #degree = degree\n",
    "    k_fold = k_fold\n",
    "    # split data in k fold\n",
    "    k_indices = build_k_indices(y_train, k_fold, seed)\n",
    "    # define lists to store the loss of training data and test data\n",
    "    f1_score=np.zeros((len(degree), len(lambdas)))\n",
    "    # cross validation over lambdas:\n",
    "    for i in range(len(degree)):\n",
    "        d=degree[i]\n",
    "        for j in range(len(lambdas)):\n",
    "            lambda_=lambdas[j]\n",
    "            cross_val=[cross_validation(y_train, transformed_data, k_indices, k, lambda_, d) for k in range(k_fold)]\n",
    "            f1=np.mean(cross_val)\n",
    "            f1_score[i,j]=f1\n",
    "    print('on y est presque')\n",
    "    best_degree=degree[np.unravel_index(np.argmax(f1_score, axis=None), f1_score.shape)[0]]\n",
    "    best_lambda=lambdas[np.unravel_index(np.argmax(f1_score, axis=None), f1_score.shape)[1]]\n",
    "    best_f1=np.max(f1_score)\n",
    "    # print(\n",
    "    #     \"For polynomial expansion up to degree %.f, the choice of lambda which leads to the best test rmse is %.5f with a test rmse of %.3f\"\n",
    "    #     % (degree, best_lambda, f1_score)\n",
    "    # )\n",
    "    return best_degree, best_f1 , best_lambda , f1_score"
   ]
  },
  {
   "cell_type": "code",
   "execution_count": 60,
   "metadata": {},
   "outputs": [
    {
     "data": {
      "text/plain": [
       "(328135,)"
      ]
     },
     "execution_count": 60,
     "metadata": {},
     "output_type": "execute_result"
    }
   ],
   "source": [
    "y_train.shape"
   ]
  },
  {
   "cell_type": "code",
   "execution_count": 63,
   "metadata": {},
   "outputs": [
    {
     "name": "stdout",
     "output_type": "stream",
     "text": [
      "(164067, 10)\n",
      "[[0]\n",
      " [0]\n",
      " [0]\n",
      " ...\n",
      " [0]\n",
      " [0]\n",
      " [0]] (164067, 1)\n",
      "on va auggmenter le data\n",
      "(164067, 31)\n",
      "(164067, 31)\n",
      "Current iteration=0, loss=0.6130679430445539\n",
      "Current iteration=100, loss=0.2922919076002139\n",
      "Current iteration=200, loss=0.29182737632815947\n",
      "Current iteration=300, loss=0.29160494557911104\n",
      "Current iteration=400, loss=0.29146269176436945\n",
      "Current iteration=500, loss=0.29136471689950866\n",
      "Current iteration=600, loss=0.29129628325776274\n",
      "Current iteration=700, loss=0.2912481969723215\n",
      "Current iteration=800, loss=0.2912141390208778\n",
      "Current iteration=900, loss=0.2911897281641553\n",
      "loss=0.291172097334339\n",
      "(31, 1)\n",
      "(164067, 31)\n",
      "(164067, 10)\n",
      "[[1]\n",
      " [0]\n",
      " [1]\n",
      " ...\n",
      " [1]\n",
      " [0]\n",
      " [0]] (164067, 1)\n",
      "on va auggmenter le data\n",
      "(164067, 31)\n",
      "(164067, 31)\n",
      "Current iteration=0, loss=0.6135805043550066\n",
      "Current iteration=100, loss=0.2955131273792419\n",
      "Current iteration=200, loss=0.29514708924641897\n",
      "Current iteration=300, loss=0.29497023186263127\n",
      "Current iteration=400, loss=0.29485862867154655\n",
      "Current iteration=500, loss=0.2947823504660199\n",
      "Current iteration=600, loss=0.2947287971911392\n",
      "Current iteration=700, loss=0.29469081674315584\n",
      "Current iteration=800, loss=0.2946635900410308\n",
      "Current iteration=900, loss=0.2946437726378065\n",
      "loss=0.29462917753407847\n",
      "(31, 1)\n",
      "(164067, 31)\n",
      "on y est presque\n"
     ]
    },
    {
     "name": "stderr",
     "output_type": "stream",
     "text": [
      "/var/folders/v2/nz9bnyf5155f3f5s543g9fhw0000gp/T/ipykernel_47626/1091577108.py:16: RuntimeWarning: invalid value encountered in scalar divide\n",
      "  precision = true_positive / (true_positive + false_positive)\n"
     ]
    }
   ],
   "source": [
    "best_degree, best_f1 , best_lambda , f1_score= cross_validation_demo(np.array([2]).astype(int), 2, np.array([10e-6]))"
   ]
  },
  {
   "cell_type": "code",
   "execution_count": 64,
   "metadata": {},
   "outputs": [
    {
     "data": {
      "text/plain": [
       "array([[0.]])"
      ]
     },
     "execution_count": 64,
     "metadata": {},
     "output_type": "execute_result"
    }
   ],
   "source": [
    "f1_score"
   ]
  },
  {
   "cell_type": "code",
   "execution_count": 31,
   "metadata": {},
   "outputs": [
    {
     "data": {
      "text/plain": [
       "5"
      ]
     },
     "execution_count": 31,
     "metadata": {},
     "output_type": "execute_result"
    }
   ],
   "source": [
    "best_degree"
   ]
  },
  {
   "attachments": {},
   "cell_type": "markdown",
   "metadata": {},
   "source": []
  },
  {
   "cell_type": "code",
   "execution_count": 49,
   "metadata": {},
   "outputs": [],
   "source": [
    "augmented_data=feature_expansion(data_train_filtered_2, 5)"
   ]
  },
  {
   "attachments": {},
   "cell_type": "markdown",
   "metadata": {},
   "source": [
    "## Training"
   ]
  },
  {
   "cell_type": "code",
   "execution_count": 50,
   "metadata": {},
   "outputs": [],
   "source": [
    "# standardization of the data\n",
    "def standardize(data):\n",
    "    small_value=1*10**(-9)\n",
    "    mean=np.mean(data, axis=0)\n",
    "    std=np.std(data, axis=0)+small_value\n",
    "    return((data - mean) / (std))"
   ]
  },
  {
   "cell_type": "code",
   "execution_count": 51,
   "metadata": {},
   "outputs": [
    {
     "data": {
      "text/plain": [
       "array([[2.00000000e+00, 2.33947890e-01, 2.64741181e+02, ...,\n",
       "        2.28990981e+00, 2.40679360e+00, 2.00000000e+00],\n",
       "       [1.00000000e+00, 7.86571559e-01, 1.60771560e+02, ...,\n",
       "        2.28990981e+00, 2.40679360e+00, 1.96667511e+00],\n",
       "       [1.00000000e+00, 6.69767282e-01, 5.45089648e+01, ...,\n",
       "        1.00000000e+00, 2.00000000e+00, 2.00000000e+00],\n",
       "       ...,\n",
       "       [1.00000000e+00, 8.07906242e-01, 2.29846589e+02, ...,\n",
       "        2.00000000e+00, 2.00000000e+00, 2.00000000e+00],\n",
       "       [1.00000000e+00, 7.86571559e-01, 6.42063508e+02, ...,\n",
       "        2.28990981e+00, 2.40679360e+00, 2.00000000e+00],\n",
       "       [1.00000000e+00, 7.79554120e-01, 6.84571965e+02, ...,\n",
       "        2.28990981e+00, 2.40679360e+00, 2.00000000e+00]])"
      ]
     },
     "execution_count": 51,
     "metadata": {},
     "output_type": "execute_result"
    }
   ],
   "source": [
    "data_train_filtered_2"
   ]
  },
  {
   "cell_type": "code",
   "execution_count": 52,
   "metadata": {},
   "outputs": [],
   "source": [
    "data_standardized = standardize(augmented_data)"
   ]
  },
  {
   "cell_type": "code",
   "execution_count": 53,
   "metadata": {},
   "outputs": [
    {
     "data": {
      "text/plain": [
       "(328135, 390)"
      ]
     },
     "execution_count": 53,
     "metadata": {},
     "output_type": "execute_result"
    }
   ],
   "source": [
    "data_standardized.shape"
   ]
  },
  {
   "cell_type": "code",
   "execution_count": 187,
   "metadata": {},
   "outputs": [],
   "source": [
    "#split the test set in two\n",
    "\n",
    "\n",
    "def split_data(x, y, ratio, seed=1):\n",
    "    \"\"\"\n",
    "    split the dataset based on the split ratio. If ratio is 0.8\n",
    "    you will have 80% of your data set dedicated to training\n",
    "    and the rest dedicated to testing. If ratio times the number of samples is not round\n",
    "    you can use np.floor. Also check the documentation for np.random.permutation,\n",
    "    it could be useful.\n",
    "\n",
    "    Args:\n",
    "        x: numpy array of shape (N,), N is the number of samples.\n",
    "        y: numpy array of shape (N,).\n",
    "        ratio: scalar in [0,1]\n",
    "        seed: integer.\n",
    "\n",
    "    Returns:\n",
    "        x_tr: numpy array containing the train data.\n",
    "        x_te: numpy array containing the test data.\n",
    "        y_tr: numpy array containing the train labels.\n",
    "        y_te: numpy array containing the test labels.\n",
    "    \"\"\"\n",
    "    N=int(ratio*len(x))\n",
    "    # set seed\n",
    "    np.random.seed(seed)\n",
    "    # split the data based on the given ratio: \n",
    "    shuffled_data=np.random.permutation(x)\n",
    "    #print(shuffled_data)\n",
    "    np.random.seed(seed)\n",
    "    x_tr=shuffled_data[:N] #train data\n",
    "    x_te=shuffled_data[N:] #test data\n",
    "    y_tr=shuffled_labels[:N]#train labels\n",
    "    y_te=shuffled_labels[N:]# test labels\n",
    "\n",
    "    return(x_tr,x_te, y_tr, y_te)"
   ]
  },
  {
   "cell_type": "code",
   "execution_count": 188,
   "metadata": {},
   "outputs": [],
   "source": [
    "#x_tr,x_te, y_tr, y_te=split_data(data_standardized, y_train, ratio=0.8)\n"
   ]
  },
  {
   "cell_type": "code",
   "execution_count": 189,
   "metadata": {},
   "outputs": [
    {
     "name": "stdout",
     "output_type": "stream",
     "text": [
      "(262508, 1) (262508, 276)\n"
     ]
    }
   ],
   "source": [
    "#print(y_tr.shape, x_tr.shape)"
   ]
  },
  {
   "cell_type": "code",
   "execution_count": 54,
   "metadata": {},
   "outputs": [],
   "source": [
    "# Binary classification using logistic regression\n",
    "\n",
    "max_iters = 10000\n",
    "gamma = 0.5\n",
    "\n",
    " # build tx\n",
    "tx_tr = np.c_[np.ones((y_train.shape[0], 1)), data_standardized]\n",
    "initial_w=np.zeros((tx_tr.shape[1], 1))\n"
   ]
  },
  {
   "cell_type": "code",
   "execution_count": 55,
   "metadata": {},
   "outputs": [],
   "source": [
    "y_train=np.expand_dims(y_train, 1)"
   ]
  },
  {
   "cell_type": "code",
   "execution_count": 56,
   "metadata": {},
   "outputs": [],
   "source": [
    "y_train = np.where(y_train == -1, 0, y_train)"
   ]
  },
  {
   "cell_type": "code",
   "execution_count": 57,
   "metadata": {},
   "outputs": [
    {
     "data": {
      "text/plain": [
       "array([[0],\n",
       "       [0],\n",
       "       [0],\n",
       "       ...,\n",
       "       [0],\n",
       "       [0],\n",
       "       [0]])"
      ]
     },
     "execution_count": 57,
     "metadata": {},
     "output_type": "execute_result"
    }
   ],
   "source": [
    "y_train"
   ]
  },
  {
   "cell_type": "code",
   "execution_count": 58,
   "metadata": {},
   "outputs": [],
   "source": [
    "#grad=calculate_log_likelihood_gradient(y_train,tx_tr,initial_w)\n"
   ]
  },
  {
   "cell_type": "code",
   "execution_count": 59,
   "metadata": {},
   "outputs": [],
   "source": [
    "# w=initial_w-gamma*grad\n",
    "# print(np.min(w), np.max(w))"
   ]
  },
  {
   "cell_type": "code",
   "execution_count": 60,
   "metadata": {},
   "outputs": [],
   "source": [
    "# loss=calculate_log_likelihood_loss(y_train,tx_tr,initial_w)\n",
    "# print(loss)"
   ]
  },
  {
   "cell_type": "code",
   "execution_count": 51,
   "metadata": {},
   "outputs": [
    {
     "name": "stdout",
     "output_type": "stream",
     "text": [
      "Current iteration=0, loss=0.6031202976364645\n",
      "Current iteration=100, loss=0.25089900822091293\n",
      "Current iteration=200, loss=0.2493450970050573\n",
      "Current iteration=300, loss=0.24907393964639502\n",
      "Current iteration=400, loss=0.24899700173880504\n",
      "Current iteration=500, loss=0.2489649255881011\n",
      "Current iteration=600, loss=0.24894547909407405\n",
      "Current iteration=700, loss=0.24893055173685183\n",
      "Current iteration=800, loss=0.24891784580236967\n",
      "Current iteration=900, loss=0.24890658978100963\n",
      "Current iteration=1000, loss=0.24889644871724068\n",
      "Current iteration=1100, loss=0.24888723042330485\n",
      "Current iteration=1200, loss=0.24887880046189664\n",
      "Current iteration=1300, loss=0.2488710545193124\n",
      "Current iteration=1400, loss=0.2488639076156132\n",
      "Current iteration=1500, loss=0.2488572888184579\n",
      "Current iteration=1600, loss=0.24885113808194817\n",
      "Current iteration=1700, loss=0.2488454040905189\n",
      "Current iteration=1800, loss=0.24884004267391904\n",
      "Current iteration=1900, loss=0.24883501559122753\n",
      "Current iteration=2000, loss=0.24883028957284972\n",
      "Current iteration=2100, loss=0.24882583555166438\n",
      "Current iteration=2200, loss=0.24882162803723698\n",
      "Current iteration=2300, loss=0.24881764460068284\n",
      "Current iteration=2400, loss=0.24881386544660544\n",
      "Current iteration=2500, loss=0.24881027305453543\n",
      "Current iteration=2600, loss=0.24880685187651758\n",
      "Current iteration=2700, loss=0.24880358808052963\n",
      "Current iteration=2800, loss=0.24880046933165914\n",
      "Current iteration=2900, loss=0.24879748460463308\n",
      "Current iteration=3000, loss=0.24879462402256974\n",
      "Current iteration=3100, loss=0.2487918787177992\n",
      "Current iteration=3200, loss=0.2487892407113591\n",
      "Current iteration=3300, loss=0.2487867028083737\n",
      "Current iteration=3400, loss=0.24878425850699878\n",
      "Current iteration=3500, loss=0.2487819019189978\n",
      "Current iteration=3600, loss=0.2487796277003268\n",
      "Current iteration=3700, loss=0.24877743099035488\n",
      "Current iteration=3800, loss=0.2487753073585572\n",
      "Current iteration=3900, loss=0.24877325275768902\n",
      "Current iteration=4000, loss=0.24877126348259412\n",
      "Current iteration=4100, loss=0.24876933613391863\n",
      "Current iteration=4200, loss=0.2487674675861051\n",
      "Current iteration=4300, loss=0.24876565495912759\n",
      "Current iteration=4400, loss=0.24876389559349685\n",
      "Current iteration=4500, loss=0.248762187028136\n",
      "Current iteration=4600, loss=0.2487605269807697\n",
      "Current iteration=4700, loss=0.2487589133305237\n",
      "Current iteration=4800, loss=0.24875734410246741\n",
      "Current iteration=4900, loss=0.24875581745386693\n",
      "Current iteration=5000, loss=0.24875433166194333\n",
      "Current iteration=5100, loss=0.2487528851129621\n",
      "Current iteration=5200, loss=0.2487514762924936\n",
      "Current iteration=5300, loss=0.24875010377671133\n",
      "Current iteration=5400, loss=0.24874876622460654\n",
      "Current iteration=5500, loss=0.24874746237101392\n",
      "Current iteration=5600, loss=0.24874619102035636\n",
      "Current iteration=5700, loss=0.24874495104102778\n",
      "Current iteration=5800, loss=0.2487437413603401\n",
      "Current iteration=5900, loss=0.24874256095997416\n",
      "Current iteration=6000, loss=0.24874140887187685\n",
      "Current iteration=6100, loss=0.24874028417455613\n",
      "Current iteration=6200, loss=0.24873918598972955\n",
      "Current iteration=6300, loss=0.24873811347928992\n",
      "Current iteration=6400, loss=0.24873706584255115\n",
      "Current iteration=6500, loss=0.2487360423137467\n",
      "loss=0.24873551936160995\n"
     ]
    }
   ],
   "source": [
    "w,loss= logistic_regression(y_train, tx_tr, initial_w, max_iters, gamma=0.5)"
   ]
  },
  {
   "cell_type": "code",
   "execution_count": 61,
   "metadata": {},
   "outputs": [
    {
     "name": "stdout",
     "output_type": "stream",
     "text": [
      "Current iteration=0, loss=0.6291172121345341\n",
      "Current iteration=100, loss=0.24737708402551115\n",
      "Current iteration=200, loss=0.24337991538293094\n",
      "Current iteration=300, loss=0.24779171148463944\n",
      "Current iteration=400, loss=0.24213046423714568\n",
      "Current iteration=500, loss=0.2491880787058022\n",
      "Current iteration=600, loss=0.24227415696543095\n",
      "Current iteration=700, loss=0.24801066506027328\n",
      "Current iteration=800, loss=0.24194129964823735\n",
      "Current iteration=900, loss=0.24888557069293624\n",
      "Current iteration=1000, loss=0.24211734755104491\n",
      "Current iteration=1100, loss=0.24787888264098157\n",
      "Current iteration=1200, loss=0.24183521074562278\n",
      "Current iteration=1300, loss=0.24886487760572557\n",
      "Current iteration=1400, loss=0.2420684023914077\n",
      "Current iteration=1500, loss=0.24776977394316002\n",
      "Current iteration=1600, loss=0.2417791215034302\n",
      "Current iteration=1700, loss=0.24887336007689037\n",
      "Current iteration=1800, loss=0.24204755752488158\n",
      "Current iteration=1900, loss=0.2477085792901911\n",
      "Current iteration=2000, loss=0.24174981088697015\n",
      "Current iteration=2100, loss=0.24888072351681856\n",
      "Current iteration=2200, loss=0.2420372321307929\n",
      "Current iteration=2300, loss=0.2476752895957397\n",
      "Current iteration=2400, loss=0.24173407885398623\n",
      "Current iteration=2500, loss=0.2488853817884799\n",
      "Current iteration=2600, loss=0.2420317835999499\n",
      "Current iteration=2700, loss=0.2476569669217501\n",
      "Current iteration=2800, loss=0.24172544253925968\n",
      "Current iteration=2900, loss=0.24888810031069386\n",
      "Current iteration=3000, loss=0.24202879490101553\n",
      "Current iteration=3100, loss=0.2476467697722107\n",
      "Current iteration=3200, loss=0.24172062479549924\n",
      "Current iteration=3300, loss=0.24888963191421637\n",
      "Current iteration=3400, loss=0.24202711293992146\n",
      "Current iteration=3500, loss=0.24764104449567714\n",
      "Current iteration=3600, loss=0.2417179055786338\n",
      "Current iteration=3700, loss=0.24889047884146495\n",
      "Current iteration=3800, loss=0.24202614964432886\n",
      "Current iteration=3900, loss=0.24763780689584036\n",
      "Current iteration=4000, loss=0.2417163569574236\n",
      "Current iteration=4100, loss=0.2488909418298592\n",
      "Current iteration=4200, loss=0.24202559098614496\n",
      "Current iteration=4300, loss=0.2476359648658118\n",
      "Current iteration=4400, loss=0.24171546852819545\n",
      "Current iteration=4500, loss=0.24889119284650257\n",
      "Current iteration=4600, loss=0.24202526390157347\n",
      "Current iteration=4700, loss=0.2476349111423485\n",
      "Current iteration=4800, loss=0.24171495562648077\n",
      "Current iteration=4900, loss=0.24889132795190577\n",
      "Current iteration=5000, loss=0.24202507092286618\n",
      "Current iteration=5100, loss=0.2476343053483493\n",
      "Current iteration=5200, loss=0.2417146578402814\n",
      "Current iteration=5300, loss=0.24889140010621816\n",
      "Current iteration=5400, loss=0.242024956314257\n",
      "Current iteration=5500, loss=0.2476339554340308\n",
      "Current iteration=5600, loss=0.24171448403711393\n",
      "Current iteration=5700, loss=0.2488914382738964\n",
      "Current iteration=5800, loss=0.24202488784560428\n",
      "Current iteration=5900, loss=0.24763375241375618\n",
      "Current iteration=6000, loss=0.2417143820902291\n",
      "Current iteration=6100, loss=0.24889145820746578\n",
      "Current iteration=6200, loss=0.24202484671667054\n",
      "Current iteration=6300, loss=0.24763363411527364\n",
      "Current iteration=6400, loss=0.24171432200514553\n",
      "Current iteration=6500, loss=0.24889146843344706\n",
      "Current iteration=6600, loss=0.2420248218820302\n",
      "Current iteration=6700, loss=0.2476335648982003\n",
      "Current iteration=6800, loss=0.24171428642824574\n",
      "Current iteration=6900, loss=0.24889147354404584\n",
      "Current iteration=7000, loss=0.24202480681152072\n",
      "Current iteration=7100, loss=0.24763352423689292\n",
      "Current iteration=7200, loss=0.24171426526796239\n",
      "Current iteration=7300, loss=0.24889147599732722\n",
      "Current iteration=7400, loss=0.24202479762231596\n",
      "Current iteration=7500, loss=0.2476335002580213\n",
      "Current iteration=7600, loss=0.24171425262710605\n",
      "Current iteration=7700, loss=0.24889147709821163\n",
      "Current iteration=7800, loss=0.24202479199327462\n",
      "Current iteration=7900, loss=0.2476334860640148\n",
      "Current iteration=8000, loss=0.2417142450433158\n",
      "Current iteration=8100, loss=0.24889147753156418\n",
      "Current iteration=8200, loss=0.24202478852969378\n",
      "Current iteration=8300, loss=0.24763347763137183\n",
      "Current iteration=8400, loss=0.2417142404744749\n",
      "Current iteration=8500, loss=0.24889147765102512\n",
      "Current iteration=8600, loss=0.24202478638938119\n",
      "Current iteration=8700, loss=0.24763347260375398\n",
      "Current iteration=8800, loss=0.24171423771076905\n",
      "Current iteration=8900, loss=0.2488914776349053\n",
      "Current iteration=9000, loss=0.24202478506132832\n",
      "Current iteration=9100, loss=0.2476334695958711\n",
      "Current iteration=9200, loss=0.24171423603235218\n",
      "Current iteration=9300, loss=0.2488914775699376\n",
      "Current iteration=9400, loss=0.24202478423403465\n",
      "Current iteration=9500, loss=0.2476334677902671\n",
      "Current iteration=9600, loss=0.2417142350090932\n",
      "Current iteration=9700, loss=0.2488914774958656\n",
      "Current iteration=9800, loss=0.24202478371674457\n",
      "Current iteration=9900, loss=0.24763346670280179\n",
      "loss=0.24057736278196898\n"
     ]
    }
   ],
   "source": [
    "lambda_ = 10e-4\n",
    "w_reg,loss_reg= reg_logistic_regression(y_train, tx_tr, lambda_, initial_w, max_iters, gamma)"
   ]
  },
  {
   "cell_type": "code",
   "execution_count": 62,
   "metadata": {},
   "outputs": [
    {
     "data": {
      "text/plain": [
       "(391, 1)"
      ]
     },
     "execution_count": 62,
     "metadata": {},
     "output_type": "execute_result"
    }
   ],
   "source": [
    "w_reg.shape"
   ]
  },
  {
   "attachments": {},
   "cell_type": "markdown",
   "metadata": {},
   "source": [
    "## Feature expansion"
   ]
  },
  {
   "cell_type": "code",
   "execution_count": 50,
   "metadata": {},
   "outputs": [
    {
     "ename": "NameError",
     "evalue": "name 'build_poly' is not defined",
     "output_type": "error",
     "traceback": [
      "\u001b[1;31m---------------------------------------------------------------------------\u001b[0m",
      "\u001b[1;31mNameError\u001b[0m                                 Traceback (most recent call last)",
      "Cell \u001b[1;32mIn[50], line 1\u001b[0m\n\u001b[1;32m----> 1\u001b[0m build_poly(x_train, \u001b[38;5;241m4\u001b[39m)\n",
      "\u001b[1;31mNameError\u001b[0m: name 'build_poly' is not defined"
     ]
    }
   ],
   "source": [
    "build_poly(x_train, 4)"
   ]
  },
  {
   "attachments": {},
   "cell_type": "markdown",
   "metadata": {},
   "source": [
    "## Test and Accuracy"
   ]
  },
  {
   "cell_type": "code",
   "execution_count": 52,
   "metadata": {},
   "outputs": [],
   "source": [
    "\n",
    "#tx_te=np.c_[np.ones((x_test.shape[0], 1)), x_test]"
   ]
  },
  {
   "cell_type": "code",
   "execution_count": 53,
   "metadata": {},
   "outputs": [
    {
     "data": {
      "text/plain": [
       "(109379, 322)"
      ]
     },
     "execution_count": 53,
     "metadata": {},
     "output_type": "execute_result"
    }
   ],
   "source": [
    "tx_te.shape"
   ]
  },
  {
   "cell_type": "code",
   "execution_count": 54,
   "metadata": {},
   "outputs": [
    {
     "data": {
      "text/plain": [
       "(66, 1)"
      ]
     },
     "execution_count": 54,
     "metadata": {},
     "output_type": "execute_result"
    }
   ],
   "source": [
    "w.shape"
   ]
  },
  {
   "cell_type": "code",
   "execution_count": 55,
   "metadata": {},
   "outputs": [
    {
     "ename": "NameError",
     "evalue": "name 'y_te' is not defined",
     "output_type": "error",
     "traceback": [
      "\u001b[0;31m---------------------------------------------------------------------------\u001b[0m",
      "\u001b[0;31mNameError\u001b[0m                                 Traceback (most recent call last)",
      "Cell \u001b[0;32mIn[55], line 1\u001b[0m\n\u001b[0;32m----> 1\u001b[0m y_te\u001b[39m=\u001b[39mnp\u001b[39m.\u001b[39mwhere(y_te\u001b[39m==\u001b[39m\u001b[39m-\u001b[39m\u001b[39m1\u001b[39m, \u001b[39m0\u001b[39m, y_te)\n",
      "\u001b[0;31mNameError\u001b[0m: name 'y_te' is not defined"
     ]
    }
   ],
   "source": [
    "y_te=np.where(y_te==-1, 0, y_te)"
   ]
  },
  {
   "cell_type": "code",
   "execution_count": 245,
   "metadata": {},
   "outputs": [],
   "source": [
    "y_pred=apply_model(tx_te, w)"
   ]
  },
  {
   "cell_type": "code",
   "execution_count": 246,
   "metadata": {},
   "outputs": [],
   "source": [
    "#Calculate accuracy\n",
    "correct_predictions = np.sum(y_pred == y_te)\n",
    "total_samples = len(y_te)\n",
    "accuracy = correct_predictions / total_samples"
   ]
  },
  {
   "cell_type": "code",
   "execution_count": 247,
   "metadata": {},
   "outputs": [
    {
     "data": {
      "text/plain": [
       "0.3508144616607072"
      ]
     },
     "execution_count": 247,
     "metadata": {},
     "output_type": "execute_result"
    }
   ],
   "source": [
    "compute_f1_score(y_te, y_pred)"
   ]
  },
  {
   "cell_type": "code",
   "execution_count": 248,
   "metadata": {},
   "outputs": [
    {
     "name": "stdout",
     "output_type": "stream",
     "text": [
      "0.8506102671156689\n"
     ]
    }
   ],
   "source": [
    "print(accuracy)"
   ]
  },
  {
   "attachments": {},
   "cell_type": "markdown",
   "metadata": {},
   "source": [
    "## Test"
   ]
  },
  {
   "cell_type": "code",
   "execution_count": 63,
   "metadata": {},
   "outputs": [],
   "source": [
    "xt=replace_nan_by_mean(x_test)"
   ]
  },
  {
   "cell_type": "code",
   "execution_count": 64,
   "metadata": {},
   "outputs": [
    {
     "data": {
      "text/plain": [
       "(109379, 321)"
      ]
     },
     "execution_count": 64,
     "metadata": {},
     "output_type": "execute_result"
    }
   ],
   "source": [
    "x_test.shape"
   ]
  },
  {
   "cell_type": "code",
   "execution_count": 65,
   "metadata": {},
   "outputs": [
    {
     "name": "stdout",
     "output_type": "stream",
     "text": [
      "65\n"
     ]
    }
   ],
   "source": [
    "xt_filtered=filtering_2(xt, test_data_path)"
   ]
  },
  {
   "cell_type": "code",
   "execution_count": 66,
   "metadata": {},
   "outputs": [
    {
     "data": {
      "text/plain": [
       "(109379, 65)"
      ]
     },
     "execution_count": 66,
     "metadata": {},
     "output_type": "execute_result"
    }
   ],
   "source": [
    "xt_filtered.shape"
   ]
  },
  {
   "cell_type": "code",
   "execution_count": 67,
   "metadata": {},
   "outputs": [],
   "source": [
    "augmented_data_test=feature_expansion(xt_filtered, 5)"
   ]
  },
  {
   "cell_type": "code",
   "execution_count": 68,
   "metadata": {},
   "outputs": [
    {
     "data": {
      "text/plain": [
       "(109379, 390)"
      ]
     },
     "execution_count": 68,
     "metadata": {},
     "output_type": "execute_result"
    }
   ],
   "source": [
    "augmented_data_test.shape"
   ]
  },
  {
   "cell_type": "code",
   "execution_count": 69,
   "metadata": {},
   "outputs": [],
   "source": [
    "\n",
    "xt_standardized=standardize(augmented_data_test)\n",
    "xtest=np.c_[np.ones((xt.shape[0], 1)), xt_standardized]\n"
   ]
  },
  {
   "cell_type": "code",
   "execution_count": 70,
   "metadata": {},
   "outputs": [
    {
     "data": {
      "text/plain": [
       "(109379, 391)"
      ]
     },
     "execution_count": 70,
     "metadata": {},
     "output_type": "execute_result"
    }
   ],
   "source": [
    "xtest.shape"
   ]
  },
  {
   "cell_type": "code",
   "execution_count": 71,
   "metadata": {},
   "outputs": [],
   "source": [
    "predictions=apply_model(xtest, w_reg)\n",
    "predictions=np.where(predictions==0,-1, predictions)"
   ]
  },
  {
   "cell_type": "code",
   "execution_count": 72,
   "metadata": {},
   "outputs": [
    {
     "data": {
      "text/plain": [
       "array([[-1],\n",
       "       [-1],\n",
       "       [-1],\n",
       "       ...,\n",
       "       [-1],\n",
       "       [-1],\n",
       "       [-1]])"
      ]
     },
     "execution_count": 72,
     "metadata": {},
     "output_type": "execute_result"
    }
   ],
   "source": [
    "predictions\n"
   ]
  },
  {
   "cell_type": "code",
   "execution_count": 73,
   "metadata": {},
   "outputs": [],
   "source": [
    "create_csv_submission(test_ids, predictions, 'predictions_LR_0.2_5.csv')"
   ]
  },
  {
   "cell_type": "code",
   "execution_count": null,
   "metadata": {},
   "outputs": [],
   "source": []
  }
 ],
 "metadata": {
  "kernelspec": {
   "display_name": "Python 3 (ipykernel)",
   "language": "python",
   "name": "python3"
  },
  "language_info": {
   "codemirror_mode": {
    "name": "ipython",
    "version": 3
   },
   "file_extension": ".py",
   "mimetype": "text/x-python",
   "name": "python",
   "nbconvert_exporter": "python",
   "pygments_lexer": "ipython3",
   "version": "3.9.16"
  }
 },
 "nbformat": 4,
 "nbformat_minor": 2
}
